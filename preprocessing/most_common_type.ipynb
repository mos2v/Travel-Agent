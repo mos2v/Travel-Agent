{
 "cells": [
  {
   "cell_type": "code",
   "execution_count": 24,
   "metadata": {},
   "outputs": [],
   "source": [
    "from collections import Counter\n",
    "import pandas as pd\n",
    "import os\n",
    "import ast"
   ]
  },
  {
   "cell_type": "code",
   "execution_count": 25,
   "metadata": {},
   "outputs": [
    {
     "name": "stdout",
     "output_type": "stream",
     "text": [
      "<class 'pandas.core.frame.DataFrame'>\n",
      "RangeIndex: 4128 entries, 0 to 4127\n",
      "Data columns (total 20 columns):\n",
      " #   Column                                   Non-Null Count  Dtype  \n",
      "---  ------                                   --------------  -----  \n",
      " 0   Unnamed: 0                               4128 non-null   int64  \n",
      " 1   id                                       4128 non-null   object \n",
      " 2   types                                    4126 non-null   object \n",
      " 3   internationalPhoneNumber                 2594 non-null   object \n",
      " 4   formattedAddress                         4128 non-null   object \n",
      " 5   rating                                   3753 non-null   float64\n",
      " 6   googleMapsUri                            4128 non-null   object \n",
      " 7   websiteUri                               1152 non-null   object \n",
      " 8   userRatingCount                          3753 non-null   float64\n",
      " 9   primaryType                              4070 non-null   object \n",
      " 10  shortFormattedAddress                    4126 non-null   object \n",
      " 11  location.latitude                        4128 non-null   float64\n",
      " 12  location.longitude                       4128 non-null   float64\n",
      " 13  regularOpeningHours.weekdayDescriptions  2968 non-null   object \n",
      " 14  displayName.text                         4128 non-null   object \n",
      " 15  displayName.languageCode                 4128 non-null   object \n",
      " 16  primaryTypeDisplayName.text              4070 non-null   object \n",
      " 17  priceRange.startPrice.units              1183 non-null   float64\n",
      " 18  priceRange.endPrice.units                1123 non-null   float64\n",
      " 19  priceLevel                               882 non-null    object \n",
      "dtypes: float64(6), int64(1), object(13)\n",
      "memory usage: 645.1+ KB\n"
     ]
    }
   ],
   "source": [
    "df = pd.read_csv(os.path.abspath('../data/places_details.csv'))\n",
    "df.info()"
   ]
  },
  {
   "cell_type": "code",
   "execution_count": 26,
   "metadata": {},
   "outputs": [
    {
     "data": {
      "text/plain": [
       "[('point_of_interest', 4120),\n",
       " ('establishment', 4120),\n",
       " ('food', 2613),\n",
       " ('restaurant', 1540),\n",
       " ('cafe', 1195),\n",
       " ('tourist_attraction', 764),\n",
       " ('store', 697),\n",
       " ('food_store', 618),\n",
       " ('coffee_shop', 569),\n",
       " ('museum', 273),\n",
       " ('art_gallery', 269),\n",
       " ('fast_food_restaurant', 187),\n",
       " ('seafood_restaurant', 138),\n",
       " ('historical_place', 133),\n",
       " ('historical_landmark', 124),\n",
       " ('barbecue_restaurant', 114),\n",
       " ('park', 70),\n",
       " ('breakfast_restaurant', 68),\n",
       " ('japanese_restaurant', 68),\n",
       " ('pizza_restaurant', 52)]"
      ]
     },
     "execution_count": 26,
     "metadata": {},
     "output_type": "execute_result"
    }
   ],
   "source": [
    "df['types'] = df['types'].fillna(\"[]\").apply(ast.literal_eval)\n",
    "category_counts = Counter([cat for sublist in df['types'] for cat in sublist])\n",
    "\n",
    "# Get the top 20 most common categories\n",
    "top_20_categories = category_counts.most_common(20)\n",
    "top_20_categories"
   ]
  },
  {
   "cell_type": "code",
   "execution_count": 27,
   "metadata": {},
   "outputs": [
    {
     "data": {
      "text/plain": [
       "primaryTypeDisplayName.text\n",
       "Restaurant              829\n",
       "Tourist Attraction      621\n",
       "Cafe                    598\n",
       "Coffee Shop             513\n",
       "Museum                  258\n",
       "Art Gallery             249\n",
       "Seafood Restaurant      126\n",
       "Barbecue Restaurant     109\n",
       "Historical Landmark     108\n",
       "Fast Food Restaurant     99\n",
       "Japanese Restaurant      55\n",
       "Pizza Restaurant         38\n",
       "Italian Restaurant       32\n",
       "Park                     31\n",
       "Monument                 24\n",
       "Sandwich Shop            24\n",
       "Store                    17\n",
       "Home Goods Store         17\n",
       "Dessert Shop             17\n",
       "Furniture Store          16\n",
       "Name: count, dtype: int64"
      ]
     },
     "execution_count": 27,
     "metadata": {},
     "output_type": "execute_result"
    }
   ],
   "source": [
    "primary_type_counts = df['primaryTypeDisplayName.text'].value_counts()\n",
    "\n",
    "# Get the top 20 most common categories\n",
    "top_20_primary_types = primary_type_counts.head(20)\n",
    "top_20_primary_types"
   ]
  }
 ],
 "metadata": {
  "kernelspec": {
   "display_name": "run-W-GPU",
   "language": "python",
   "name": "python3"
  },
  "language_info": {
   "codemirror_mode": {
    "name": "ipython",
    "version": 3
   },
   "file_extension": ".py",
   "mimetype": "text/x-python",
   "name": "python",
   "nbconvert_exporter": "python",
   "pygments_lexer": "ipython3",
   "version": "3.9.19"
  }
 },
 "nbformat": 4,
 "nbformat_minor": 2
}
