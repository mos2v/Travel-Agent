{
 "cells": [
  {
   "cell_type": "markdown",
   "metadata": {},
   "source": [
    "# Libraries"
   ]
  },
  {
   "cell_type": "code",
   "execution_count": 1,
   "metadata": {},
   "outputs": [],
   "source": [
    "import os\n",
    "import sys\n",
    "import pandas as pd\n",
    "import numpy as np\n",
    "from pathlib import Path\n",
    "from langchain_core.documents import Document\n",
    "from langchain_huggingface import HuggingFaceEmbeddings\n",
    "from dotenv import load_dotenv\n",
    "from langchain_community.vectorstores import FAISS\n",
    "from langchain.prompts import PromptTemplate\n",
    "from langchain.chat_models import init_chat_model\n",
    "from langchain_nvidia_ai_endpoints import ChatNVIDIA\n",
    "from typing import List, Optional\n",
    "from pydantic import BaseModel, Field\n",
    "from tqdm import tqdm\n",
    "from langchain_core.caches import InMemoryCache\n"
   ]
  },
  {
   "cell_type": "markdown",
   "metadata": {},
   "source": [
    "# Load .env\n"
   ]
  },
  {
   "cell_type": "code",
   "execution_count": 2,
   "metadata": {},
   "outputs": [
    {
     "data": {
      "text/plain": [
       "True"
      ]
     },
     "execution_count": 2,
     "metadata": {},
     "output_type": "execute_result"
    }
   ],
   "source": [
    "load_dotenv()"
   ]
  },
  {
   "cell_type": "markdown",
   "metadata": {},
   "source": [
    "# Setting Langsmith tracing"
   ]
  },
  {
   "cell_type": "code",
   "execution_count": 3,
   "metadata": {},
   "outputs": [],
   "source": [
    "os.environ[\"LANGCHAIN_TRACING_V2\"] = \"true\"\n",
    "os.environ[\"LANGCHAIN_ENDPOINT\"] = \"https://api.smith.langchain.com\"\n",
    "os.environ[\"LANGCHAIN_PROJECT\"] = \"Rag_travel_planner_v1.0\""
   ]
  },
  {
   "cell_type": "markdown",
   "metadata": {},
   "source": [
    "# Load data Dfs"
   ]
  },
  {
   "cell_type": "code",
   "execution_count": null,
   "metadata": {},
   "outputs": [],
   "source": [
    "landmark_prices = pd.read_csv(os.path.abspath('../data/egypt_v0.1.csv'))\n",
    "places_api_data = pd.read_csv(os.path.abspath('../data/places_details.csv'))\n"
   ]
  },
  {
   "cell_type": "markdown",
   "metadata": {},
   "source": [
    "# Store Dfs in langchain Documents"
   ]
  },
  {
   "cell_type": "code",
   "execution_count": 5,
   "metadata": {},
   "outputs": [],
   "source": [
    "documents = []\n",
    "\n",
    "for _, row in landmark_prices.iterrows():\n",
    "    text = f\"\"\"\n",
    "    Governorate: {row['Governorate/City']}\n",
    "    Site: {row['Place']}\n",
    "    Egyptian Ticket: {row['Egyptian']} EGP\n",
    "    Egyptian Student Ticket: {row['EgyptianStudent']} EGP\n",
    "    Foreign Ticket: {row['Foreign']} EGP\n",
    "    Foreign Student Ticket: {row['ForeignStudent']} EGP\n",
    "    Visiting Times: {row['VisitingTimes']}\n",
    "    \"\"\"\n",
    "    documents.append(Document(page_content=text, metadata={\"source\": 'landmark_prices'}))"
   ]
  },
  {
   "cell_type": "code",
   "execution_count": 6,
   "metadata": {},
   "outputs": [],
   "source": [
    "for _, row in places_api_data.iterrows():\n",
    "    text = f\"\"\"\n",
    "    Place Name: {row['displayName.text']}\n",
    "    Place Primary Type: {row['primaryTypeDisplayName.text']}\n",
    "    Place Types: {row['types']}\n",
    "    Place Price: {row['priceRange.endPrice.units']} EGP\n",
    "    Place Price Level: {row['priceLevel']}\n",
    "    Place Location: {row['formattedAddress']}\n",
    "    Place Star Rating: {row['rating']}\n",
    "    Place website: {row['websiteUri']}\n",
    "    \"\"\"\n",
    "    documents.append(Document(page_content=text, metadata={\"source\": 'Places_api', 'Type': f\"{row['primaryTypeDisplayName.text']}\", 'city': f\"{row['formattedAddress']}\"}))\n",
    "    "
   ]
  },
  {
   "cell_type": "markdown",
   "metadata": {},
   "source": [
    "# Embedd Documents (text ---> vectors of numbers)"
   ]
  },
  {
   "cell_type": "code",
   "execution_count": 7,
   "metadata": {},
   "outputs": [
    {
     "name": "stderr",
     "output_type": "stream",
     "text": [
      "c:\\Users\\mosai\\anaconda3\\envs\\run-W-GPU\\lib\\site-packages\\tqdm\\auto.py:21: TqdmWarning: IProgress not found. Please update jupyter and ipywidgets. See https://ipywidgets.readthedocs.io/en/stable/user_install.html\n",
      "  from .autonotebook import tqdm as notebook_tqdm\n"
     ]
    }
   ],
   "source": [
    "embeddings = HuggingFaceEmbeddings(model_name=\"sentence-transformers/all-mpnet-base-v2\")\n"
   ]
  },
  {
   "cell_type": "code",
   "execution_count": 8,
   "metadata": {},
   "outputs": [],
   "source": [
    "path = Path('faiss_mpnetv2_v1.0')\n",
    "\n",
    "if not path.exists():\n",
    "    vectorstore = FAISS.from_documents(documents, embeddings)\n",
    "    vectorstore.save_local('faiss_mpnetv2_v1.0')\n",
    "    \n",
    "else:\n",
    "    vectorstore = FAISS.load_local('faiss_mpnetv2_v1.0', embeddings, allow_dangerous_deserialization=True)\n",
    "\n",
    "\n",
    "retriever = vectorstore.as_retriever(search_kwargs={\"k\": 50})"
   ]
  },
  {
   "cell_type": "markdown",
   "metadata": {},
   "source": [
    "# Instantiating the LLM model with Groq provider."
   ]
  },
  {
   "cell_type": "code",
   "execution_count": 9,
   "metadata": {},
   "outputs": [],
   "source": [
    "# ChatNVIDIA.BaseCache = InMemoryCache\n",
    "\n",
    "# ChatNVIDIA.model_rebuild()\n",
    "\n",
    "# llm_model = ChatNVIDIA(model=\"meta/llama-3.1-405b-instruct\", temperature=0)\n",
    "# llm_model = ChatNVIDIA(model=\"meta/llama-3.3-70b-instruct\", temperature=0)\n",
    "# llm_model = ChatNVIDIA(model=\"microsoft/phi-4-mini-instruct\", temperature=0)"
   ]
  },
  {
   "cell_type": "code",
   "execution_count": 10,
   "metadata": {},
   "outputs": [],
   "source": [
    "# llm_model = init_chat_model(\"llama-3.3-70b-versatile\", model_provider=\"groq\", temperature=0)\n",
    "# llm_model = init_chat_model('deepseek-r1-distill-llama-70b', model_provider='groq', temperature=0)\n",
    "llm_model = init_chat_model(\"qwen-qwq-32b\", model_provider='groq', temperature=0)\n",
    "# llm_model = init_chat_model(\"llama-3.3-70b-specdec\", model_provider=\"groq\", temperature=0)\n"
   ]
  },
  {
   "cell_type": "code",
   "execution_count": 11,
   "metadata": {},
   "outputs": [],
   "source": [
    "# llm_model = init_chat_model('gemini-2.0-flash', model_provider='google_genai', temperature=0)"
   ]
  },
  {
   "cell_type": "markdown",
   "metadata": {},
   "source": [
    "# Prompt Template"
   ]
  },
  {
   "cell_type": "code",
   "execution_count": 12,
   "metadata": {},
   "outputs": [],
   "source": [
    "prompt_template = PromptTemplate(\n",
    "    input_variables=[\"context\", \"user_query\", \"favorite_places\", \"visitor_type\", \"num_days\", \"budget\"],\n",
    "    template=\"\"\"You are a helpful travel planner AI.\n",
    "Use the context below, which contains information about ticket prices, place descriptions, restaurant details, and art gallery information.\n",
    "\n",
    "Context:\n",
    "{context}\n",
    "\n",
    "User Query:\n",
    "{user_query}\n",
    "\n",
    "Additional Preferences:\n",
    "- Favorite types of places: {favorite_places}\n",
    "- Visitor type: {visitor_type} (e.g., Egyptian, Egyptian student, Foreign, or foreign student)\n",
    "- Number of travel days: {num_days}\n",
    "- Overall budget for all days: {budget} EGP\n",
    "- Exclude hotels from the plan.\n",
    "- Ensure that the itinerary includes at least 3 meals per day.\n",
    "\n",
    "Based on the above, return a detailed {num_days}-day travel itinerary with approximate costs and suggestions. If some details are missing, make reasonable assumptions and indicate them.\n",
    "\"\"\"\n",
    ")\n"
   ]
  },
  {
   "cell_type": "markdown",
   "metadata": {},
   "source": [
    "# Structured Output"
   ]
  },
  {
   "cell_type": "code",
   "execution_count": 13,
   "metadata": {},
   "outputs": [],
   "source": [
    "json_schema = {\n",
    "    \"title\": \"TravelItinerary\",\n",
    "    \"description\": \"A structured travel itinerary for the user.\",\n",
    "    \"type\": \"object\",\n",
    "    \"properties\": {\n",
    "        \"days\": {\n",
    "            \"type\": \"array\",\n",
    "            \"description\": \"List of days with planned activities.\",\n",
    "            \"items\": {\n",
    "                \"type\": \"object\",\n",
    "                \"properties\": {\n",
    "                    \"day\": {\"type\": \"string\", \"description\": \"Theme of the Day or Day label, e.g., 'Day 1'\"},\n",
    "                    \"activities\": {\n",
    "                        \"type\": \"array\",\n",
    "                        \"des3                                           cription\": \"Activities planned for the day.\",\n",
    "                        \"items\": {\n",
    "                            \"type\": \"object\",\n",
    "                            \"properties\": {\n",
    "                                \"time\": {\"type\": \"string\", \"description\": \"Time of the activity\"},\n",
    "                                \"activity\": {\"type\": \"string\", \"description\": \"Name of the activity\"},\n",
    "                                \"location\": {\"type\": \"string\", \"description\": \"Location name\"},\n",
    "                                \"price_range\": {\"type\": \"string\", \"description\": \"Price range or cost\"},\n",
    "                            },\n",
    "                            \"required\": [\"time\", \"activity\", \"location\"]\n",
    "                        }\n",
    "                    },\n",
    "                    \"approximate_cost\": {\"type\": \"string\", \"description\": \"Total cost for the day\"}\n",
    "                },\n",
    "                \"required\": [\"day\", \"activities\", \"approximate_cost\"]\n",
    "            }\n",
    "        },\n",
    "        \"total_approximate_cost\": {\n",
    "            \"type\": \"string\",\n",
    "            \"description\": \"Total cost for the trip\"\n",
    "        },\n",
    "        \"notes\": {\n",
    "            \"type\": \"string\",\n",
    "            \"description\": \"Any additional notes or assumptions\"\n",
    "        }\n",
    "    },\n",
    "    \"required\": [\"days\", \"total_approximate_cost\"]\n",
    "}"
   ]
  },
  {
   "cell_type": "code",
   "execution_count": 14,
   "metadata": {},
   "outputs": [],
   "source": [
    "class Activity(BaseModel):\n",
    "    time: str = Field(..., description=\"Time of the activity\")\n",
    "    activity: str = Field(..., description=\"Name of the activity\")\n",
    "    location: str = Field(..., description=\"Location name\")\n",
    "    price_range: Optional[str] = Field(None, description=\"Price range or cost\")\n",
    "\n",
    "class DayPlan(BaseModel):\n",
    "    day: str = Field(..., description=\"Theme of the Day or Day label, e.g., 'Day 1'\")\n",
    "    activities: List[Activity] = Field(..., description=\"Activities planned for the day\")\n",
    "    approximate_cost: str = Field(..., description=\"Total cost for the day\")\n",
    "\n",
    "class TravelItinerary(BaseModel):\n",
    "    days: List[DayPlan] = Field(..., description=\"List of days with planned activities\")\n",
    "    total_approximate_cost: str = Field(..., description=\"Total cost for the trip\")\n",
    "    notes: Optional[str] = Field(None, description=\"Any additional notes or assumptions\")"
   ]
  },
  {
   "cell_type": "code",
   "execution_count": 15,
   "metadata": {},
   "outputs": [],
   "source": [
    "structured_llm = llm_model.with_structured_output(json_schema)\n"
   ]
  },
  {
   "cell_type": "markdown",
   "metadata": {},
   "source": [
    "# Generate a structured travel plan "
   ]
  },
  {
   "cell_type": "code",
   "execution_count": 16,
   "metadata": {},
   "outputs": [],
   "source": [
    "\n",
    "def generate_travel_plan(user_query, favorite_places, visitor_type, num_days, budget):\n",
    "    docs = retriever.invoke(user_query)\n",
    "    context_text = \"\\n\".join([doc.page_content for doc in docs])\n",
    "    prompt = prompt_template.format(\n",
    "        context=context_text,\n",
    "        user_query=user_query,\n",
    "        favorite_places=favorite_places,\n",
    "        visitor_type=visitor_type,\n",
    "        num_days=num_days,\n",
    "        budget=budget\n",
    "    )\n",
    "    response = llm_model.invoke(prompt)\n",
    "    return response\n"
   ]
  },
  {
   "cell_type": "code",
   "execution_count": 17,
   "metadata": {},
   "outputs": [],
   "source": [
    "user_query = \"Plan a 3-day trip in Luxor with visits to cultural sites, art galleries, and dining(restaurents) options.\"\n",
    "favorite_places = \"Cultural sites, historical landmarks, art galleries\"\n",
    "visitor_type = \"Foreign\"  # or \"Egyptian\", \"Egyptian student\", \"foreign student\"\n",
    "num_days = \"3\"\n",
    "budget = \"5000\"  # Overall budget in EGP\n"
   ]
  },
  {
   "cell_type": "code",
   "execution_count": 18,
   "metadata": {},
   "outputs": [
    {
     "name": "stdout",
     "output_type": "stream",
     "text": [
      "content='\\n<think>\\nOkay, let\\'s tackle this user\\'s request. They want a 3-day trip in Luxor focusing on cultural sites, art galleries, and dining. They\\'re a foreign visitor with a budget of 5000 EGP, excluding hotels. Need to include at least 3 meals a day.\\n\\nFirst, I need to go through the provided context to find the relevant places. The user\\'s favorite types are cultural sites, historical landmarks, and art galleries. So I should prioritize those. Let\\'s see the sites listed under Governorate: Luxor. There\\'s Luxor Museum, Karnak Temples, Luxor Temple, Valley of the Kings, Temple of Hatshepsut, etc. Also, the art galleries like Luxor Art Gallery and Nobles Art Gallery.\\n\\nStarting with Day 1. Maybe start with the big attractions. Luxor Temple is a must. The ticket for Luxor Temple for foreigners is 500 EGP. Then Karnak Temple, but wait, the user mentioned Sphinx Avenue which requires tickets for both Karnak and Luxor Temples. Wait, the Sphinx Avenue entry requires purchasing the Karnak and Luxor Temple tickets. The user needs to know that. Let me check the ticket info. The Sphinx Avenue\\'s ticket note says you need to buy Karnak and Luxor Temple tickets. So maybe group those together.\\n\\nDay 1: Morning at Luxor Temple and Sphinx Avenue. Then maybe the Luxor Museum. The museum\\'s foreign ticket is 400 EGP. Then lunch at a restaurant. Looking at the restaurants, Blend Cafe has a price of 200 EGP. Maybe that\\'s a good option. Afternoon could be the Luxor Art Gallery. Then dinner at another restaurant. Need to check prices. Maybe Café & Restaurant Maratonga has a price of 200 EGP. Wait, their price is 200, but the price level is inexpensive. Hmm, need to make sure the total stays under 5000.\\n\\nWait, the total budget is 5000 EGP for 3 days. Let\\'s calculate the costs. Each day\\'s expenses should be around 1666 EGP. But the main expenses are the tickets. Let\\'s see:\\n\\nLuxor Temple: 500 EGP (foreign)\\nKarnak Temples: The ticket for Karnak is part of the Sphinx Avenue requirement. Wait, the Karnak Temples\\' ticket info: under Governorate: Luxor, Site: Karnak Temples. Wait, actually looking through the context again. Wait, the Karnak Temples entry isn\\'t listed in the provided data. Wait, looking at the context entries:\\n\\nWait, the user\\'s context includes entries like \"Governorate: Luxor, Site: Luxor Temple\" with ticket prices. Let me check the Karnak Temples entry. Scanning through the context:\\n\\nAh, here\\'s one: \"Governorate: Luxor, Site: Karnak Temples\" – Egyptian Ticket:40, Egyptian Student:20, Foreign:600, Student:300. So foreign ticket is 600 EGP. Wait, that\\'s a lot. Wait, but the user\\'s total budget is 5000. Let me check again.\\n\\nWait, the user\\'s total budget is 5000 EGP for 3 days. Let me see:\\n\\nWait, the user is a foreign visitor, so their tickets will be at the foreign prices. Let me list all the sites they might visit and their ticket prices.\\n\\nDay 1:\\n\\n- Luxor Temple: 500 EGP\\n- Karnak Temples: 600 EGP (since Sphinx Avenue requires these two)\\n- Luxor Museum: 400 EGP\\nTotal for Day 1 tickets: 500 + 600 + 400 = 1500 EGP\\n\\nThat\\'s already 1500, which is a big chunk. But maybe that\\'s okay. Let\\'s see the other days.\\n\\nDay 2 could include Valley of the Kings, which is 750 EGP. That\\'s another big expense. Day 3 maybe Temple of Hatshepsut (440 EGP) and others. Let\\'s see total:\\n\\nDay 1: 1500\\n\\nDay 2: Valley of the Kings (750) plus maybe others?\\n\\nWait, need to plan 3 days with all the cultural sites. Let me see the main attractions:\\n\\nDay 1:\\n\\n- Luxor Temple (500)\\n- Karnak Temples (600)\\n- Luxor Museum (400)\\nTotal: 1500\\n\\nDay 2:\\n\\n- Valley of the Kings (750)\\n- Temple of Hatshepsut (440)\\n- Maybe Temple of Seti I (200) or others?\\n\\nWait, the user also wants art galleries. The Luxor Art Gallery and Nobles Art Gallery. The Luxor Art Gallery has a website, so maybe it\\'s free? The context entries for the art galleries don\\'t have ticket prices listed. The Place Price is nan, so maybe they\\'re free or have a small entry fee. Need to check the context again.\\n\\nLooking at Place Name: Luxor Art Gallery • Egypt: Place Price: nan, Price Level: nan. So maybe free or nominal. The Nobles Art Gallery (Place Name: Nobles Art Gallery • Egypt) also has no price. So maybe those are free. So that\\'s good for budget.\\n\\nSo, for Day 1, the main costs are the temples and museum. Then, the other days can have lower costs.\\n\\nDining: The restaurants have prices listed. For example, Blend Cafe has a price of 200 EGP. The Place Price for Blend Cafe is 200.0. So that\\'s per meal? Or total? The context says \"Place Price: 200.0\" for Blend Cafe. Maybe that\\'s the average price per person? Assuming that, then 3 meals a day would be around 200*3=600 per day? But need to check other options.\\n\\nWait, the user\\'s total budget is 5000 EGP. Let\\'s see:\\n\\nTotal estimated costs for tickets:\\n\\nDay 1: 1500\\n\\nDay 2: Valley of the Kings (750) + Hatshepsut (440) + maybe others? Let\\'s say 1190.\\n\\nDay 3: Maybe Temple of Seti I (200?), but looking at the sites:\\n\\nLooking at other sites:\\n\\nTemple of Merenptah: foreign ticket 100. Temple of Mut: 200. Qurnet Murai: 120. But maybe focus on major sites.\\n\\nAlternatively, maybe Day 3 could include the Temple of Hatshepsut (440) and others. Wait, maybe the user wants to spread out the expensive tickets.\\n\\nWait, let me structure the days to spread out the high-cost tickets.\\n\\nDay 1:\\n\\n- Luxor Temple (500)\\n- Karnak Temples (600)\\n- Luxor Museum (400)\\nTotal tickets: 1500\\n\\nDining: 3 meals. Let\\'s say each meal around 200-300. Let\\'s estimate 600 for the day. So total day 1: 1500 + 600 = 2100.\\n\\nDay 2:\\n\\n- Valley of the Kings (750)\\n- Temple of Hatshepsut (440)\\n- Maybe Temple of Seti I (200?) Wait, looking at the data:\\n\\nLooking at the sites:\\n\\nSite: Temple of Sety I (Sety I) has Egyptian ticket 10, foreign 200. Wait, in the context:\\n\\nLooking for \"Temple of Sety I\" – in the context, there\\'s \"Governorate: Luxor, Site: Temple of Sety I\" with Foreign Ticket:200. So that\\'s 200 EGP.\\n\\nSo Day 2 could be:\\n\\n- Valley of the Kings (750)\\n- Temple of Hatshepsut (440)\\n- Temple of Seti I (200)\\nTotal tickets: 750+440+200=1390. That\\'s too much. Maybe that\\'s too expensive. Maybe need to adjust.\\n\\nAlternatively, maybe Day 2: Valley of the Kings (750) and Temple of Hatshepsut (440). Total 1190. Then maybe some free sites like the art galleries.\\n\\nDay 3:\\n\\n- Karnak Temple (600) but already visited on Day 1? Wait, no, on Day 1 they did Luxor and Karnak Temples. Wait, the Sphinx Avenue requires both Karnak and Luxor Temple tickets. So maybe those are done on Day 1.\\n\\nWait, the Sphinx Avenue\\'s note says you need to buy Karnak and Luxor Temple tickets. So those two are grouped. So maybe Day 1 is those two plus the museum.\\n\\nDay 2: Valley of the Kings (750) and Temple of Hatshepsut (440). Then maybe the Temple of Seti I (200) but that might be too much. Alternatively, maybe the Temple of Mut (200). Or others.\\n\\nAlternatively, maybe the user can\\'t afford all the big ones. Let me see the total budget. The total budget is 5000. The first day is 1500, second day 1190 (Valley of Kings and Hatshepsut), total 2690. Third day maybe 600 (Temple of Mut 200, others?), plus dining. Let\\'s see:\\n\\nTotal for three days:\\n\\nTickets:\\n\\nDay1: 1500\\n\\nDay2: 750+440=1190\\n\\nDay3: Maybe Temple of Mut (200) and others. Let\\'s say 200 + maybe others. Let\\'s say 200.\\n\\nTotal tickets: 1500+1190+200=2890. Then dining: 3 days * 600 = 1800. Total would be 2890+1800=4690. That\\'s under 5000. Maybe possible.\\n\\nAlternatively, maybe include the Valley of the Queens (110) instead of Valley of Kings? But the user might prefer the Valley of the Kings.\\n\\nAlternatively, maybe adjust the days to balance.\\n\\nAlternatively, maybe the user can visit the Sphinx Avenue (which is free if they have the two temple tickets), so that\\'s included in the temple tickets.\\n\\nNow, the art galleries: Luxor Art Gallery and Nobles Art Gallery. Those might be free or low cost. Let\\'s assume they\\'re free for now.\\n\\nDining: Need to pick restaurants with known prices. For example, Blend Cafe has a price of 200, which might be per meal? Or total? The context says \"Place Price: 200.0\" for Blend Cafe. Maybe that\\'s the average price per person. Assuming a meal there is around 200, so three meals a day would be 600. But maybe some places are cheaper. For example, Nubian House has Price Level: PRICE_LEVEL_INEXPENSIVE. Maybe 100 per meal? Let\\'s see:\\n\\nLooking at the restaurants:\\n\\n- Blend Cafe: 200 (maybe per meal)\\n- Café & Restaurant Maratonga: Price 200, Price Level: Inexpensive. Maybe 200 total for a meal?\\n- Capital Cafe: Price nan, but Star Rating 3.9. Maybe moderate.\\n- Metro Restaurant: website says Price Level Inexpensive. Maybe 100 per meal?\\n- El Tarboush: Price 200, Price Level Inexpensive. Maybe 200 per meal?\\n\\nAssuming that the average meal is around 200 EGP, three meals a day would be 600. So 3 days: 1800.\\n\\nTotal estimated total: 2890 (tickets) + 1800 (food) = 4690. Under 5000. So that\\'s okay.\\n\\nNow, structuring the days:\\n\\nDay 1:\\n\\nMorning: Luxor Temple and Sphinx Avenue (with Karnak Temple). Need to buy both tickets. Then visit the Luxor Museum. Then lunch at Blend Cafe (200). Afternoon: Luxor Art Gallery. Dinner at Café & Restaurant Maratonga (200). Total day 1: 500+600 (temples) +400 (museum) = 1500 tickets. Plus meals 600. Total day1: 2100.\\n\\nDay 2:\\n\\nMorning: Valley of the Kings (750). Then lunch at Nubian House (assuming 100 per meal, but their price is nan, but Price Level Inexpensive. Maybe 100 per meal. So lunch 100. Afternoon: Temple of Hatshepsut (440. Then dinner at another place. Maybe total tickets 750+440=1190. Meals: 300 (100*3). Total day2: 1190+300=1490. Cumulative total after two days: 2100+1490=3590.\\n\\nDay3:\\n\\nMorning: Temple of Mut (200. Then lunch at Metro Restaurant (Price Level Inexpensive, maybe 100 per meal. Afternoon: Nobles Art Gallery and maybe other galleries. Dinner at Arabia Cafe (price 100. Total tickets: 200. Meals: 300. Total day3: 200+300=500. Total overall: 3590+500=4090. That\\'s under budget. Maybe add more sites.\\n\\nAlternatively, maybe include the Temple of Seti I (200) on Day3. So adding 200 to Day3\\'s tickets: 200+200=400. Then total would be 4090+200=4290. Still under.\\n\\nAlternatively, maybe include the Temple of Merenptah (100) or others.\\n\\nAlternatively, maybe the user can visit the Colossi of Memnon, which is free (ticket 0). So that\\'s free.\\n\\nWait, the user wants cultural sites visits. Let me structure each day with the main attractions, ensuring the total stays under 5000.\\n\\nAlso, need to include art galleries. The Luxor Art Gallery and Nobles Art Gallery are key.\\n\\nLet me outline the itinerary step by step.\\n\\nDay 1:\\n\\nMorning: Luxor Temple and Karnak Temple (with Sphinx Avenue). Tickets: 500+600=1100? Wait, the user is a foreign visitor, so Luxor Temple is 500, Karnak Temples is 600. So total 1100 for those two. Plus Luxor Museum (400). Total tickets for Day1: 1100+400=1500.\\n\\nThen, afternooon: Luxor Art Gallery (free?), then maybe another site like the Temple of Mut (200). But maybe that\\'s for another day.\\n\\nWait, maybe the user can visit the Temple of Mut on Day1 afternoon. But that would add 200 to the tickets. Let me see:\\n\\nIf Day1 includes Luxor Temple (500), Karnak (600), Luxor Museum (400), and Temple of Mut (200, that\\'s 1700. That might be too much. Maybe better to split.\\n\\nAlternatively, maybe the user can visit the Temple of Hatshepsut on Day2.\\n\\nLet me proceed step by step.\\n\\nDay 1:\\n\\nMorning:\\n\\n- Visit Luxor Temple and Karnak Temple (Sphinx Avenue). Tickets: 500+600=1100.\\n\\n- Then Luxor Museum (400. Total tickets: 1500.\\n\\nLunch: Blend Cafe (200 per meal? So lunch 200.\\n\\nAfternoon:\\n\\n- Visit Luxor Art Gallery (free?), then maybe the Nobles Art Gallery (assuming free). Then dinner at Café & Restaurant Maratonga (200. So dinner 200.\\n\\nTotal meals: 200 (lunch) + 200 (dinner) + breakfast? Wait, the user wants 3 meals per day. So breakfast, lunch, dinner. Need to include all three.\\n\\nWait, the user\\'s request says \"at least 3 meals per day\". So need to account for breakfast, lunch, dinner.\\n\\nAssuming breakfast is cheaper, maybe 50 EGP, lunch 200, dinner 200. Total per day 450. So 3 days: 1350. But the previous estimate was 600 per day, which might be higher. Need to adjust.\\n\\nAlternatively, maybe breakfast is 50, lunch 150, dinner 200. Total 400 per day. Let\\'s see:\\n\\nTotal tickets: 1500 (Day1) + 750 (Valley of Kings) + 440 (Hatsshpsut) + ... Let me recalculate with this.\\n\\nAlternatively, let\\'s structure each day with meals and tickets.\\n\\nLet me try to make a detailed plan.\\n\\nDay 1:\\n\\nMorning:\\n\\n- Visit Luxor Temple and Karnak Temple (Sphinx Avenue). Tickets: 500 + 600 = 1100.\\n\\n- Then visit Luxor Museum (400. Total tickets: 1500.\\n\\nBreakfast: 50 EGP (maybe at a local place).\\n\\nLunch: Blend Cafe (200 EGP per meal? Or total? The Place Price for Blend Cafe is 200.0. Maybe that\\'s the average price per person. Assuming a meal there is 200, so lunch 200.\\n\\nAfternoon:\\n\\n- Visit Luxor Art Gallery (free?), then maybe the Nobles Art Gallery (assuming free). Then dinner at Café & Restaurant Maratonga (200 EGP per meal? Their price is 200, Price Level Inexpensive. Maybe 200 per meal. So dinner 200.\\n\\nDinner: 200.\\n\\nTotal for Day1:\\n\\nTickets: 1500\\n\\nMeals: 50 (breakfast) + 200 (lunch) + 200 (dinner) = 450.\\n\\nTotal day1: 1950.\\n\\nDay2:\\n\\nMorning:\\n\\n- Valley of the Kings (750 EGP.\\n\\n- Then Temple of Hatshepsut (440. Total tickets: 1190.\\n\\nBreakfast: 50.\\n\\nLunch: Nubian House (Price Level Inexpensive, maybe 100 per meal.\\n\\nAfternoon:\\n\\n- Maybe Temple of Merenptah (100 EGP. Or another site.\\n\\n- Visit the Nobles Art Gallery again? Or other galleries.\\n\\nDinner: Metro Restaurant (Price Level Inexpensive, maybe 100 per meal.\\n\\nTotal tickets: 1190 + 100 (Temple of Merenptah?) = 1290.\\n\\nMeals: 50 + 100 + 100 = 250. Total day2: 1290+250=1540. Cumulative: 1950+1540=3490.\\n\\nDay3:\\n\\nMorning:\\n\\n- Temple of Mut (200 EGP.\\n\\n- Temple of Seti I (200.\\n\\n- Maybe Temple of Isis (100 EGP.\\n\\nTotal tickets: 200+200+100=500.\\n\\nBreakfast: 50.\\n\\nLunch: El Tarboush (Lebanese, price nan but star rating 4.5. Maybe 200.\\n\\nDinner: Varanda Cafe (100).\\n\\nMeals: 50+200+100=350.\\n\\nTotal day3: 500+350=850.\\n\\nTotal overall: 1950+1540+850=4340. That\\'s under 5000. Maybe add more sites.\\n\\nAlternatively, include the Temple of Seti I and others.\\n\\nAlternatively, maybe the user can visit the Temple of Seti I (200) and Temple of Merenptah (100) on Day2.\\n\\nAlternatively, maybe the user can visit the Temple of Isis (100) on Day3.\\n\\nAlso, need to include the art galleries. The Luxor Art Gallery and Nobles Art Gallery are free or low cost.\\n\\nNow, let\\'s structure the itinerary with the sites and costs, making sure to include at least 3 meals each day, and total under 5000.\\n\\nAlso, need to check visiting times. For example, Luxor Museum\\'s visiting times are 9-1 and 5-8. So maybe visit in the morning before 1pm.\\n\\nLet me try to outline each day with times and costs.\\n\\nDay 1:\\n\\nMorning:\\n\\n- 9 AM: Visit Luxor Temple (foreign ticket 500). Then walk to Karnak Temple (600). But visiting times for both are 6am-5pm. So they can do both in the morning.\\n\\nWait, but the Sphinx Avenue connects them, so they can walk between them.\\n\\nThen, after visiting the temples, go to Luxor Museum (400 EGP). Open until 8pm. So after lunch, maybe.\\n\\nBreakfast: 50 EGP at a local place.\\n\\nLunch: Blend Cafe (200 EGP.\\n\\nAfternoon:\\n\\n- Visit Luxor Art Gallery (free?), then maybe the Nobles Art Gallery (assuming free). Then dinner at Café & Restaurant Maratonga (200).\\n\\nTotal Day1:\\n\\nTickets: 500+600+400=1500.\\n\\nMeals: 50+200+200=450.\\n\\nTotal day1: 1950.\\n\\nDay2:\\n\\nMorning:\\n\\n- Valley of the Kings (750 EGP.\\n\\n- Temple of Hatshepsut (440.\\n\\nBreakfast: 50.\\n\\nLunch: Nubian House (assuming 100 per meal.\\n\\nAfternoon:\\n\\n- Temple of Merenptah (100 EGP.\\n\\n- Maybe the Temple of Seti I (200.\\n\\nDinner: Metro Restaurant (100.\\n\\nTickets: 750+440+100+200=1490.\\n\\nMeals: 50+100+100=250.\\n\\nTotal day2: 1490+250=1740. Cumulative: 1950+1740=3690.\\n\\nDay3:\\n\\nMorning:\\n\\n- Temple of Mut (200.\\n\\n- Temple of Isis (100.\\n\\nBreakfast: 50.\\n\\nLunch: El Tarboush (200).\\n\\nAfternoon:\\n\\n- Nobles Art Gallery (free).\\n\\n- Maybe the Temple of Seti I if not done before.\\n\\nDinner: Varanda Cafe (100.\\n\\nTickets: 200+100=300.\\n\\nMeals: 50+200+100=350.\\n\\nTotal day3: 300+350=650.\\n\\nTotal overall: 1950+1740+650=4340. That\\'s under 5000. So there\\'s room for more.\\n\\nAlternatively, maybe include the Temple of Seti I on Day3, adding 200, making total tickets 500.\\n\\nTotal would be 4340+200=4540. Still under.\\n\\nAlternatively, maybe include the Temple of Seti I on Day2, making that day\\'s tickets 750+440+200=1390. Then Day3 can have other sites.\\n\\nAlso, need to ensure all cultural sites and art galleries are included.\\n\\nAlso, the user wants dining options. Need to pick restaurants with known prices where possible.\\n\\nNow, let\\'s structure the itinerary with times and locations.\\n\\nAlso, transportation costs? The user didn\\'t mention, so maybe assume they can walk or use local transport which is cheap.\\n\\nNow, putting it all together into a 3-day plan with approximate costs.\\n\\nAlso, the user might want to include felucca trips. The Mamoud\\'s Felucca Trips has no ticket price listed, but maybe it\\'s a tour with its own cost. The Place Price is nan, but maybe the website can give info. Since the context doesn\\'t have a price, maybe assume it\\'s 200 EGP.\\n\\nAlternatively, maybe include it on one day as an optional activity.\\n\\nBut the user\\'s main focus is cultural sites, art galleries, and dining.\\n\\nLet me proceed to draft the itinerary with the above considerations.\\n</think>\\n\\n**3-Day Luxor Cultural & Art Itinerary for Foreign Visitors (Total Budget: 5,000 EGP)**  \\n*Assumptions: Prices marked as \"nan\" are estimated based on context or local standards. Meals assume 1 person; adjust for groups.*\\n\\n---\\n\\n### **Day 1: Temple Highlights & Art Galleries**  \\n**Total Cost: 1,950 EGP**  \\n\\n#### **Morning**  \\n- **Luxor Temple & Karnak Temple + Sphinx Avenue**  \\n  - **Tickets**:  \\n    - Luxor Temple: 500 EGP  \\n    - Karnak Temple: 600 EGP  \\n    - *Total: 1,100 EGP*  \\n  - **Activity**: Explore the temples and Sphinx Avenue (included in ticket).  \\n\\n- **Breakfast**: 50 EGP (local café).  \\n\\n#### **Afternoon**  \\n- **Luxor Museum**  \\n  - **Ticket**: 400 EGP  \\n  - **Activity**: Discover ancient artifacts.  \\n\\n- **Lunch**: **Blend Cafe** (200 EGP)  \\n  - *Cuisine: Modern Egyptian dishes.*  \\n\\n- **Art Galleries**:  \\n  - **Luxor Art Gallery** (Free entry)  \\n  - **Nobles Art Gallery** (Free entry)  \\n\\n- **Dinner**: **Café & Restaurant Maratonga** (200 EGP)  \\n  - *Cuisine: Traditional Egyptian.  \\n\\n---\\n\\n### **Day 2: Valley of the Kings & Temple of Hatshepsut**  \\n**Total Cost: 1,740 EGP**  \\n\\n#### **Morning**  \\n- **Valley of the Kings**  \\n  - **Ticket**: 750 EGP  \\n\\n- **Breakfast**: 50 EGP (local café).  \\n\\n#### **Afternoon**  \\n- **Temple of Hatshepsut**  \\n  - **Ticket**: 440 EGP  \\n\\n- **Lunch**: **Nubian House** (100 EGP)  \\n  - *Cuisine: Nubian/Egyptian fusion.  \\n\\n- **Optional**: **Temple of Merenptah** (100 EGP)  \\n\\n- **Dinner**: **Metro Restaurant** (100 EGP)  \\n  - *Cuisine: Nile-view, local dishes.  \\n\\n---\\n\\n### **Day 3: Lesser-Known Sites & Cultural Dining**  \\n**Total Cost: 650 EGP**  \\n\\n#### **Morning**  \\n- **Temple of Mut**  \\n  - **Ticket**: 200 EGP  \\n\\n- **Temple of Seti I**  \\n  - **Ticket**: 200 EGP  \\n\\n- **Breakfast**: 50 EGP (local café.  \\n\\n#### **Afternoon**  \\n- **Art & Culture**:  \\n  - **Nobles Art Gallery** (revisit if missed)  \\n  - **Temple of Isis** (100 EGP)  \\n\\n- **Lunch**: **El Tarboush** (200 EGP)  \\n  - *Cuisine: Lebanese/Egyptian fusion.  \\n\\n- **Optional**: **Felucca Ride** (Est. 200 EGP)  \\n\\n- **Dinner**: **Varanda Cafe** (100 EGP)  \\n\\n---\\n\\n### **Budget Breakdown**  \\n- **Tickets**: 1,500 (Day1) + 1,190 (Day2) + 500 (Day3) = **3,190 EGP**  \\n- **Meals**: 1,350 EGP (450/day × 3 days)  \\n- **Total**: 4,540 EGP** (Leaves 460 EGP for extras like felucca or souvenirs).  \\n\\n---\\n\\n### **Key Notes**  \\n1. **Tickets**:  \\n   - **Luxor Temple + Karnak Temple** must be purchased together for Sphinx Avenue access.  \\n   - **Luxor Museum** closes at 8 PM; visit in the evening.  \\n\\n2. **Dining**:  \\n   - **Inexpensive Options**: Nubian House (100 EGP/meal), Metro Restaurant (100 EGP).  \\n   - **Moder Cafe** (200 EGP) for a splurge.  \\n\\n3. **Transport**: Use local taxis (50–100 EGP/trip) or walk where possible.  \\n\\n4. **Art Galleries**: Free entry; focus on **Luxor Art Gallery** (central location).  \\n\\n5. **Optional Add-ons**:  \\n   - Felucca ride (200 EGP) for sunset views.  \\n   - Audio guide for museums (Luxor Museum audio guide: 50 EGP extra).  \\n\\n---\\n\\n### **Final Itinerary Summary**  \\n- **Day 1**: Focus on major temples and art.  \\n- **Day 2**: Valley of the Kings and iconic temples.  \\n- **Day 3**: Lesser-known sites and cultural dining.  \\n\\nThis plan stays under budget while prioritizing cultural/historical sites and art, with flexibility for adjustments.' additional_kwargs={} response_metadata={'token_usage': {'completion_tokens': 6589, 'prompt_tokens': 5153, 'total_tokens': 11742, 'completion_time': 15.993000987, 'prompt_time': 0.260741067, 'queue_time': 0.191304386, 'total_time': 16.253742054}, 'model_name': 'qwen-qwq-32b', 'system_fingerprint': 'fp_27d5db8d87', 'finish_reason': 'stop', 'logprobs': None} id='run-1b00fd2e-9c71-4dd6-8fc4-3b100030073a-0' usage_metadata={'input_tokens': 5153, 'output_tokens': 6589, 'total_tokens': 11742}\n"
     ]
    }
   ],
   "source": [
    "travel_plan = generate_travel_plan(user_query, favorite_places, visitor_type, num_days, budget)\n",
    "print(travel_plan)\n"
   ]
  }
 ],
 "metadata": {
  "kernelspec": {
   "display_name": "run-W-GPU",
   "language": "python",
   "name": "python3"
  },
  "language_info": {
   "codemirror_mode": {
    "name": "ipython",
    "version": 3
   },
   "file_extension": ".py",
   "mimetype": "text/x-python",
   "name": "python",
   "nbconvert_exporter": "python",
   "pygments_lexer": "ipython3",
   "version": "3.9.19"
  }
 },
 "nbformat": 4,
 "nbformat_minor": 2
}
