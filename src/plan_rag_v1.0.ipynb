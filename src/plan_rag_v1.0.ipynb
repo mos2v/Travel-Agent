{
 "cells": [
  {
   "cell_type": "markdown",
   "metadata": {},
   "source": [
    "# Libraries"
   ]
  },
  {
   "cell_type": "code",
   "execution_count": null,
   "metadata": {},
   "outputs": [],
   "source": [
    "import os\n",
    "import sys\n",
    "import pandas as pd\n",
    "import numpy as np\n",
    "from pathlib import Path\n",
    "from langchain_core.documents import Document\n",
    "from langchain_huggingface import HuggingFaceEmbeddings\n",
    "from dotenv import load_dotenv\n",
    "from langchain_community.vectorstores import FAISS\n",
    "from langchain.prompts import PromptTemplate\n",
    "from langchain.chat_models import init_chat_model\n",
    "from langchain_nvidia_ai_endpoints import ChatNVIDIA\n",
    "from typing import List, Optional\n",
    "from pydantic import BaseModel, Field\n",
    "from tqdm import tqdm\n",
    "from langchain_core.caches import InMemoryCache\n"
   ]
  },
  {
   "cell_type": "markdown",
   "metadata": {},
   "source": [
    "# Load .env\n"
   ]
  },
  {
   "cell_type": "code",
   "execution_count": null,
   "metadata": {},
   "outputs": [],
   "source": [
    "load_dotenv()"
   ]
  },
  {
   "cell_type": "markdown",
   "metadata": {},
   "source": [
    "# Setting Langsmith tracing"
   ]
  },
  {
   "cell_type": "code",
   "execution_count": null,
   "metadata": {},
   "outputs": [],
   "source": [
    "os.environ[\"LANGCHAIN_TRACING_V2\"] = \"true\"\n",
    "os.environ[\"LANGCHAIN_ENDPOINT\"] = \"https://api.smith.langchain.com\"\n",
    "os.environ[\"LANGCHAIN_PROJECT\"] = \"Rag_travel_planner_v1.0\""
   ]
  },
  {
   "cell_type": "markdown",
   "metadata": {},
   "source": [
    "# Load data Dfs"
   ]
  },
  {
   "cell_type": "code",
   "execution_count": null,
   "metadata": {},
   "outputs": [],
   "source": [
    "landmark_prices = pd.read_csv(os.path.abspath('../data/egypt_v0.1.csv'))\n",
    "places_api_data = pd.read_csv(os.path.abspath('../data/places_details.csv'))\n"
   ]
  },
  {
   "cell_type": "markdown",
   "metadata": {},
   "source": [
    "# Store Dfs in langchain Documents"
   ]
  },
  {
   "cell_type": "code",
   "execution_count": null,
   "metadata": {},
   "outputs": [],
   "source": [
    "documents = []\n",
    "\n",
    "for _, row in landmark_prices.iterrows():\n",
    "    text = f\"\"\"\n",
    "    Governorate: {row['Governorate/City']}\n",
    "    Site: {row['Place']}\n",
    "    Egyptian Ticket: {row['Egyptian']} EGP\n",
    "    Egyptian Student Ticket: {row['EgyptianStudent']} EGP\n",
    "    Foreign Ticket: {row['Foreign']} EGP\n",
    "    Foreign Student Ticket: {row['ForeignStudent']} EGP\n",
    "    Visiting Times: {row['VisitingTimes']}\n",
    "    \"\"\"\n",
    "    documents.append(Document(page_content=text, metadata={\"source\": 'landmark_prices'}))"
   ]
  },
  {
   "cell_type": "code",
   "execution_count": null,
   "metadata": {},
   "outputs": [],
   "source": [
    "for _, row in places_api_data.iterrows():\n",
    "    text = f\"\"\"\n",
    "    Place Name: {row['displayName.text']}\n",
    "    Place Primary Type: {row['primaryTypeDisplayName.text']}\n",
    "    Place Types: {row['types']}\n",
    "    Place Price: {row['priceRange.endPrice.units']} EGP\n",
    "    Place Price Level: {row['priceLevel']}\n",
    "    Place Location: {row['formattedAddress']}\n",
    "    Place Star Rating: {row['rating']}\n",
    "    Place website: {row['websiteUri']}\n",
    "    \"\"\"\n",
    "    documents.append(Document(page_content=text, metadata={\"source\": 'Places_api', 'Type': f\"{row['primaryTypeDisplayName.text']}\", 'city': f\"{row['formattedAddress']}\"}))\n",
    "    "
   ]
  },
  {
   "cell_type": "markdown",
   "metadata": {},
   "source": [
    "# Embedd Documents (text ---> vectors of numbers)"
   ]
  },
  {
   "cell_type": "code",
   "execution_count": null,
   "metadata": {},
   "outputs": [],
   "source": [
    "embeddings = HuggingFaceEmbeddings(model_name=\"sentence-transformers/all-mpnet-base-v2\")\n"
   ]
  },
  {
   "cell_type": "code",
   "execution_count": null,
   "metadata": {},
   "outputs": [],
   "source": [
    "path = Path('faiss_mpnetv2_v1.0')\n",
    "\n",
    "if not path.exists():\n",
    "    vectorstore = FAISS.from_documents(documents, embeddings)\n",
    "    vectorstore.save_local('faiss_mpnetv2_v1.0')\n",
    "    \n",
    "else:\n",
    "    vectorstore = FAISS.load_local('faiss_mpnetv2_v1.0', embeddings, allow_dangerous_deserialization=True)\n",
    "\n",
    "\n",
    "retriever = vectorstore.as_retriever(search_kwargs={\"k\": 50})"
   ]
  },
  {
   "cell_type": "markdown",
   "metadata": {},
   "source": [
    "# Instantiating the LLM model with Groq provider."
   ]
  },
  {
   "cell_type": "code",
   "execution_count": null,
   "metadata": {},
   "outputs": [],
   "source": [
    "# ChatNVIDIA.BaseCache = InMemoryCache\n",
    "\n",
    "# ChatNVIDIA.model_rebuild()\n",
    "\n",
    "# llm_model = ChatNVIDIA(model=\"meta/llama-3.1-405b-instruct\", temperature=0)\n",
    "# llm_model = ChatNVIDIA(model=\"meta/llama-3.3-70b-instruct\", temperature=0)\n",
    "# llm_model = ChatNVIDIA(model=\"microsoft/phi-4-mini-instruct\", temperature=0)"
   ]
  },
  {
   "cell_type": "code",
   "execution_count": null,
   "metadata": {},
   "outputs": [],
   "source": [
    "# llm_model = init_chat_model(\"llama-3.3-70b-versatile\", model_provider=\"groq\", temperature=0)\n",
    "# llm_model = init_chat_model('deepseek-r1-distill-llama-70b', model_provider='groq', temperature=0)\n",
    "llm_model = init_chat_model(\"qwen-qwq-32b\", model_provider='groq', temperature=0)\n",
    "# llm_model = init_chat_model(\"llama-3.3-70b-specdec\", model_provider=\"groq\", temperature=0)\n"
   ]
  },
  {
   "cell_type": "code",
   "execution_count": null,
   "metadata": {},
   "outputs": [],
   "source": [
    "# llm_model = init_chat_model('gemini-2.0-flash', model_provider='google_genai', temperature=0)"
   ]
  },
  {
   "cell_type": "markdown",
   "metadata": {},
   "source": [
    "# Prompt Template"
   ]
  },
  {
   "cell_type": "code",
   "execution_count": null,
   "metadata": {},
   "outputs": [],
   "source": [
    "prompt_template = PromptTemplate(\n",
    "    input_variables=[\"context\", \"user_query\", \"favorite_places\", \"visitor_type\", \"num_days\", \"budget\"],\n",
    "    template=\"\"\"You are a helpful travel planner AI.\n",
    "Use the context below, which contains information about ticket prices, place descriptions, restaurant details, and art gallery information.\n",
    "\n",
    "Context:\n",
    "{context}\n",
    "\n",
    "User Query:\n",
    "{user_query}\n",
    "\n",
    "Additional Preferences:\n",
    "- Favorite types of places: {favorite_places}\n",
    "- Visitor type: {visitor_type} (e.g., Egyptian, Egyptian student, Foreign, or foreign student)\n",
    "- Number of travel days: {num_days}\n",
    "- Overall budget for all days: {budget} EGP\n",
    "- Exclude hotels from the plan.\n",
    "- Ensure that the itinerary includes at least 3 meals per day.\n",
    "\n",
    "Based on the above, return a detailed {num_days}-day travel itinerary with approximate costs and suggestions. If some details are missing, make reasonable assumptions and indicate them.\n",
    "\"\"\"\n",
    ")\n"
   ]
  },
  {
   "cell_type": "markdown",
   "metadata": {},
   "source": [
    "# Structured Output"
   ]
  },
  {
   "cell_type": "code",
   "execution_count": null,
   "metadata": {},
   "outputs": [],
   "source": [
    "json_schema = {\n",
    "    \"title\": \"TravelItinerary\",\n",
    "    \"description\": \"A structured travel itinerary for the user.\",\n",
    "    \"type\": \"object\",\n",
    "    \"properties\": {\n",
    "        \"days\": {\n",
    "            \"type\": \"array\",\n",
    "            \"description\": \"List of days with planned activities.\",\n",
    "            \"items\": {\n",
    "                \"type\": \"object\",\n",
    "                \"properties\": {\n",
    "                    \"day\": {\"type\": \"string\", \"description\": \"Theme of the Day or Day label, e.g., 'Day 1'\"},\n",
    "                    \"activities\": {\n",
    "                        \"type\": \"array\",\n",
    "                        \"des3                                           cription\": \"Activities planned for the day.\",\n",
    "                        \"items\": {\n",
    "                            \"type\": \"object\",\n",
    "                            \"properties\": {\n",
    "                                \"time\": {\"type\": \"string\", \"description\": \"Time of the activity\"},\n",
    "                                \"activity\": {\"type\": \"string\", \"description\": \"Name of the activity\"},\n",
    "                                \"location\": {\"type\": \"string\", \"description\": \"Location name\"},\n",
    "                                \"price_range\": {\"type\": \"string\", \"description\": \"Price range or cost\"},\n",
    "                            },\n",
    "                            \"required\": [\"time\", \"activity\", \"location\"]\n",
    "                        }\n",
    "                    },\n",
    "                    \"approximate_cost\": {\"type\": \"string\", \"description\": \"Total cost for the day\"}\n",
    "                },\n",
    "                \"required\": [\"day\", \"activities\", \"approximate_cost\"]\n",
    "            }\n",
    "        },\n",
    "        \"total_approximate_cost\": {\n",
    "            \"type\": \"string\",\n",
    "            \"description\": \"Total cost for the trip\"\n",
    "        },\n",
    "        \"notes\": {\n",
    "            \"type\": \"string\",\n",
    "            \"description\": \"Any additional notes or assumptions\"\n",
    "        }\n",
    "    },\n",
    "    \"required\": [\"days\", \"total_approximate_cost\"]\n",
    "}"
   ]
  },
  {
   "cell_type": "code",
   "execution_count": null,
   "metadata": {},
   "outputs": [],
   "source": [
    "class Activity(BaseModel):\n",
    "    time: str = Field(..., description=\"Time of the activity\")\n",
    "    activity: str = Field(..., description=\"Name of the activity\")\n",
    "    location: str = Field(..., description=\"Location name\")\n",
    "    price_range: Optional[str] = Field(None, description=\"Price range or cost\")\n",
    "\n",
    "class DayPlan(BaseModel):\n",
    "    day: str = Field(..., description=\"Theme of the Day or Day label, e.g., 'Day 1'\")\n",
    "    activities: List[Activity] = Field(..., description=\"Activities planned for the day\")\n",
    "    approximate_cost: str = Field(..., description=\"Total cost for the day\")\n",
    "\n",
    "class TravelItinerary(BaseModel):\n",
    "    days: List[DayPlan] = Field(..., description=\"List of days with planned activities\")\n",
    "    total_approximate_cost: str = Field(..., description=\"Total cost for the trip\")\n",
    "    notes: Optional[str] = Field(None, description=\"Any additional notes or assumptions\")"
   ]
  },
  {
   "cell_type": "code",
   "execution_count": null,
   "metadata": {},
   "outputs": [],
   "source": [
    "structured_llm = llm_model.with_structured_output(json_schema)\n"
   ]
  },
  {
   "cell_type": "markdown",
   "metadata": {},
   "source": [
    "# Generate a structured travel plan "
   ]
  },
  {
   "cell_type": "code",
   "execution_count": null,
   "metadata": {},
   "outputs": [],
   "source": [
    "\n",
    "def generate_travel_plan(user_query, favorite_places, visitor_type, num_days, budget):\n",
    "    docs = retriever.invoke(user_query)\n",
    "    context_text = \"\\n\".join([doc.page_content for doc in docs])\n",
    "    prompt = prompt_template.format(\n",
    "        context=context_text,\n",
    "        user_query=user_query,\n",
    "        favorite_places=favorite_places,\n",
    "        visitor_type=visitor_type,\n",
    "        num_days=num_days,\n",
    "        budget=budget\n",
    "    )\n",
    "    response = llm_model.invoke(prompt)\n",
    "    return response\n"
   ]
  },
  {
   "cell_type": "code",
   "execution_count": null,
   "metadata": {},
   "outputs": [],
   "source": [
    "user_query = \"Plan a 3-day trip in Luxor with visits to cultural sites, art galleries, and dining(restaurents) options.\"\n",
    "favorite_places = \"Cultural sites, historical landmarks, art galleries\"\n",
    "visitor_type = \"Foreign\"  # or \"Egyptian\", \"Egyptian student\", \"foreign student\"\n",
    "num_days = \"3\"\n",
    "budget = \"5000\"  # Overall budget in EGP\n"
   ]
  },
  {
   "cell_type": "code",
   "execution_count": null,
   "metadata": {},
   "outputs": [],
   "source": [
    "travel_plan = generate_travel_plan(user_query, favorite_places, visitor_type, num_days, budget)\n",
    "print(travel_plan)\n"
   ]
  }
 ],
 "metadata": {
  "kernelspec": {
   "display_name": "run-W-GPU",
   "language": "python",
   "name": "python3"
  },
  "language_info": {
   "codemirror_mode": {
    "name": "ipython",
    "version": 3
   },
   "file_extension": ".py",
   "mimetype": "text/x-python",
   "name": "python",
   "nbconvert_exporter": "python",
   "pygments_lexer": "ipython3",
   "version": "3.9.19"
  }
 },
 "nbformat": 4,
 "nbformat_minor": 2
}
