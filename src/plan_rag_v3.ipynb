{
 "cells": [
  {
   "cell_type": "markdown",
   "id": "aae79126",
   "metadata": {},
   "source": [
    "# Libraries"
   ]
  },
  {
   "cell_type": "code",
   "execution_count": 1,
   "id": "9baf0e4c",
   "metadata": {},
   "outputs": [],
   "source": [
    "import pandas as pd\n",
    "from pathlib import Path\n",
    "from langchain_nvidia_ai_endpoints import ChatNVIDIA\n",
    "import json\n",
    "from langchain_core.documents import Document\n",
    "from langchain_huggingface import HuggingFaceEmbeddings\n",
    "from dotenv import load_dotenv\n",
    "from langchain_community.vectorstores import FAISS\n",
    "from langchain.prompts import PromptTemplate\n",
    "from typing import List, Optional\n",
    "from pydantic import BaseModel, Field\n",
    "from tqdm import tqdm\n",
    "import argparse\n",
    "import time\n",
    "import pickle\n",
    "from langchain.callbacks.base import BaseCallbackHandler\n",
    "from langchain_mistralai import ChatMistralAI\n",
    "from langchain_groq import ChatGroq\n",
    "from langchain_google_genai import ChatGoogleGenerativeAI\n",
    "import os\n",
    "from tqdm.notebook import tqdm as notebook_tqdm\n",
    "import time\n",
    "from IPython.display import display, HTML"
   ]
  },
  {
   "cell_type": "code",
   "execution_count": null,
   "id": "57eac78b",
   "metadata": {},
   "outputs": [],
   "source": [
    "def green_progress_bar(iterable=None, total=None, desc=None, **kwargs):\n",
    "    return notebook_tqdm(iterable=iterable, total=total, desc=desc, colour='#00cc66', **kwargs)"
   ]
  },
  {
   "cell_type": "markdown",
   "id": "9b1d47b9",
   "metadata": {},
   "source": [
    "# Loading Environment Variables"
   ]
  },
  {
   "cell_type": "code",
   "execution_count": 3,
   "id": "b4be143e",
   "metadata": {},
   "outputs": [
    {
     "data": {
      "text/plain": [
       "True"
      ]
     },
     "execution_count": 3,
     "metadata": {},
     "output_type": "execute_result"
    }
   ],
   "source": [
    "load_dotenv()"
   ]
  },
  {
   "cell_type": "markdown",
   "id": "0a5afdfc",
   "metadata": {},
   "source": [
    "# Setting Langsmith Tracing"
   ]
  },
  {
   "cell_type": "code",
   "execution_count": 4,
   "id": "6806b195",
   "metadata": {},
   "outputs": [],
   "source": [
    "os.environ[\"LANGCHAIN_TRACING_V2\"] = \"true\"\n",
    "os.environ[\"LANGCHAIN_ENDPOINT\"] = \"https://api.smith.langchain.com\"\n",
    "os.environ[\"LANGCHAIN_PROJECT\"] = \"Rag_travel_planner_v3.0.0\""
   ]
  },
  {
   "cell_type": "markdown",
   "id": "36e82077",
   "metadata": {},
   "source": [
    "# Load data dfs"
   ]
  },
  {
   "cell_type": "code",
   "execution_count": 5,
   "id": "42a573cd",
   "metadata": {},
   "outputs": [],
   "source": [
    "base_path = Path().cwd()\n",
    "landmark_prices = pd.read_csv(base_path / '../data/egypt_v0.1.csv')\n",
    "places_api_data = pd.read_csv(base_path / '../data/places_details_v1.csv')"
   ]
  },
  {
   "cell_type": "markdown",
   "id": "668a8772",
   "metadata": {},
   "source": [
    "# Store Df rows in langchain Documents"
   ]
  },
  {
   "cell_type": "code",
   "execution_count": 6,
   "id": "a48d2161",
   "metadata": {},
   "outputs": [
    {
     "name": "stdout",
     "output_type": "stream",
     "text": [
      "Processing landmark price data...\n"
     ]
    },
    {
     "data": {
      "application/vnd.jupyter.widget-view+json": {
       "model_id": "5a3b7eda09b741a8b54a84210f97c46e",
       "version_major": 2,
       "version_minor": 0
      },
      "text/plain": [
       "Processing landmarks:   0%|          | 0/207 [00:00<?, ?it/s]"
      ]
     },
     "metadata": {},
     "output_type": "display_data"
    }
   ],
   "source": [
    "documents = []\n",
    "\n",
    "print(\"Processing landmark price data...\")\n",
    "for _, row in green_progress_bar(landmark_prices.iterrows(), total=len(landmark_prices), desc=\"Processing landmarks\"):\n",
    "    text = f\"\"\"\n",
    "    Governorate: {row.get('Governorate/City', 'N/A')}\n",
    "    Site: {row.get('Place', 'N/A')}\n",
    "    Egyptian Ticket: {row.get('Egyptian', 'N/A')} EGP\n",
    "    Egyptian Student Ticket: {row.get('EgyptianStudent', 'N/A')} EGP\n",
    "    Foreign Ticket: {row.get('Foreign', 'N/A')} EGP\n",
    "    Foreign Student Ticket: {row.get('ForeignStudent', 'N/A')} EGP\n",
    "    Visiting Times: {row.get('VisitingTimes', 'N/A')}\n",
    "    \"\"\"\n",
    "    documents.append(Document(page_content=text, metadata={\"source\": 'landmark_prices'}))"
   ]
  },
  {
   "cell_type": "code",
   "execution_count": 7,
   "id": "70de7395",
   "metadata": {},
   "outputs": [
    {
     "name": "stdout",
     "output_type": "stream",
     "text": [
      "Processing places API data...\n"
     ]
    },
    {
     "data": {
      "application/vnd.jupyter.widget-view+json": {
       "model_id": "19fde561bbf5410095fba11819b3335a",
       "version_major": 2,
       "version_minor": 0
      },
      "text/plain": [
       "Processing places:   0%|          | 0/6310 [00:00<?, ?it/s]"
      ]
     },
     "metadata": {},
     "output_type": "display_data"
    }
   ],
   "source": [
    "print(\"Processing places API data...\")\n",
    "\n",
    "for _, row in green_progress_bar(places_api_data.iterrows(), total=len(places_api_data), desc=\"Processing places\"):\n",
    "    text = f\"\"\"\n",
    "    Place Name: {row.get('displayName.text', 'N/A')}\n",
    "    Place Primary Type: {row.get('primaryTypeDisplayName.text', 'N/A')}\n",
    "    Place Types: {row.get('types', 'N/A')}\n",
    "    Place Price: {row.get('priceRange.endPrice.units', 'N/A')} EGP\n",
    "    Place Price Level: {row.get('priceLevel', 'N/A')}\n",
    "    Place Location: {row.get('formattedAddress', 'N/A')}\n",
    "    Place Star Rating: {row.get('rating', 'N/A')}\n",
    "    Place website: {row.get('websiteUri', 'N/A')}\n",
    "    \"\"\"\n",
    "    documents.append(Document(page_content=text, metadata={\"source\": 'Places_api', 'Type': f\"{row['primaryTypeDisplayName.text']}\", 'city': f\"{row['formattedAddress']}\"}))"
   ]
  },
  {
   "cell_type": "markdown",
   "id": "7f7991d0",
   "metadata": {},
   "source": [
    "# Embedd Documents (text ---> vectors of numbers)"
   ]
  },
  {
   "cell_type": "code",
   "execution_count": 8,
   "id": "503bb613",
   "metadata": {},
   "outputs": [
    {
     "ename": "KeyboardInterrupt",
     "evalue": "",
     "output_type": "error",
     "traceback": [
      "\u001b[1;31m---------------------------------------------------------------------------\u001b[0m",
      "\u001b[1;31mKeyboardInterrupt\u001b[0m                         Traceback (most recent call last)",
      "Cell \u001b[1;32mIn[8], line 1\u001b[0m\n\u001b[1;32m----> 1\u001b[0m embeddings \u001b[38;5;241m=\u001b[39m \u001b[43mHuggingFaceEmbeddings\u001b[49m\u001b[43m(\u001b[49m\n\u001b[0;32m      2\u001b[0m \u001b[43m    \u001b[49m\u001b[43mmodel_name\u001b[49m\u001b[38;5;241;43m=\u001b[39;49m\u001b[38;5;124;43m'\u001b[39;49m\u001b[38;5;124;43mintfloat/multilingual-e5-large-instruct\u001b[39;49m\u001b[38;5;124;43m'\u001b[39;49m\u001b[43m,\u001b[49m\n\u001b[0;32m      3\u001b[0m \u001b[43m    \u001b[49m\u001b[43mmodel_kwargs\u001b[49m\u001b[38;5;241;43m=\u001b[39;49m\u001b[43m{\u001b[49m\u001b[38;5;124;43m'\u001b[39;49m\u001b[38;5;124;43mdevice\u001b[39;49m\u001b[38;5;124;43m'\u001b[39;49m\u001b[43m:\u001b[49m\u001b[43m \u001b[49m\u001b[38;5;124;43m'\u001b[39;49m\u001b[38;5;124;43mcuda\u001b[39;49m\u001b[38;5;124;43m'\u001b[39;49m\u001b[43m}\u001b[49m\u001b[43m,\u001b[49m\n\u001b[0;32m      4\u001b[0m \u001b[43m    \u001b[49m\u001b[43mencode_kwargs\u001b[49m\u001b[38;5;241;43m=\u001b[39;49m\u001b[43m{\u001b[49m\u001b[38;5;124;43m'\u001b[39;49m\u001b[38;5;124;43mnormalize_embeddings\u001b[39;49m\u001b[38;5;124;43m'\u001b[39;49m\u001b[43m:\u001b[49m\u001b[43m \u001b[49m\u001b[38;5;28;43;01mTrue\u001b[39;49;00m\u001b[43m}\u001b[49m\n\u001b[0;32m      5\u001b[0m \u001b[43m)\u001b[49m\n",
      "File \u001b[1;32mc:\\Users\\mosai\\anaconda3\\envs\\data_science\\lib\\site-packages\\langchain_huggingface\\embeddings\\huggingface.py:52\u001b[0m, in \u001b[0;36mHuggingFaceEmbeddings.__init__\u001b[1;34m(self, **kwargs)\u001b[0m\n\u001b[0;32m     50\u001b[0m \u001b[38;5;28msuper\u001b[39m()\u001b[38;5;241m.\u001b[39m\u001b[38;5;21m__init__\u001b[39m(\u001b[38;5;241m*\u001b[39m\u001b[38;5;241m*\u001b[39mkwargs)\n\u001b[0;32m     51\u001b[0m \u001b[38;5;28;01mtry\u001b[39;00m:\n\u001b[1;32m---> 52\u001b[0m     \u001b[38;5;28;01mimport\u001b[39;00m\u001b[38;5;250m \u001b[39m\u001b[38;5;21;01msentence_transformers\u001b[39;00m  \u001b[38;5;66;03m# type: ignore[import]\u001b[39;00m\n\u001b[0;32m     53\u001b[0m \u001b[38;5;28;01mexcept\u001b[39;00m \u001b[38;5;167;01mImportError\u001b[39;00m \u001b[38;5;28;01mas\u001b[39;00m exc:\n\u001b[0;32m     54\u001b[0m     \u001b[38;5;28;01mraise\u001b[39;00m \u001b[38;5;167;01mImportError\u001b[39;00m(\n\u001b[0;32m     55\u001b[0m         \u001b[38;5;124m\"\u001b[39m\u001b[38;5;124mCould not import sentence_transformers python package. \u001b[39m\u001b[38;5;124m\"\u001b[39m\n\u001b[0;32m     56\u001b[0m         \u001b[38;5;124m\"\u001b[39m\u001b[38;5;124mPlease install it with `pip install sentence-transformers`.\u001b[39m\u001b[38;5;124m\"\u001b[39m\n\u001b[0;32m     57\u001b[0m     ) \u001b[38;5;28;01mfrom\u001b[39;00m\u001b[38;5;250m \u001b[39m\u001b[38;5;21;01mexc\u001b[39;00m\n",
      "File \u001b[1;32mc:\\Users\\mosai\\anaconda3\\envs\\data_science\\lib\\site-packages\\sentence_transformers\\__init__.py:9\u001b[0m\n\u001b[0;32m      6\u001b[0m \u001b[38;5;28;01mimport\u001b[39;00m\u001b[38;5;250m \u001b[39m\u001b[38;5;21;01mimportlib\u001b[39;00m\n\u001b[0;32m      7\u001b[0m \u001b[38;5;28;01mimport\u001b[39;00m\u001b[38;5;250m \u001b[39m\u001b[38;5;21;01mos\u001b[39;00m\n\u001b[1;32m----> 9\u001b[0m \u001b[38;5;28;01mfrom\u001b[39;00m\u001b[38;5;250m \u001b[39m\u001b[38;5;21;01msentence_transformers\u001b[39;00m\u001b[38;5;21;01m.\u001b[39;00m\u001b[38;5;21;01mbackend\u001b[39;00m\u001b[38;5;250m \u001b[39m\u001b[38;5;28;01mimport\u001b[39;00m (\n\u001b[0;32m     10\u001b[0m     export_dynamic_quantized_onnx_model,\n\u001b[0;32m     11\u001b[0m     export_optimized_onnx_model,\n\u001b[0;32m     12\u001b[0m     export_static_quantized_openvino_model,\n\u001b[0;32m     13\u001b[0m )\n\u001b[0;32m     14\u001b[0m \u001b[38;5;28;01mfrom\u001b[39;00m\u001b[38;5;250m \u001b[39m\u001b[38;5;21;01msentence_transformers\u001b[39;00m\u001b[38;5;21;01m.\u001b[39;00m\u001b[38;5;21;01mcross_encoder\u001b[39;00m\u001b[38;5;250m \u001b[39m\u001b[38;5;28;01mimport\u001b[39;00m (\n\u001b[0;32m     15\u001b[0m     CrossEncoder,\n\u001b[0;32m     16\u001b[0m     CrossEncoderModelCardData,\n\u001b[0;32m     17\u001b[0m     CrossEncoderTrainer,\n\u001b[0;32m     18\u001b[0m     CrossEncoderTrainingArguments,\n\u001b[0;32m     19\u001b[0m )\n\u001b[0;32m     20\u001b[0m \u001b[38;5;28;01mfrom\u001b[39;00m\u001b[38;5;250m \u001b[39m\u001b[38;5;21;01msentence_transformers\u001b[39;00m\u001b[38;5;21;01m.\u001b[39;00m\u001b[38;5;21;01mdatasets\u001b[39;00m\u001b[38;5;250m \u001b[39m\u001b[38;5;28;01mimport\u001b[39;00m ParallelSentencesDataset, SentencesDataset\n",
      "File \u001b[1;32mc:\\Users\\mosai\\anaconda3\\envs\\data_science\\lib\\site-packages\\sentence_transformers\\backend.py:11\u001b[0m\n\u001b[0;32m      7\u001b[0m \u001b[38;5;28;01mfrom\u001b[39;00m\u001b[38;5;250m \u001b[39m\u001b[38;5;21;01mtyping\u001b[39;00m\u001b[38;5;250m \u001b[39m\u001b[38;5;28;01mimport\u001b[39;00m TYPE_CHECKING, Callable, Literal\n\u001b[0;32m      9\u001b[0m \u001b[38;5;28;01mimport\u001b[39;00m\u001b[38;5;250m \u001b[39m\u001b[38;5;21;01mhuggingface_hub\u001b[39;00m\n\u001b[1;32m---> 11\u001b[0m \u001b[38;5;28;01mfrom\u001b[39;00m\u001b[38;5;250m \u001b[39m\u001b[38;5;21;01msentence_transformers\u001b[39;00m\u001b[38;5;21;01m.\u001b[39;00m\u001b[38;5;21;01mutil\u001b[39;00m\u001b[38;5;250m \u001b[39m\u001b[38;5;28;01mimport\u001b[39;00m disable_datasets_caching, is_datasets_available\n\u001b[0;32m     13\u001b[0m logger \u001b[38;5;241m=\u001b[39m logging\u001b[38;5;241m.\u001b[39mgetLogger(\u001b[38;5;18m__name__\u001b[39m)\n\u001b[0;32m     15\u001b[0m \u001b[38;5;28;01mif\u001b[39;00m TYPE_CHECKING:\n",
      "File \u001b[1;32mc:\\Users\\mosai\\anaconda3\\envs\\data_science\\lib\\site-packages\\sentence_transformers\\util.py:17\u001b[0m\n\u001b[0;32m     15\u001b[0m \u001b[38;5;28;01mimport\u001b[39;00m\u001b[38;5;250m \u001b[39m\u001b[38;5;21;01mnumpy\u001b[39;00m\u001b[38;5;250m \u001b[39m\u001b[38;5;28;01mas\u001b[39;00m\u001b[38;5;250m \u001b[39m\u001b[38;5;21;01mnp\u001b[39;00m\n\u001b[0;32m     16\u001b[0m \u001b[38;5;28;01mimport\u001b[39;00m\u001b[38;5;250m \u001b[39m\u001b[38;5;21;01mrequests\u001b[39;00m\n\u001b[1;32m---> 17\u001b[0m \u001b[38;5;28;01mimport\u001b[39;00m\u001b[38;5;250m \u001b[39m\u001b[38;5;21;01mtorch\u001b[39;00m\n\u001b[0;32m     18\u001b[0m \u001b[38;5;28;01mfrom\u001b[39;00m\u001b[38;5;250m \u001b[39m\u001b[38;5;21;01mhuggingface_hub\u001b[39;00m\u001b[38;5;250m \u001b[39m\u001b[38;5;28;01mimport\u001b[39;00m hf_hub_download, snapshot_download\n\u001b[0;32m     19\u001b[0m \u001b[38;5;28;01mfrom\u001b[39;00m\u001b[38;5;250m \u001b[39m\u001b[38;5;21;01mtorch\u001b[39;00m\u001b[38;5;250m \u001b[39m\u001b[38;5;28;01mimport\u001b[39;00m Tensor, device\n",
      "File \u001b[1;32mc:\\Users\\mosai\\anaconda3\\envs\\data_science\\lib\\site-packages\\torch\\__init__.py:2624\u001b[0m\n\u001b[0;32m   2620\u001b[0m \u001b[38;5;28;01mfrom\u001b[39;00m\u001b[38;5;250m \u001b[39m\u001b[38;5;21;01mtorch\u001b[39;00m\u001b[38;5;21;01m.\u001b[39;00m\u001b[38;5;21;01mfunc\u001b[39;00m\u001b[38;5;250m \u001b[39m\u001b[38;5;28;01mimport\u001b[39;00m vmap \u001b[38;5;28;01mas\u001b[39;00m vmap\n\u001b[0;32m   2623\u001b[0m \u001b[38;5;28;01mif\u001b[39;00m \u001b[38;5;129;01mnot\u001b[39;00m TYPE_CHECKING:\n\u001b[1;32m-> 2624\u001b[0m     \u001b[38;5;28;01mfrom\u001b[39;00m\u001b[38;5;250m \u001b[39m\u001b[38;5;21;01mtorch\u001b[39;00m\u001b[38;5;250m \u001b[39m\u001b[38;5;28;01mimport\u001b[39;00m _meta_registrations\n\u001b[0;32m   2626\u001b[0m \u001b[38;5;66;03m# Enable CUDA Sanitizer\u001b[39;00m\n\u001b[0;32m   2627\u001b[0m \u001b[38;5;28;01mif\u001b[39;00m \u001b[38;5;124m\"\u001b[39m\u001b[38;5;124mTORCH_CUDA_SANITIZER\u001b[39m\u001b[38;5;124m\"\u001b[39m \u001b[38;5;129;01min\u001b[39;00m os\u001b[38;5;241m.\u001b[39menviron:\n",
      "File \u001b[1;32mc:\\Users\\mosai\\anaconda3\\envs\\data_science\\lib\\site-packages\\torch\\_meta_registrations.py:12\u001b[0m\n\u001b[0;32m     10\u001b[0m \u001b[38;5;28;01mimport\u001b[39;00m\u001b[38;5;250m \u001b[39m\u001b[38;5;21;01mtorch\u001b[39;00m\u001b[38;5;21;01m.\u001b[39;00m\u001b[38;5;21;01m_prims_common\u001b[39;00m\u001b[38;5;250m \u001b[39m\u001b[38;5;28;01mas\u001b[39;00m\u001b[38;5;250m \u001b[39m\u001b[38;5;21;01mutils\u001b[39;00m\n\u001b[0;32m     11\u001b[0m \u001b[38;5;28;01mfrom\u001b[39;00m\u001b[38;5;250m \u001b[39m\u001b[38;5;21;01mtorch\u001b[39;00m\u001b[38;5;250m \u001b[39m\u001b[38;5;28;01mimport\u001b[39;00m SymBool, SymFloat, Tensor\n\u001b[1;32m---> 12\u001b[0m \u001b[38;5;28;01mfrom\u001b[39;00m\u001b[38;5;250m \u001b[39m\u001b[38;5;21;01mtorch\u001b[39;00m\u001b[38;5;21;01m.\u001b[39;00m\u001b[38;5;21;01m_decomp\u001b[39;00m\u001b[38;5;250m \u001b[39m\u001b[38;5;28;01mimport\u001b[39;00m (\n\u001b[0;32m     13\u001b[0m     _add_op_to_registry,\n\u001b[0;32m     14\u001b[0m     _convert_out_params,\n\u001b[0;32m     15\u001b[0m     global_decomposition_table,\n\u001b[0;32m     16\u001b[0m     meta_table,\n\u001b[0;32m     17\u001b[0m )\n\u001b[0;32m     18\u001b[0m \u001b[38;5;28;01mfrom\u001b[39;00m\u001b[38;5;250m \u001b[39m\u001b[38;5;21;01mtorch\u001b[39;00m\u001b[38;5;21;01m.\u001b[39;00m\u001b[38;5;21;01m_ops\u001b[39;00m\u001b[38;5;250m \u001b[39m\u001b[38;5;28;01mimport\u001b[39;00m OpOverload\n\u001b[0;32m     19\u001b[0m \u001b[38;5;28;01mfrom\u001b[39;00m\u001b[38;5;250m \u001b[39m\u001b[38;5;21;01mtorch\u001b[39;00m\u001b[38;5;21;01m.\u001b[39;00m\u001b[38;5;21;01m_prims\u001b[39;00m\u001b[38;5;250m \u001b[39m\u001b[38;5;28;01mimport\u001b[39;00m _prim_elementwise_meta, ELEMENTWISE_PRIM_TYPE_PROMOTION_KIND\n",
      "File \u001b[1;32mc:\\Users\\mosai\\anaconda3\\envs\\data_science\\lib\\site-packages\\torch\\_decomp\\__init__.py:277\u001b[0m\n\u001b[0;32m    275\u001b[0m \u001b[38;5;66;03m# populate the table\u001b[39;00m\n\u001b[0;32m    276\u001b[0m \u001b[38;5;28;01mimport\u001b[39;00m\u001b[38;5;250m \u001b[39m\u001b[38;5;21;01mtorch\u001b[39;00m\u001b[38;5;21;01m.\u001b[39;00m\u001b[38;5;21;01m_decomp\u001b[39;00m\u001b[38;5;21;01m.\u001b[39;00m\u001b[38;5;21;01mdecompositions\u001b[39;00m\n\u001b[1;32m--> 277\u001b[0m \u001b[38;5;28;01mimport\u001b[39;00m\u001b[38;5;250m \u001b[39m\u001b[38;5;21;01mtorch\u001b[39;00m\u001b[38;5;21;01m.\u001b[39;00m\u001b[38;5;21;01m_refs\u001b[39;00m\n\u001b[0;32m    280\u001b[0m \u001b[38;5;28;01mdef\u001b[39;00m\u001b[38;5;250m \u001b[39m\u001b[38;5;21mcore_aten_decompositions\u001b[39m() \u001b[38;5;241m-\u001b[39m\u001b[38;5;241m>\u001b[39m \u001b[38;5;124m\"\u001b[39m\u001b[38;5;124mCustomDecompTable\u001b[39m\u001b[38;5;124m\"\u001b[39m:\n\u001b[0;32m    281\u001b[0m     \u001b[38;5;28;01mfrom\u001b[39;00m\u001b[38;5;250m \u001b[39m\u001b[38;5;21;01mtorch\u001b[39;00m\u001b[38;5;21;01m.\u001b[39;00m\u001b[38;5;21;01mexport\u001b[39;00m\u001b[38;5;21;01m.\u001b[39;00m\u001b[38;5;21;01mexported_program\u001b[39;00m\u001b[38;5;250m \u001b[39m\u001b[38;5;28;01mimport\u001b[39;00m default_decompositions\n",
      "File \u001b[1;32mc:\\Users\\mosai\\anaconda3\\envs\\data_science\\lib\\site-packages\\torch\\_refs\\__init__.py:6310\u001b[0m\n\u001b[0;32m   6298\u001b[0m         \u001b[38;5;28;01mreturn\u001b[39;00m fn(\u001b[38;5;28mself\u001b[39m, other)\n\u001b[0;32m   6300\u001b[0m     \u001b[38;5;28;01mreturn\u001b[39;00m wrapper\n\u001b[0;32m   6303\u001b[0m \u001b[38;5;129;43m@register_decomposition\u001b[39;49m\u001b[43m(\u001b[49m\u001b[43maten\u001b[49m\u001b[38;5;241;43m.\u001b[39;49m\u001b[43mdot\u001b[49m\u001b[43m)\u001b[49m\n\u001b[0;32m   6304\u001b[0m \u001b[38;5;129;43m@out_wrapper\u001b[39;49m\u001b[43m(\u001b[49m\u001b[43mexact_dtype\u001b[49m\u001b[38;5;241;43m=\u001b[39;49m\u001b[38;5;28;43;01mTrue\u001b[39;49;00m\u001b[43m)\u001b[49m\n\u001b[0;32m   6305\u001b[0m \u001b[38;5;129;43m@_dot_check_wrapper\u001b[39;49m\n\u001b[0;32m   6306\u001b[0m \u001b[38;5;129;43m@elementwise_type_promotion_wrapper\u001b[39;49m\u001b[43m(\u001b[49m\n\u001b[0;32m   6307\u001b[0m \u001b[43m    \u001b[49m\u001b[43mtype_promoting_args\u001b[49m\u001b[38;5;241;43m=\u001b[39;49m\u001b[43m(\u001b[49m\u001b[38;5;124;43m\"\u001b[39;49m\u001b[38;5;124;43mself\u001b[39;49m\u001b[38;5;124;43m\"\u001b[39;49m\u001b[43m,\u001b[49m\u001b[43m \u001b[49m\u001b[38;5;124;43m\"\u001b[39;49m\u001b[38;5;124;43mother\u001b[39;49m\u001b[38;5;124;43m\"\u001b[39;49m\u001b[43m)\u001b[49m\u001b[43m,\u001b[49m\n\u001b[0;32m   6308\u001b[0m \u001b[43m    \u001b[49m\u001b[43mtype_promotion_kind\u001b[49m\u001b[38;5;241;43m=\u001b[39;49m\u001b[43mELEMENTWISE_TYPE_PROMOTION_KIND\u001b[49m\u001b[38;5;241;43m.\u001b[39;49m\u001b[43mDEFAULT\u001b[49m\u001b[43m,\u001b[49m\n\u001b[0;32m   6309\u001b[0m \u001b[43m)\u001b[49m\n\u001b[1;32m-> 6310\u001b[0m \u001b[38;5;28;43;01mdef\u001b[39;49;00m\u001b[38;5;250;43m \u001b[39;49m\u001b[38;5;21;43mdot\u001b[39;49m\u001b[43m(\u001b[49m\u001b[38;5;28;43mself\u001b[39;49m\u001b[43m,\u001b[49m\u001b[43m \u001b[49m\u001b[43mother\u001b[49m\u001b[43m)\u001b[49m\u001b[43m:\u001b[49m\n\u001b[0;32m   6311\u001b[0m \u001b[43m    \u001b[49m\u001b[38;5;28;43;01mif\u001b[39;49;00m\u001b[43m \u001b[49m\u001b[38;5;28;43mself\u001b[39;49m\u001b[38;5;241;43m.\u001b[39;49m\u001b[43mis_complex\u001b[49m\u001b[43m(\u001b[49m\u001b[43m)\u001b[49m\u001b[43m:\u001b[49m\n\u001b[0;32m   6312\u001b[0m \u001b[43m        \u001b[49m\u001b[38;5;28;43;01mif\u001b[39;49;00m\u001b[43m \u001b[49m\u001b[38;5;28;43mself\u001b[39;49m\u001b[38;5;241;43m.\u001b[39;49m\u001b[43mis_conj\u001b[49m\u001b[43m(\u001b[49m\u001b[43m)\u001b[49m\u001b[43m:\u001b[49m\n",
      "File \u001b[1;32mc:\\Users\\mosai\\anaconda3\\envs\\data_science\\lib\\site-packages\\torch\\_decomp\\__init__.py:218\u001b[0m, in \u001b[0;36mregister_decomposition.<locals>.decomposition_decorator\u001b[1;34m(fn)\u001b[0m\n\u001b[0;32m    215\u001b[0m     _add_op_to_registry(registry, op, fn)\n\u001b[0;32m    217\u001b[0m \u001b[38;5;66;03m# To handle allowing multiple aten_ops at once\u001b[39;00m\n\u001b[1;32m--> 218\u001b[0m \u001b[43mpytree\u001b[49m\u001b[38;5;241;43m.\u001b[39;49m\u001b[43mtree_map_\u001b[49m\u001b[43m(\u001b[49m\u001b[43mregister\u001b[49m\u001b[43m,\u001b[49m\u001b[43m \u001b[49m\u001b[43maten_op\u001b[49m\u001b[43m)\u001b[49m\n\u001b[0;32m    219\u001b[0m \u001b[38;5;28;01mreturn\u001b[39;00m orig_fn\n",
      "File \u001b[1;32mc:\\Users\\mosai\\anaconda3\\envs\\data_science\\lib\\site-packages\\torch\\utils\\_pytree.py:1377\u001b[0m, in \u001b[0;36mtree_map_\u001b[1;34m(func, tree, is_leaf, *rests)\u001b[0m\n\u001b[0;32m   1349\u001b[0m \u001b[38;5;28;01mdef\u001b[39;00m\u001b[38;5;250m \u001b[39m\u001b[38;5;21mtree_map_\u001b[39m(\n\u001b[0;32m   1350\u001b[0m     func: Callable[\u001b[38;5;241m.\u001b[39m\u001b[38;5;241m.\u001b[39m\u001b[38;5;241m.\u001b[39m, Any],\n\u001b[0;32m   1351\u001b[0m     tree: PyTree,\n\u001b[0;32m   1352\u001b[0m     \u001b[38;5;241m*\u001b[39mrests: PyTree,\n\u001b[0;32m   1353\u001b[0m     is_leaf: Optional[Callable[[PyTree], \u001b[38;5;28mbool\u001b[39m]] \u001b[38;5;241m=\u001b[39m \u001b[38;5;28;01mNone\u001b[39;00m,\n\u001b[0;32m   1354\u001b[0m ) \u001b[38;5;241m-\u001b[39m\u001b[38;5;241m>\u001b[39m PyTree:\n\u001b[0;32m   1355\u001b[0m \u001b[38;5;250m    \u001b[39m\u001b[38;5;124;03m\"\"\"Like :func:`tree_map`, but do an inplace call on each leaf and return the original tree.\u001b[39;00m\n\u001b[0;32m   1356\u001b[0m \n\u001b[0;32m   1357\u001b[0m \u001b[38;5;124;03m    See also :func:`tree_map`.\u001b[39;00m\n\u001b[1;32m   (...)\u001b[0m\n\u001b[0;32m   1375\u001b[0m \u001b[38;5;124;03m        in ``tree`` and ``xs`` is the tuple of values at values at corresponding nodes in ``rests``.\u001b[39;00m\n\u001b[0;32m   1376\u001b[0m \u001b[38;5;124;03m    \"\"\"\u001b[39;00m\n\u001b[1;32m-> 1377\u001b[0m     leaves, treespec \u001b[38;5;241m=\u001b[39m \u001b[43mtree_flatten\u001b[49m\u001b[43m(\u001b[49m\u001b[43mtree\u001b[49m\u001b[43m,\u001b[49m\u001b[43m \u001b[49m\u001b[43mis_leaf\u001b[49m\u001b[38;5;241;43m=\u001b[39;49m\u001b[43mis_leaf\u001b[49m\u001b[43m)\u001b[49m\n\u001b[0;32m   1378\u001b[0m     flat_args \u001b[38;5;241m=\u001b[39m [leaves] \u001b[38;5;241m+\u001b[39m [treespec\u001b[38;5;241m.\u001b[39mflatten_up_to(r) \u001b[38;5;28;01mfor\u001b[39;00m r \u001b[38;5;129;01min\u001b[39;00m rests]\n\u001b[0;32m   1379\u001b[0m     deque(\u001b[38;5;28mmap\u001b[39m(func, \u001b[38;5;241m*\u001b[39mflat_args), maxlen\u001b[38;5;241m=\u001b[39m\u001b[38;5;241m0\u001b[39m)  \u001b[38;5;66;03m# consume and exhaust the iterable\u001b[39;00m\n",
      "File \u001b[1;32mc:\\Users\\mosai\\anaconda3\\envs\\data_science\\lib\\site-packages\\torch\\utils\\_pytree.py:1256\u001b[0m, in \u001b[0;36mtree_flatten\u001b[1;34m(tree, is_leaf)\u001b[0m\n\u001b[0;32m   1253\u001b[0m     \u001b[38;5;28;01mreturn\u001b[39;00m TreeSpec(node_type, context, subspecs)\n\u001b[0;32m   1255\u001b[0m leaves: \u001b[38;5;28mlist\u001b[39m[Any] \u001b[38;5;241m=\u001b[39m []\n\u001b[1;32m-> 1256\u001b[0m treespec \u001b[38;5;241m=\u001b[39m \u001b[43mhelper\u001b[49m\u001b[43m(\u001b[49m\u001b[43mtree\u001b[49m\u001b[43m,\u001b[49m\u001b[43m \u001b[49m\u001b[43mleaves\u001b[49m\u001b[43m)\u001b[49m\n\u001b[0;32m   1257\u001b[0m \u001b[38;5;28;01mreturn\u001b[39;00m leaves, treespec\n",
      "File \u001b[1;32mc:\\Users\\mosai\\anaconda3\\envs\\data_science\\lib\\site-packages\\torch\\utils\\_pytree.py:1243\u001b[0m, in \u001b[0;36mtree_flatten.<locals>.helper\u001b[1;34m(node, leaves)\u001b[0m\n\u001b[0;32m   1242\u001b[0m \u001b[38;5;28;01mdef\u001b[39;00m\u001b[38;5;250m \u001b[39m\u001b[38;5;21mhelper\u001b[39m(node: PyTree, leaves: \u001b[38;5;28mlist\u001b[39m[Any]) \u001b[38;5;241m-\u001b[39m\u001b[38;5;241m>\u001b[39m TreeSpec:\n\u001b[1;32m-> 1243\u001b[0m     \u001b[38;5;28;01mif\u001b[39;00m \u001b[43mtree_is_leaf\u001b[49m\u001b[43m(\u001b[49m\u001b[43mnode\u001b[49m\u001b[43m,\u001b[49m\u001b[43m \u001b[49m\u001b[43mis_leaf\u001b[49m\u001b[38;5;241;43m=\u001b[39;49m\u001b[43mis_leaf\u001b[49m\u001b[43m)\u001b[49m:\n\u001b[0;32m   1244\u001b[0m         leaves\u001b[38;5;241m.\u001b[39mappend(node)\n\u001b[0;32m   1245\u001b[0m         \u001b[38;5;28;01mreturn\u001b[39;00m _LEAF_SPEC\n",
      "File \u001b[1;32mc:\\Users\\mosai\\anaconda3\\envs\\data_science\\lib\\site-packages\\torch\\utils\\_pytree.py:1010\u001b[0m, in \u001b[0;36mtree_is_leaf\u001b[1;34m(tree, is_leaf)\u001b[0m\n\u001b[0;32m   1006\u001b[0m     \u001b[38;5;28;01mreturn\u001b[39;00m node_type\n\u001b[0;32m   1009\u001b[0m \u001b[38;5;66;03m# A leaf is defined as anything that is not a Node.\u001b[39;00m\n\u001b[1;32m-> 1010\u001b[0m \u001b[38;5;28;01mdef\u001b[39;00m\u001b[38;5;250m \u001b[39m\u001b[38;5;21mtree_is_leaf\u001b[39m(\n\u001b[0;32m   1011\u001b[0m     tree: PyTree,\n\u001b[0;32m   1012\u001b[0m     is_leaf: Optional[Callable[[PyTree], \u001b[38;5;28mbool\u001b[39m]] \u001b[38;5;241m=\u001b[39m \u001b[38;5;28;01mNone\u001b[39;00m,\n\u001b[0;32m   1013\u001b[0m ) \u001b[38;5;241m-\u001b[39m\u001b[38;5;241m>\u001b[39m \u001b[38;5;28mbool\u001b[39m:\n\u001b[0;32m   1014\u001b[0m \u001b[38;5;250m    \u001b[39m\u001b[38;5;124;03m\"\"\"Check if a pytree is a leaf.\u001b[39;00m\n\u001b[0;32m   1015\u001b[0m \n\u001b[0;32m   1016\u001b[0m \u001b[38;5;124;03m    >>> tree_is_leaf(1)\u001b[39;00m\n\u001b[1;32m   (...)\u001b[0m\n\u001b[0;32m   1027\u001b[0m \u001b[38;5;124;03m    False\u001b[39;00m\n\u001b[0;32m   1028\u001b[0m \u001b[38;5;124;03m    \"\"\"\u001b[39;00m\n\u001b[0;32m   1029\u001b[0m     \u001b[38;5;28;01mif\u001b[39;00m is_leaf \u001b[38;5;129;01mis\u001b[39;00m \u001b[38;5;129;01mnot\u001b[39;00m \u001b[38;5;28;01mNone\u001b[39;00m \u001b[38;5;129;01mand\u001b[39;00m is_leaf(tree):\n",
      "\u001b[1;31mKeyboardInterrupt\u001b[0m: "
     ]
    }
   ],
   "source": [
    "embeddings = HuggingFaceEmbeddings(\n",
    "    model_name='intfloat/multilingual-e5-large-instruct',\n",
    "    model_kwargs={'device': 'cuda'},\n",
    "    encode_kwargs={'normalize_embeddings': True}\n",
    ")"
   ]
  },
  {
   "cell_type": "code",
   "execution_count": null,
   "id": "3c0f6dff",
   "metadata": {},
   "outputs": [
    {
     "name": "stdout",
     "output_type": "stream",
     "text": [
      "📂 FAISS index exists. Loading...\n"
     ]
    },
    {
     "data": {
      "application/vnd.jupyter.widget-view+json": {
       "model_id": "7a92cb8bb8464e7ea32d7e2980c5de18",
       "version_major": 2,
       "version_minor": 0
      },
      "text/plain": [
       "Loading FAISS index:   0%|          | 0/1 [00:00<?, ?it/s]"
      ]
     },
     "metadata": {},
     "output_type": "display_data"
    },
    {
     "name": "stdout",
     "output_type": "stream",
     "text": [
      "✅ FAISS index loaded.\n"
     ]
    }
   ],
   "source": [
    "path = base_path / '..' / 'faiss_e5large_v1.0'\n",
    "\n",
    "if not path.exists():\n",
    "    print(\"🚧 Index not found. Creating...\")\n",
    "            \n",
    "    # Create progress indicator for index creation\n",
    "    total_docs = len(documents)\n",
    "    with tqdm(total=total_docs, desc=\"Creating FAISS index\") as pbar:\n",
    "        # We'll use a wrapper to update the progress bar\n",
    "        def progress_update(batch_size=100):\n",
    "            pbar.update(batch_size)\n",
    "        \n",
    "        # Create chunks to show progress\n",
    "        chunk_size = 100\n",
    "        chunked_docs = [documents[i:i + chunk_size] for i in range(0, len(documents), chunk_size)]\n",
    "        \n",
    "        # Start with first chunk\n",
    "        vectorstore = FAISS.from_documents(chunked_docs[0], embeddings)\n",
    "        progress_update(len(chunked_docs[0]))\n",
    "        \n",
    "        # Add remaining chunks\n",
    "        for chunk in chunked_docs[1:]:\n",
    "            vectorstore.add_documents(chunk)\n",
    "            progress_update(len(chunk))\n",
    "            \n",
    "        # Save the index\n",
    "        with tqdm(total=1, desc=\"Saving FAISS index\") as save_pbar:\n",
    "            vectorstore.save_local(path)\n",
    "            save_pbar.update(1)\n",
    "            \n",
    "    print(\"✅ FAISS index created and saved.\")\n",
    "else:\n",
    "    print(\"📂 FAISS index exists. Loading...\")\n",
    "    with green_progress_bar(total=1, desc=\"Loading FAISS index\") as pbar:\n",
    "        vectorstore = FAISS.load_local(path, embeddings, allow_dangerous_deserialization=True)\n",
    "        pbar.update(1)\n",
    "    print(\"✅ FAISS index loaded.\")\n",
    "\n",
    "retriever = vectorstore.as_retriever(\n",
    "    search_type=\"similarity_score_threshold\", \n",
    "    search_kwargs={\n",
    "        \"k\": 50,                     \n",
    "        \"score_threshold\": 0.5,      \n",
    "    })"
   ]
  },
  {
   "cell_type": "markdown",
   "id": "e88fcbe6",
   "metadata": {},
   "source": [
    "# Instantiating the LLM model with (Groq || google || nvidia)  provider."
   ]
  },
  {
   "cell_type": "code",
   "execution_count": null,
   "id": "6c74e467",
   "metadata": {},
   "outputs": [],
   "source": [
    "llm = ChatNVIDIA(model=\"meta/llama-3.3-70b-instruct\", temperature=0.2)\n",
    "llm = ChatGoogleGenerativeAI(model='gemini-2.0-flash', temperature=0.3)"
   ]
  },
  {
   "cell_type": "markdown",
   "id": "ed55d5d1",
   "metadata": {},
   "source": [
    "# Prompt Template"
   ]
  },
  {
   "cell_type": "code",
   "execution_count": null,
   "id": "2976bd1c",
   "metadata": {},
   "outputs": [],
   "source": [
    "prompt_template = PromptTemplate(\n",
    "    input_variables=[\"context\", \"user_query\", \"favorite_places\", \"visitor_type\", \"num_days\", \"budget\"],\n",
    "    template=\"\"\"You are a helpful travel planner AI.\n",
    "Use the context below, which contains information about ticket prices, place descriptions, restaurant details, and art gallery information.\n",
    "\n",
    "Context:\n",
    "{context}\n",
    "\n",
    "User Query:\n",
    "{user_query}\n",
    "\n",
    "Additional Preferences:\n",
    "- Favorite types of places: {favorite_places}\n",
    "- Visitor type: {visitor_type} (e.g., Egyptian, Egyptian student, Foreign, or foreign student)\n",
    "- Number of travel days: {num_days}\n",
    "- Overall budget for all days: {budget} EGP\n",
    "- Exclude hotels from the plan.\n",
    "- Ensure that the itinerary includes at least 3 meals per day.\n",
    "\n",
    "Based on the above, return a detailed {num_days}-day travel itinerary with approximate costs and suggestions. If some details are missing, make reasonable assumptions and indicate them.\n",
    "\"\"\"\n",
    ")"
   ]
  },
  {
   "cell_type": "code",
   "execution_count": null,
   "id": "75b83a94",
   "metadata": {},
   "outputs": [],
   "source": [
    "improved_prompt_template = PromptTemplate(\n",
    "    input_variables=[\"context\", \"user_query\", \"favorite_places\", \"visitor_type\", \"num_days\", \"budget\"],\n",
    "    template=\"\"\"You are an expert Egyptian travel planner with extensive knowledge of historical sites, cultural attractions, local cuisine, and hidden gems across Egypt. Your task is to create a personalized travel itinerary that matches the user's preferences and constraints.\n",
    "\n",
    "### AVAILABLE INFORMATION:\n",
    "{context}\n",
    "\n",
    "### USER REQUEST:\n",
    "{user_query}\n",
    "\n",
    "### USER PREFERENCES:\n",
    "- Favorite types of places: {favorite_places}\n",
    "- Visitor category: {visitor_type} (Affects ticket pricing)\n",
    "- Trip duration: {num_days} days\n",
    "- Total budget: {budget} EGP for the entire trip\n",
    "\n",
    "### DETAILED INSTRUCTIONS:\n",
    "1. ATTRACTIONS SELECTION:\n",
    "   - Prioritize attractions that SPECIFICALLY MATCH user's favorite place types\n",
    "   - Select attractions with CONFIRMED AVAILABILITY and VISITING HOURS\n",
    "   - Include EXACT TICKET PRICES for the appropriate visitor type ({visitor_type})\n",
    "   - Consider geographic proximity to minimize travel time\n",
    "\n",
    "2. DINING RECOMMENDATIONS:\n",
    "   - Include exactly 3 meals per day (breakfast, lunch, dinner)\n",
    "   - Recommend authentic Egyptian cuisine and local specialties\n",
    "   - Include specific restaurant names, locations, and price ranges\n",
    "\n",
    "3. TIME MANAGEMENT:\n",
    "   - Create a REALISTIC timeline accounting for travel between locations\n",
    "   - Allow sufficient time at major attractions (2-3 hours minimum for important sites)\n",
    "   - Schedule meals at appropriate times (breakfast: 7-9 AM, lunch: 12-2 PM, dinner: 7-9 PM)\n",
    "   - Include short breaks between activities\n",
    "\n",
    "4. BUDGET ALLOCATION:\n",
    "   - Track running costs for all activities and meals\n",
    "   - Allocate budget appropriately across all days\n",
    "   - Reserve 5% of budget for unexpected expenses\n",
    "   - Prioritize MUST-SEE attractions even if they're more expensive\n",
    "\n",
    "5. CULTURAL CONTEXT:\n",
    "   - Provide brief historical/cultural significance for major attractions\n",
    "   - Note any specific customs, dress codes, or etiquette for religious or cultural sites\n",
    "   - Mention optimal visiting conditions (e.g., \"best viewed at sunset\")\n",
    "\n",
    "DO NOT include hotels or accommodations in your plan.\n",
    "DO NOT exceed the total budget provided.\n",
    "DO NOT recommend places without confirmed existence in the provided context.\n",
    "ALWAYS show exact or estimated costs for EACH attraction and meal.\n",
    "\n",
    "Your response must follow the structured format required by the JSON schema, with complete details for each day's activities.\n",
    "\"\"\"\n",
    ")"
   ]
  },
  {
   "cell_type": "code",
   "execution_count": null,
   "id": "105a9696",
   "metadata": {},
   "outputs": [],
   "source": [
    "# Add this improved budget-conscious prompt template\n",
    "budget_conscious_prompt = PromptTemplate(\n",
    "    input_variables=[\"context\", \"user_query\", \"favorite_places\", \"visitor_type\", \"num_days\", \"budget\"],\n",
    "    template=\"\"\"You are an expert Egyptian travel planner with extensive knowledge of historical sites, cultural attractions, local cuisine, and hidden gems across Egypt. Your task is to create a personalized travel itinerary that STRICTLY ADHERES TO THE BUDGET CONSTRAINTS.\n",
    "\n",
    "### AVAILABLE INFORMATION:\n",
    "{context}\n",
    "\n",
    "### USER REQUEST:\n",
    "{user_query}\n",
    "\n",
    "### USER PREFERENCES:\n",
    "- Favorite types of places: {favorite_places}\n",
    "- Visitor category: {visitor_type} (Affects ticket pricing)\n",
    "- Trip duration: {num_days} days\n",
    "- MAXIMUM TOTAL BUDGET: {budget} EGP for the entire trip (THIS IS A HARD CONSTRAINT)\n",
    "\n",
    "### DETAILED INSTRUCTIONS:\n",
    "1. BUDGET MANAGEMENT (HIGHEST PRIORITY):\n",
    "   - The total cost MUST NOT EXCEED {budget} EGP under any circumstances\n",
    "   - If necessary, REDUCE THE NUMBER OF ACTIVITIES per day to stay within budget\n",
    "   - Allocate budget in this order of priority: (1) Must-see attractions, (2) Meals, (3) Secondary attractions\n",
    "   - Track cumulative costs meticulously throughout the itinerary\n",
    "   - Reserve 10% of budget for contingencies and transportation between sites\n",
    "\n",
    "2. ATTRACTIONS SELECTION:\n",
    "   - Prioritize attractions that match user's favorite place types AND provide the best value for money\n",
    "   - For each attraction, include EXACT TICKET PRICES for {visitor_type} visitors\n",
    "   - If an attraction is expensive but unmissable, compensate by selecting more affordable options for other activities\n",
    "   - Consider free or low-cost alternatives when possible (e.g., viewpoints, markets, walking tours)\n",
    "\n",
    "3. DINING RECOMMENDATIONS:\n",
    "   - Include 3 meals per day with realistic costs\n",
    "   - Balance between authentic experiences and budget constraints\n",
    "   - For expensive destinations, suggest at least one affordable meal option per day\n",
    "   - Include specific price estimates for each meal\n",
    "\n",
    "4. TIME AND ACTIVITY MANAGEMENT:\n",
    "   - If budget forces reduction in activities, focus on QUALITY over QUANTITY\n",
    "   - Allow sufficient time at major attractions (2-3 hours minimum)\n",
    "   - Group activities by geographic proximity to reduce transportation costs\n",
    "   - Include at least one low-cost or free activity each day\n",
    "\n",
    "5. BUDGET BREAKDOWN:\n",
    "   - At the end of each day's itinerary, provide a running total of expenses\n",
    "   - Clearly itemize all costs in the itinerary\n",
    "   - If assumptions are made about costs, they should be CONSERVATIVE estimates\n",
    "\n",
    "DO NOT include hotels or accommodations in your plan.\n",
    "DO NOT exceed the total budget provided - this is a strict requirement.\n",
    "DO NOT recommend places without confirmed existence in the provided context.\n",
    "DO REDUCE the number of activities rather than exceeding the budget.\n",
    "\n",
    "Your response must follow the structured format required by the JSON schema, with complete details for each day's activities and accurate cost tracking.\n",
    "\"\"\"\n",
    ")"
   ]
  },
  {
   "cell_type": "markdown",
   "id": "7b19651a",
   "metadata": {},
   "source": [
    "# Structured Output"
   ]
  },
  {
   "cell_type": "code",
   "execution_count": null,
   "id": "f0ea904b",
   "metadata": {},
   "outputs": [],
   "source": [
    "json_schema = {\n",
    "    \"title\": \"TravelItinerary\",\n",
    "    \"description\": \"A structured travel itinerary for the user.\",\n",
    "    \"type\": \"object\",\n",
    "    \"properties\": {\n",
    "        \"days\": {\n",
    "            \"type\": \"array\",\n",
    "            \"description\": \"List of days with planned activities.\",\n",
    "            \"items\": {\n",
    "                \"type\": \"object\",\n",
    "                \"properties\": {\n",
    "                    \"day\": {\"type\": \"string\", \"description\": \"Theme of the Day or Day label, e.g., 'Day 1'\"},\n",
    "                    \"activities\": {\n",
    "                        \"type\": \"array\",\n",
    "                        \"des3                                           cription\": \"Activities planned for the day.\",\n",
    "                        \"items\": {\n",
    "                            \"type\": \"object\",\n",
    "                            \"properties\": {\n",
    "                                \"time\": {\"type\": \"string\", \"description\": \"Time of the activity\"},\n",
    "                                \"activity\": {\"type\": \"string\", \"description\": \"Name of the activity\"},\n",
    "                                \"location\": {\"type\": \"string\", \"description\": \"Location name\"},\n",
    "                                \"price_range\": {\"type\": \"string\", \"description\": \"Price range or cost\"},\n",
    "                            },\n",
    "                            \"required\": [\"time\", \"activity\", \"location\"]\n",
    "                        }\n",
    "                    },\n",
    "                    \"approximate_cost\": {\"type\": \"string\", \"description\": \"Total cost for the day\"}\n",
    "                },\n",
    "                \"required\": [\"day\", \"activities\", \"approximate_cost\"]\n",
    "            }\n",
    "        },\n",
    "        \"total_approximate_cost\": {\n",
    "            \"type\": \"string\",\n",
    "            \"description\": \"Total cost for the trip\"\n",
    "        },\n",
    "        \"notes\": {\n",
    "            \"type\": \"string\",\n",
    "            \"description\": \"Any additional notes or assumptions\"\n",
    "        }\n",
    "    },\n",
    "    \"required\": [\"days\", \"total_approximate_cost\"]\n",
    "}"
   ]
  },
  {
   "cell_type": "code",
   "execution_count": null,
   "id": "81577d63",
   "metadata": {},
   "outputs": [
    {
     "name": "stderr",
     "output_type": "stream",
     "text": [
      "c:\\Users\\mosai\\anaconda3\\envs\\data_science\\lib\\site-packages\\langchain_google_genai\\chat_models.py:1410: UserWarning: ChatGoogleGenerativeAI.with_structured_output with dict schema has changed recently to align with behavior of other LangChain chat models. More context: https://github.com/langchain-ai/langchain-google/pull/772\n",
      "  warnings.warn(\n"
     ]
    }
   ],
   "source": [
    "structured_llm = llm.with_structured_output(json_schema)\n"
   ]
  },
  {
   "cell_type": "code",
   "execution_count": null,
   "id": "09dc12cd",
   "metadata": {},
   "outputs": [],
   "source": [
    "def generate_enhanced_query1(destination, interests, visitor_type):\n",
    "    \"\"\"\n",
    "    Generate an enhanced query that will retrieve more relevant documents from the vector store,\n",
    "    with special focus on dining options and food experiences.\n",
    "    \n",
    "    Args:\n",
    "        destination (str): The main destination (city or region) for the trip\n",
    "        interests (list): List of specific interests like [\"temples\", \"museums\", \"local cuisine\"]\n",
    "        visitor_type (str): Type of visitor (Egyptian, Foreign, etc.)\n",
    "        num_days (int): Number of days for the trip\n",
    "        budget (int): Budget in EGP\n",
    "        \n",
    "    Returns:\n",
    "        str: Enhanced query for better retrieval\n",
    "    \"\"\"\n",
    "    # Format the interests as a comma-separated string\n",
    "    interests_str = \", \".join(interests)\n",
    "    \n",
    "    # Add food-related keywords to interests if not already present\n",
    "    food_terms = [\"restaurants\", \"cafes\", \"local cuisine\", \"dining\", \"food\"]\n",
    "    food_interests = [term for term in food_terms if term not in interests_str.lower()]\n",
    "    if food_interests:\n",
    "        interests_str += f\", {', '.join(food_interests)}\"\n",
    "    \n",
    "    # Construct a more specific query with keywords that match document content\n",
    "    query = f\"\"\"\n",
    "    Detailed travel plan for {destination} Egypt focusing on {interests_str}.\n",
    "    I need comprehensive information about:\n",
    "    \n",
    "    ATTRACTIONS:\n",
    "    1. Ticket prices for {visitor_type} visitors\n",
    "    2. Opening hours and visiting times for attractions\n",
    "    3. Cultural sites and museums in {destination}\n",
    "    \n",
    "    DINING OPTIONS (IMPORTANT):\n",
    "    1. Popular restaurants in {destination} with price range between 100-300 EGP\n",
    "    2. Coffee shops and cafes in {destination}\n",
    "    3. Traditional Egyptian dining establishments\n",
    "    4. Food markets and street food locations\n",
    "    5. Breakfast locations open in the morning\n",
    "    6. Lunch restaurants with good ratings\n",
    "    7. Dinner options that serve authentic Egyptian cuisine\n",
    "    8. Dessert places and sweet shops\n",
    "    9. Specialty food items in {destination}\n",
    "    10. Restaurant rating information and visitor reviews\n",
    "    11. Restaurants with Nile views or special settings\n",
    "    12. Seafood restaurants in {destination}\n",
    "    \n",
    "    Please include specific names, locations, price ranges, and opening hours for all food establishments.\n",
    "    \"\"\"\n",
    "    \n",
    "    return query.strip()"
   ]
  },
  {
   "cell_type": "code",
   "execution_count": null,
   "id": "47d07a74",
   "metadata": {},
   "outputs": [],
   "source": [
    "\n",
    "def generate_enhanced_query(destination, interests, visitor_type):\n",
    "    \"\"\"\n",
    "    Generate an enhanced query that will retrieve more relevant documents from the vector store.\n",
    "    \n",
    "    Args:\n",
    "        destination (str): The main destination (city or region) for the trip\n",
    "        interests (list): List of specific interests like [\"temples\", \"museums\", \"local cuisine\"]\n",
    "        visitor_type (str): Type of visitor (Egyptian, Foreign, etc.)\n",
    "        num_days (int): Number of days for the trip\n",
    "        budget (int): Budget in EGP\n",
    "        \n",
    "    Returns:\n",
    "        str: Enhanced query for better retrieval\n",
    "    \"\"\"\n",
    "    # Format the interests as a comma-separated string\n",
    "    interests_str = \", \".join(interests)\n",
    "    \n",
    "    # Construct a more specific query with keywords that match document content\n",
    "    query = f\"\"\"\n",
    "    Detailed travel plan for {destination} Egypt focusing on {interests_str}.\n",
    "    Need specific information about:\n",
    "    1. Ticket prices for {visitor_type} visitors\n",
    "    2. Opening hours and visiting times for attractions\n",
    "    3. Highly rated places with at least 4-star ratings\n",
    "    4. Cultural sites in {destination} with their exact locations\n",
    "    5. Art galleries and museums in {destination}\n",
    "    6. Popular local restaurants in {destination}\n",
    "    7. Highly-rated cafes and coffee shops in {destination}\n",
    "    8. Traditional Egyptian dining experiences and restaurants\n",
    "    9. Local food markets and street food vendors\n",
    "    10. Price ranges for restaurants and cafes\n",
    "    11. Authentic dining options for breakfast, lunch, and dinner\n",
    "    12. Food specialties and must-try dishes in {destination}\n",
    "    \"\"\"\n",
    "    \n",
    "    return query.strip()\n",
    "\n",
    "destination = \"Luxor\"\n",
    "interests = [\"temples\", \"Valley of the Kings\", \"Karnak\", \"local cuisine\", \"art galleries\"]\n",
    "visitor_type = \"Foreign\"  # or \"Egyptian\", \"Egyptian student\", \"foreign student\"\n",
    "num_days = 3\n",
    "budget = 5000\n",
    "\n",
    "enhanced_query = generate_enhanced_query(destination, interests, visitor_type)"
   ]
  },
  {
   "cell_type": "code",
   "execution_count": null,
   "id": "f7271955",
   "metadata": {},
   "outputs": [],
   "source": [
    "\n",
    "def generate_travel_plan(retriever_query, favorite_places, visitor_type, num_days, budget, city):\n",
    "    docs = retriever.invoke(retriever_query)\n",
    "    user_query = f'Plan a {num_days}-day trip in {city} with visits to {favorite_places}, and dining options.'\n",
    "    context_text = \"\\n\".join([doc.page_content for doc in docs])\n",
    "    prompt = improved_prompt_template.format(\n",
    "        context=context_text,\n",
    "        user_query=user_query,\n",
    "        favorite_places=favorite_places,\n",
    "        visitor_type=visitor_type,\n",
    "        num_days=num_days,\n",
    "        budget=budget\n",
    "    )\n",
    "    response = structured_llm.invoke(prompt)\n",
    "    return response"
   ]
  },
  {
   "cell_type": "code",
   "execution_count": null,
   "id": "c926ed9d",
   "metadata": {},
   "outputs": [
    {
     "name": "stderr",
     "output_type": "stream",
     "text": [
      "Key 'parameters' is not supported in schema, ignoring\n"
     ]
    },
    {
     "data": {
      "text/plain": [
       "{'days': [{'activities': [{'activity': 'Visit Karnak Temples',\n",
       "     'time': '8:00 AM',\n",
       "     'location': 'Karnak Temples',\n",
       "     'price_range': '600 EGP'},\n",
       "    {'activity': 'Breakfast at Aboudi Coffee Break',\n",
       "     'price_range': '200 EGP',\n",
       "     'location': 'Aboudi Coffee Break',\n",
       "     'time': '11:00 AM'},\n",
       "    {'activity': 'Explore Luxor Temple',\n",
       "     'price_range': '500 EGP',\n",
       "     'location': 'Luxor Temple',\n",
       "     'time': '1:00 PM'},\n",
       "    {'activity': 'Lunch at White Coffee & Restaraunt',\n",
       "     'price_range': '200 EGP',\n",
       "     'location': 'White Coffee & Restaraunt',\n",
       "     'time': '4:00 PM'},\n",
       "    {'activity': 'Visit Luxor Museum',\n",
       "     'time': '6:00 PM',\n",
       "     'location': 'Luxor Museum',\n",
       "     'price_range': '400 EGP'},\n",
       "    {'activity': 'Dinner at Café & Restaurant Maratonga',\n",
       "     'price_range': '200 EGP',\n",
       "     'location': 'Café & Restaurant Maratonga',\n",
       "     'time': '8:00 PM'}],\n",
       "   'day': 'Day 1: Ancient Wonders',\n",
       "   'approximate_cost': '2100 EGP'},\n",
       "  {'day': 'Day 2: Valley of the Kings & West Bank',\n",
       "   'activities': [{'activity': 'Visit Valley of the Kings',\n",
       "     'time': '7:00 AM',\n",
       "     'location': 'Valley of the Kings',\n",
       "     'price_range': '750 EGP'},\n",
       "    {'activity': 'Breakfast at Luxor train station cafe',\n",
       "     'price_range': '100 EGP',\n",
       "     'location': 'Luxor train station cafe',\n",
       "     'time': '10:00 AM'},\n",
       "    {'activity': 'Explore Temple of Hatshepsut',\n",
       "     'price_range': '440 EGP',\n",
       "     'location': 'Temple of Hatshepsut',\n",
       "     'time': '12:00 PM'},\n",
       "    {'activity': 'Lunch at Aboudi Coffee Break',\n",
       "     'time': '3:00 PM',\n",
       "     'location': 'Aboudi Coffee Break',\n",
       "     'price_range': '200 EGP'},\n",
       "    {'activity': 'Visit Medinet Habu',\n",
       "     'time': '5:00 PM',\n",
       "     'location': 'Medinet Habu',\n",
       "     'price_range': '220 EGP'},\n",
       "    {'activity': 'Dinner at White Coffee & Restaraunt',\n",
       "     'price_range': '200 EGP',\n",
       "     'location': 'White Coffee & Restaraunt',\n",
       "     'time': '8:00 PM'}],\n",
       "   'approximate_cost': '1810 EGP'},\n",
       "  {'day': 'Day 3: Queens, Art, and Departure',\n",
       "   'activities': [{'activity': 'Visit Valley of the Queens',\n",
       "     'time': '8:00 AM',\n",
       "     'location': 'Valley of the Queens',\n",
       "     'price_range': '220 EGP'},\n",
       "    {'activity': 'Breakfast at Café & Restaurant Maratonga',\n",
       "     'price_range': '200 EGP',\n",
       "     'location': 'Café & Restaurant Maratonga',\n",
       "     'time': '10:00 AM'},\n",
       "    {'activity': 'Visit Ramesseum',\n",
       "     'time': '12:00 PM',\n",
       "     'location': 'Ramesseum',\n",
       "     'price_range': '220 EGP'},\n",
       "    {'activity': 'Lunch at Luxor train station cafe',\n",
       "     'price_range': '100 EGP',\n",
       "     'location': 'Luxor train station cafe',\n",
       "     'time': '3:00 PM'},\n",
       "    {'activity': 'Visit Luxor Art Gallery',\n",
       "     'time': '5:00 PM',\n",
       "     'location': 'Luxor Art Gallery',\n",
       "     'price_range': '0 EGP'},\n",
       "    {'activity': 'Dinner at Aboudi Coffee Break',\n",
       "     'price_range': '200 EGP',\n",
       "     'location': 'Aboudi Coffee Break',\n",
       "     'time': '8:00 PM'}],\n",
       "   'approximate_cost': '940 EGP'}],\n",
       " 'total_approximate_cost': '4850 EGP',\n",
       " 'notes': 'This itinerary focuses on cultural sites, historical landmarks, and art galleries, with dining at local restaurants. Ticket prices are for foreign visitors. The budget includes a 5% contingency. Remember to dress respectfully when visiting religious sites. Best viewed at sunset: Luxor Temple and Karnak Temples. The currency is Egyptian Pounds (EGP).'}"
      ]
     },
     "execution_count": 33,
     "metadata": {},
     "output_type": "execute_result"
    }
   ],
   "source": [
    "favorite_places = \"Cultural sites, historical landmarks, art galleries\"\n",
    "travel_plan = generate_travel_plan(enhanced_query, favorite_places, visitor_type, num_days, budget, destination)\n",
    "travel_plan"
   ]
  }
 ],
 "metadata": {
  "kernelspec": {
   "display_name": "data_science",
   "language": "python",
   "name": "python3"
  },
  "language_info": {
   "codemirror_mode": {
    "name": "ipython",
    "version": 3
   },
   "file_extension": ".py",
   "mimetype": "text/x-python",
   "name": "python",
   "nbconvert_exporter": "python",
   "pygments_lexer": "ipython3",
   "version": "3.10.16"
  }
 },
 "nbformat": 4,
 "nbformat_minor": 5
}
