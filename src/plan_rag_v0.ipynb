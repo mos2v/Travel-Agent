{
 "cells": [
  {
   "cell_type": "code",
   "execution_count": null,
   "metadata": {},
   "outputs": [],
   "source": [
    "import os\n",
    "import sys\n",
    "import pandas as pd\n",
    "import numpy as np\n",
    "from pathlib import Path\n",
    "\n",
    "from langchain_core.documents import Document\n",
    "from langchain_huggingface import HuggingFaceEmbeddings\n",
    "\n",
    "from langchain_community.vectorstores import FAISS\n",
    "from langchain.prompts import PromptTemplate\n",
    "from langchain.chat_models import init_chat_model\n",
    "from typing import List, Optional\n",
    "from pydantic import BaseModel, Field\n"
   ]
  },
  {
   "cell_type": "code",
   "execution_count": null,
   "metadata": {},
   "outputs": [],
   "source": [
    "from dotenv import load_dotenv"
   ]
  },
  {
   "cell_type": "code",
   "execution_count": null,
   "metadata": {},
   "outputs": [],
   "source": [
    "os.environ[\"LANGCHAIN_TRACING_V2\"] = \"true\"\n",
    "os.environ[\"LANGCHAIN_ENDPOINT\"] = \"https://api.smith.langchain.com\"\n",
    "os.environ[\"LANGCHAIN_PROJECT\"] = \"travel_planner_v1.0\""
   ]
  },
  {
   "cell_type": "code",
   "execution_count": null,
   "metadata": {},
   "outputs": [],
   "source": [
    "landmark_prices = pd.read_csv(os.path.abspath('../data/egypt.csv'))\n",
    "luxor_landmark = pd.read_csv(os.path.abspath('../data/temp/places.csv'))\n",
    "luxor_restaurants = pd.read_csv(os.path.abspath('../data/temp/restaurants.csv'))\n",
    "luxor_art = pd.read_csv(os.path.abspath('../data/temp/artgallery.csv'))"
   ]
  },
  {
   "cell_type": "code",
   "execution_count": null,
   "metadata": {},
   "outputs": [],
   "source": [
    "all_documents = []\n",
    "for _, row in landmark_prices.iterrows():\n",
    "    text = f\"\"\"\n",
    "    Governorate: {row['Governorate/City']}\n",
    "    Site: {row['Place']}\n",
    "    Egyptian Ticket: {row['Egyptian']}\n",
    "    Egyptian Student Ticket: {row['EgyptianStudent']}\n",
    "    Foreign Ticket: {row['Foreign']}\n",
    "    Foreign Student Ticket: {row['ForeignStudent']}\n",
    "    Visiting Times: {row['VisitingTimes']}\n",
    "    \"\"\"\n",
    "    all_documents.append(Document(page_content=text, metadata={\"source\": 'landmark_prices'}))\n"
   ]
  },
  {
   "cell_type": "code",
   "execution_count": null,
   "metadata": {},
   "outputs": [],
   "source": [
    "\n",
    "for _, row in luxor_landmark.iterrows():\n",
    "    text = f\"\"\"\n",
    "    Site: {row['title']}\n",
    "    Description: {row['description']}\n",
    "    Site Category Name: {row['categoryName']}\n",
    "    Site Categories: {row['Categories']}\n",
    "    Location: {row['address']}\n",
    "    Star Rating: {row['totalScore']}\n",
    "    \"\"\"\n",
    "    all_documents.append(Document(page_content=text, metadata={\"source\": 'Luxor Landmarks'}))\n",
    "\n",
    "    \n",
    "\n",
    "\n",
    "\n"
   ]
  },
  {
   "cell_type": "code",
   "execution_count": null,
   "metadata": {},
   "outputs": [],
   "source": [
    "for _, row in luxor_restaurants.iterrows():\n",
    "    text = f\"\"\"\n",
    "    Name: {row['title']}\n",
    "    Restaurant Category Name: {row['categoryName']}\n",
    "    Restaurant Categories: {row['Categories']}\n",
    "    Address: {row['address']}\n",
    "    Price Range: {row['price']}\n",
    "    Star Rating: {row['totalScore']}\n",
    "    Website: {row['website']}\n",
    "    \"\"\"\n",
    "    all_documents.append(Document(page_content=text, metadata={\"source\": 'Luxor Restaurants'}))"
   ]
  },
  {
   "cell_type": "code",
   "execution_count": null,
   "metadata": {},
   "outputs": [],
   "source": [
    "for _, row in luxor_art.iterrows():\n",
    "    text = f\"\"\"\n",
    "    Art Gallery Name: {row['title']}\n",
    "    Art Gallery Categories: {row['Categories']}\n",
    "    Art Gallery Address: {row['address']}\n",
    "    Art Gallery Website: {row['website']}\n",
    "    Star Rating: {row['totalScore']}\n",
    "    \"\"\"\n",
    "    all_documents.append(Document(page_content=text, metadata={\"source\": 'Luxor Art Galleries'}))"
   ]
  },
  {
   "cell_type": "code",
   "execution_count": null,
   "metadata": {},
   "outputs": [],
   "source": [
    "embeddings = HuggingFaceEmbeddings(model_name=\"sentence-transformers/all-mpnet-base-v2\")\n",
    "\n",
    "\n"
   ]
  },
  {
   "cell_type": "code",
   "execution_count": null,
   "metadata": {},
   "outputs": [],
   "source": [
    "path = Path('faiss_mpnetv2_v0')\n",
    "if not path.exists():\n",
    "    vectorstore = FAISS.from_documents(all_documents, embeddings)\n",
    "    vectorstore.save_local('faiss_mpnetv2_v0')\n",
    "\n",
    "\n"
   ]
  },
  {
   "cell_type": "code",
   "execution_count": null,
   "metadata": {},
   "outputs": [],
   "source": [
    "vectorstore = FAISS.load_local(\"faiss_mpnetv2_v0\", embeddings, allow_dangerous_deserialization=True)\n",
    "\n",
    "retriever = vectorstore.as_retriever(search_kwargs={\"k\": 50})"
   ]
  },
  {
   "cell_type": "code",
   "execution_count": null,
   "metadata": {},
   "outputs": [],
   "source": [
    "llm_model = init_chat_model(\"llama-3.3-70b-versatile\", model_provider=\"groq\", temperature=0)\n",
    "# llm_model = init_chat_model('deepseek-r1-distill-llama-70b', model_provider='groq', temperature=0)"
   ]
  },
  {
   "cell_type": "code",
   "execution_count": null,
   "metadata": {},
   "outputs": [],
   "source": [
    "# qa_chain = RetrievalQA.from_chain_type(\n",
    "#     llm=llm_model,\n",
    "#     chain_type=\"stuff\",        # \"stuff\" means it will stuff all retrieved docs into the prompt\n",
    "#     retriever=retriever\n",
    "# )"
   ]
  },
  {
   "cell_type": "markdown",
   "metadata": {},
   "source": [
    "# Structured Output"
   ]
  },
  {
   "cell_type": "code",
   "execution_count": null,
   "metadata": {},
   "outputs": [],
   "source": [
    "class Activity(BaseModel):\n",
    "    time: str = Field(..., description=\"Time of the activity\")\n",
    "    activity: str = Field(..., description=\"Name of the activity\")\n",
    "    location: str = Field(..., description=\"Location name\")\n",
    "    price_range: Optional[str] = Field(None, description=\"Price range or cost\")\n",
    "\n",
    "class DayPlan(BaseModel):\n",
    "    day: str = Field(..., description=\"Theme of the Day or Day label, e.g., 'Day 1'\")\n",
    "    activities: List[Activity] = Field(..., description=\"Activities planned for the day\")\n",
    "    approximate_cost: str = Field(..., description=\"Total cost for the day\")\n",
    "\n",
    "class TravelItinerary(BaseModel):\n",
    "    days: List[DayPlan] = Field(..., description=\"List of days with planned activities\")\n",
    "    total_approximate_cost: str = Field(..., description=\"Total cost for the trip\")\n",
    "    notes: Optional[str] = Field(None, description=\"Any additional notes or assumptions\")"
   ]
  },
  {
   "cell_type": "code",
   "execution_count": null,
   "metadata": {},
   "outputs": [],
   "source": [
    "# prompt_template = PromptTemplate(\n",
    "#     input_variables=[\"context\", \"user_query\", \"favorite_places\", \"visitor_type\", \"num_days\", \"budget\"],\n",
    "#     template=\"\"\"You are a helpful travel planner AI.\n",
    "# Use the context below, which contains information about ticket prices, place descriptions, restaurant details, and art gallery information.\n",
    "\n",
    "# Context:\n",
    "# {context}\n",
    "\n",
    "# User Query:\n",
    "# {user_query}\n",
    "\n",
    "# Additional Preferences:\n",
    "# - Favorite types of places: {favorite_places}\n",
    "# - Visitor type: {visitor_type} (e.g., Egyptian, Egyptian student, Foreign, or foreign student)\n",
    "# - Number of travel days: {num_days}\n",
    "# - Overall budget for all days: {budget} EGP\n",
    "# - Exclude hotels from the plan.\n",
    "# - Ensure that the itinerary includes at least 3 meals per day.\n",
    "\n",
    "# Based on the above, return a detailed itinerary in a JSON format. \n",
    "# The JSON should have the following structure:\n",
    "\n",
    "# {\n",
    "#   \"days\": [\n",
    "#     {\n",
    "#       \"day\": \"Day 1\",\n",
    "#       \"activities\": [\n",
    "#          {\n",
    "#            \"time\": \"8:00 am\",\n",
    "#            \"activity\": \"Breakfast\",\n",
    "#            \"location\": \"Bab Sharq Luxor\",\n",
    "#            \"price_range\": \"E£100-200\"\n",
    "#          },\n",
    "#          {\n",
    "#            \"time\": \"9:00 am\",\n",
    "#            \"activity\": \"Visit\",\n",
    "#            \"location\": \"Luxor Museum\",\n",
    "#            \"ticket_cost\": \"400 EGP\"\n",
    "#          },\n",
    "#          ... // other activities for the day\n",
    "#       ],\n",
    "#       \"approximate_cost\": \"1200 EGP\"\n",
    "#     },\n",
    "#     ... // more days\n",
    "#   ],\n",
    "#   \"total_approximate_cost\": \"4210 EGP\",\n",
    "#   \"notes\": \"Any assumptions or additional notes.\"\n",
    "# }\n",
    "\n",
    "# Please ensure the output is valid JSON with no extra text.\n",
    "# \"\"\"\n",
    "# )"
   ]
  },
  {
   "cell_type": "code",
   "execution_count": null,
   "metadata": {},
   "outputs": [],
   "source": [
    "json_schema = {\n",
    "    \"title\": \"TravelItinerary\",\n",
    "    \"description\": \"A structured travel itinerary for the user.\",\n",
    "    \"type\": \"object\",\n",
    "    \"properties\": {\n",
    "        \"days\": {\n",
    "            \"type\": \"array\",\n",
    "            \"description\": \"List of days with planned activities.\",\n",
    "            \"items\": {\n",
    "                \"type\": \"object\",\n",
    "                \"properties\": {\n",
    "                    \"day\": {\"type\": \"string\", \"description\": \"Theme of the Day or Day label, e.g., 'Day 1'\"},\n",
    "                    \"activities\": {\n",
    "                        \"type\": \"array\",\n",
    "                        \"description\": \"Activities planned for the day.\",\n",
    "                        \"items\": {\n",
    "                            \"type\": \"object\",\n",
    "                            \"properties\": {\n",
    "                                \"time\": {\"type\": \"string\", \"description\": \"Time of the activity\"},\n",
    "                                \"activity\": {\"type\": \"string\", \"description\": \"Name of the activity\"},\n",
    "                                \"location\": {\"type\": \"string\", \"description\": \"Location name\"},\n",
    "                                \"price_range\": {\"type\": \"string\", \"description\": \"Price range or cost\"},\n",
    "                            },\n",
    "                            \"required\": [\"time\", \"activity\", \"location\"]\n",
    "                        }\n",
    "                    },\n",
    "                    \"approximate_cost\": {\"type\": \"string\", \"description\": \"Total cost for the day\"}\n",
    "                },\n",
    "                \"required\": [\"day\", \"activities\", \"approximate_cost\"]\n",
    "            }\n",
    "        },\n",
    "        \"total_approximate_cost\": {\n",
    "            \"type\": \"string\",\n",
    "            \"description\": \"Total cost for the trip\"\n",
    "        },\n",
    "        \"notes\": {\n",
    "            \"type\": \"string\",\n",
    "            \"description\": \"Any additional notes or assumptions\"\n",
    "        }\n",
    "    },\n",
    "    \"required\": [\"days\", \"total_approximate_cost\"]\n",
    "}\n",
    "\n",
    "structured_llm = llm_model.with_structured_output(json_schema, include_raw=True)\n",
    "\n"
   ]
  },
  {
   "cell_type": "code",
   "execution_count": null,
   "metadata": {},
   "outputs": [],
   "source": [
    "prompt_template = PromptTemplate(\n",
    "    input_variables=[\"context\", \"user_query\", \"favorite_places\", \"visitor_type\", \"num_days\", \"budget\"],\n",
    "    template=\"\"\"You are a helpful travel planner AI.\n",
    "Use the context below, which contains information about ticket prices, place descriptions, restaurant details, and art gallery information.\n",
    "\n",
    "Context:\n",
    "{context}\n",
    "\n",
    "User Query:\n",
    "{user_query}\n",
    "\n",
    "Additional Preferences:\n",
    "- Favorite types of places: {favorite_places}\n",
    "- Visitor type: {visitor_type} (e.g., Egyptian, Egyptian student, Foreign, or foreign student)\n",
    "- Number of travel days: {num_days}\n",
    "- Overall budget for all days: {budget} EGP\n",
    "- Exclude hotels from the plan.\n",
    "- Ensure that the itinerary includes at least 3 meals per day.\n",
    "\n",
    "Based on the above, return a detailed {num_days}-day travel itinerary with approximate costs and suggestions. If some details are missing, make reasonable assumptions and indicate them.\n",
    "\"\"\"\n",
    ")\n"
   ]
  },
  {
   "cell_type": "code",
   "execution_count": null,
   "metadata": {},
   "outputs": [],
   "source": [
    "\n",
    "def generate_travel_plan(user_query, favorite_places, visitor_type, num_days, budget):\n",
    "    # 1. Retrieve relevant docs\n",
    "    docs = retriever.get_relevant_documents(user_query)\n",
    "    context_text = \"\\n\".join([doc.page_content for doc in docs])\n",
    "    # 2. Build the final prompt with the additional variables\n",
    "    prompt = prompt_template.format(\n",
    "        context=context_text,\n",
    "        user_query=user_query,\n",
    "        favorite_places=favorite_places,\n",
    "        visitor_type=visitor_type,\n",
    "        num_days=num_days,\n",
    "        budget=budget\n",
    "    )\n",
    "    # 3. Call the LLM\n",
    "    response = structured_llm.invoke(prompt)\n",
    "    return response\n"
   ]
  },
  {
   "cell_type": "code",
   "execution_count": null,
   "metadata": {},
   "outputs": [],
   "source": [
    "user_query = \"Plan a 3-day trip in Luxor with visits to cultural sites, art galleries, and dining(restaurents) options.\"\n",
    "favorite_places = \"Cultural sites, historical landmarks, art galleries\"\n",
    "visitor_type = \"Foreign\"  # or \"Egyptian\", \"Egyptian student\", \"foreign student\"\n",
    "num_days = \"3\"\n",
    "budget = \"5000\"  # Overall budget in EGP\n",
    "\n"
   ]
  },
  {
   "cell_type": "code",
   "execution_count": null,
   "metadata": {},
   "outputs": [],
   "source": [
    "travel_plan = generate_travel_plan(user_query, favorite_places, visitor_type, num_days, budget)\n",
    "print(travel_plan)\n"
   ]
  },
  {
   "cell_type": "code",
   "execution_count": null,
   "metadata": {},
   "outputs": [],
   "source": [
    "travel_plan['raw']"
   ]
  },
  {
   "cell_type": "code",
   "execution_count": null,
   "metadata": {},
   "outputs": [],
   "source": [
    "# travel_plan_qa = qa_chain.invoke(user_query)\n",
    "# print(travel_plan_qa)"
   ]
  }
 ],
 "metadata": {
  "kernelspec": {
   "display_name": "ML",
   "language": "python",
   "name": "python3"
  },
  "language_info": {
   "codemirror_mode": {
    "name": "ipython",
    "version": 3
   },
   "file_extension": ".py",
   "mimetype": "text/x-python",
   "name": "python",
   "nbconvert_exporter": "python",
   "pygments_lexer": "ipython3",
   "version": "3.12.3"
  }
 },
 "nbformat": 4,
 "nbformat_minor": 2
}
