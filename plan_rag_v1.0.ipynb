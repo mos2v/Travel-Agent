{
 "cells": [
  {
   "cell_type": "markdown",
   "metadata": {},
   "source": [
    "# Libraries"
   ]
  },
  {
   "cell_type": "code",
   "execution_count": 17,
   "metadata": {},
   "outputs": [],
   "source": [
    "import os\n",
    "import sys\n",
    "import pandas as pd\n",
    "import numpy as np\n",
    "from pathlib import Path\n",
    "\n",
    "from langchain_core.documents import Document\n",
    "from langchain_huggingface import HuggingFaceEmbeddings\n",
    "\n",
    "from langchain_community.vectorstores import FAISS\n",
    "from langchain.prompts import PromptTemplate\n",
    "from langchain.chat_models import init_chat_model\n",
    "from typing import List, Optional\n",
    "from pydantic import BaseModel, Field\n",
    "from tqdm import tqdm"
   ]
  },
  {
   "cell_type": "markdown",
   "metadata": {},
   "source": [
    "# Load .env\n"
   ]
  },
  {
   "cell_type": "code",
   "execution_count": 18,
   "metadata": {},
   "outputs": [],
   "source": [
    "from dotenv import load_dotenv"
   ]
  },
  {
   "cell_type": "markdown",
   "metadata": {},
   "source": [
    "# Setting Langsmith tracing"
   ]
  },
  {
   "cell_type": "code",
   "execution_count": 19,
   "metadata": {},
   "outputs": [],
   "source": [
    "os.environ[\"LANGCHAIN_TRACING_V2\"] = \"true\"\n",
    "os.environ[\"LANGCHAIN_ENDPOINT\"] = \"https://api.smith.langchain.com\"\n",
    "os.environ[\"LANGCHAIN_PROJECT\"] = \"Rag_travel_planner_v1.0\""
   ]
  },
  {
   "cell_type": "markdown",
   "metadata": {},
   "source": [
    "# Load data Dfs"
   ]
  },
  {
   "cell_type": "code",
   "execution_count": 20,
   "metadata": {},
   "outputs": [],
   "source": [
    "landmark_prices = pd.read_csv('data/egypt_v0.1.csv')\n",
    "places_api_data = pd.read_csv('data/places_details.csv')\n"
   ]
  },
  {
   "cell_type": "markdown",
   "metadata": {},
   "source": [
    "# Store Dfs in langchain Documents"
   ]
  },
  {
   "cell_type": "code",
   "execution_count": 21,
   "metadata": {},
   "outputs": [],
   "source": [
    "documents = []\n",
    "\n",
    "for _, row in landmark_prices.iterrows():\n",
    "    text = f\"\"\"\n",
    "    Governorate: {row['Governorate/City']}\n",
    "    Site: {row['Place']}\n",
    "    Egyptian Ticket: {row['Egyptian']}\n",
    "    Egyptian Student Ticket: {row['EgyptianStudent']}\n",
    "    Foreign Ticket: {row['Foreign']}\n",
    "    Foreign Student Ticket: {row['ForeignStudent']}\n",
    "    Visiting Times: {row['VisitingTimes']}\n",
    "    \"\"\"\n",
    "    documents.append(Document(page_content=text, metadata={\"source\": 'landmark_prices'}))"
   ]
  },
  {
   "cell_type": "code",
   "execution_count": 22,
   "metadata": {},
   "outputs": [],
   "source": [
    "for _, row in places_api_data.iterrows():\n",
    "    text = f\"\"\"\n",
    "    Place Name: {row['displayName.text']}\n",
    "    Place Primary Type: {row['primaryTypeDisplayName.text']}\n",
    "    Place Types: {row['types']}\n",
    "    Place Price: {row['priceRange.endPrice.units']}\n",
    "    Place Price Level: {row['priceLevel']}\n",
    "    Place Location: {row['formattedAddress']}\n",
    "    Place Star Rating: {row['rating']}\n",
    "    Place website: {row['websiteUri']}\n",
    "    \"\"\"\n",
    "    documents.append(Document(page_content=text, metadata={\"source\": 'Places_api', 'Type': f'{row['primaryTypeDisplayName.text']}', 'city': f'{row['formattedAddress']}'}))\n",
    "    "
   ]
  },
  {
   "cell_type": "markdown",
   "metadata": {},
   "source": [
    "# Embedd Documents (text ---> vectors of numbers)"
   ]
  },
  {
   "cell_type": "code",
   "execution_count": 23,
   "metadata": {},
   "outputs": [],
   "source": [
    "embeddings = HuggingFaceEmbeddings(model_name=\"sentence-transformers/all-mpnet-base-v2\")\n"
   ]
  },
  {
   "cell_type": "code",
   "execution_count": 24,
   "metadata": {},
   "outputs": [],
   "source": [
    "path = Path('faiss_mpnetv2_v1.0')\n",
    "\n",
    "if not path.exists():\n",
    "    vectorstore = FAISS.from_documents(documents, embeddings)\n",
    "    vectorstore.save_local('faiss_mpnetv2_v1.0')\n",
    "\n",
    "\n",
    "\n",
    "vectorstore.load_local('faiss_mpnetv2_v1.0', embeddings, allow_dangerous_deserialization=True)\n",
    "retriever = vectorstore.as_retriever(search_kwargs={\"k\": 50})"
   ]
  },
  {
   "cell_type": "markdown",
   "metadata": {},
   "source": [
    "# Instantiating the LLM model with Groq provider."
   ]
  },
  {
   "cell_type": "code",
   "execution_count": 37,
   "metadata": {},
   "outputs": [],
   "source": [
    "llm_model = init_chat_model(\"llama-3.3-70b-versatile\", model_provider=\"groq\", temperature=0)\n",
    "# llm_model = init_chat_model('deepseek-r1-distill-llama-70b', model_provider='groq', temperature=0)"
   ]
  },
  {
   "cell_type": "markdown",
   "metadata": {},
   "source": [
    "# Prompt Template"
   ]
  },
  {
   "cell_type": "code",
   "execution_count": 26,
   "metadata": {},
   "outputs": [],
   "source": [
    "prompt_template = PromptTemplate(\n",
    "    input_variables=[\"context\", \"user_query\", \"favorite_places\", \"visitor_type\", \"num_days\", \"budget\"],\n",
    "    template=\"\"\"You are a helpful travel planner AI.\n",
    "Use the context below, which contains information about ticket prices, place descriptions, restaurant details, and art gallery information.\n",
    "\n",
    "Context:\n",
    "{context}\n",
    "\n",
    "User Query:\n",
    "{user_query}\n",
    "\n",
    "Additional Preferences:\n",
    "- Favorite types of places: {favorite_places}\n",
    "- Visitor type: {visitor_type} (e.g., Egyptian, Egyptian student, Foreign, or foreign student)\n",
    "- Number of travel days: {num_days}\n",
    "- Overall budget for all days: {budget} EGP\n",
    "- Exclude hotels from the plan.\n",
    "- Ensure that the itinerary includes at least 3 meals per day.\n",
    "\n",
    "Based on the above, return a detailed {num_days}-day travel itinerary with approximate costs and suggestions. If some details are missing, make reasonable assumptions and indicate them.\n",
    "\"\"\"\n",
    ")\n"
   ]
  },
  {
   "cell_type": "markdown",
   "metadata": {},
   "source": [
    "# Structured Output"
   ]
  },
  {
   "cell_type": "code",
   "execution_count": 34,
   "metadata": {},
   "outputs": [],
   "source": [
    "json_schema = {\n",
    "    \"title\": \"TravelItinerary\",\n",
    "    \"description\": \"A structured travel itinerary for the user.\",\n",
    "    \"type\": \"object\",\n",
    "    \"properties\": {\n",
    "        \"days\": {\n",
    "            \"type\": \"array\",\n",
    "            \"description\": \"List of days with planned activities.\",\n",
    "            \"items\": {\n",
    "                \"type\": \"object\",\n",
    "                \"properties\": {\n",
    "                    \"day\": {\"type\": \"string\", \"description\": \"Theme of the Day or Day label, e.g., 'Day 1'\"},\n",
    "                    \"activities\": {\n",
    "                        \"type\": \"array\",\n",
    "                        \"description\": \"Activities planned for the day.\",\n",
    "                        \"items\": {\n",
    "                            \"type\": \"object\",\n",
    "                            \"properties\": {\n",
    "                                \"time\": {\"type\": \"string\", \"description\": \"Time of the activity\"},\n",
    "                                \"activity\": {\"type\": \"string\", \"description\": \"Name of the activity\"},\n",
    "                                \"location\": {\"type\": \"string\", \"description\": \"Location name\"},\n",
    "                                \"price_range\": {\"type\": \"string\", \"description\": \"Price range or cost\"},\n",
    "                            },\n",
    "                            \"required\": [\"time\", \"activity\", \"location\"]\n",
    "                        }\n",
    "                    },\n",
    "                    \"approximate_cost\": {\"type\": \"string\", \"description\": \"Total cost for the day\"}\n",
    "                },\n",
    "                \"required\": [\"day\", \"activities\", \"approximate_cost\"]\n",
    "            }\n",
    "        },\n",
    "        \"total_approximate_cost\": {\n",
    "            \"type\": \"string\",\n",
    "            \"description\": \"Total cost for the trip\"\n",
    "        },\n",
    "        \"notes\": {\n",
    "            \"type\": \"string\",\n",
    "            \"description\": \"Any additional notes or assumptions\"\n",
    "        }\n",
    "    },\n",
    "    \"required\": [\"days\", \"total_approximate_cost\"]\n",
    "}"
   ]
  },
  {
   "cell_type": "code",
   "execution_count": 28,
   "metadata": {},
   "outputs": [],
   "source": [
    "class Activity(BaseModel):\n",
    "    time: str = Field(..., description=\"Time of the activity\")\n",
    "    activity: str = Field(..., description=\"Name of the activity\")\n",
    "    location: str = Field(..., description=\"Location name\")\n",
    "    price_range: Optional[str] = Field(None, description=\"Price range or cost\")\n",
    "\n",
    "class DayPlan(BaseModel):\n",
    "    day: str = Field(..., description=\"Theme of the Day or Day label, e.g., 'Day 1'\")\n",
    "    activities: List[Activity] = Field(..., description=\"Activities planned for the day\")\n",
    "    approximate_cost: str = Field(..., description=\"Total cost for the day\")\n",
    "\n",
    "class TravelItinerary(BaseModel):\n",
    "    days: List[DayPlan] = Field(..., description=\"List of days with planned activities\")\n",
    "    total_approximate_cost: str = Field(..., description=\"Total cost for the trip\")\n",
    "    notes: Optional[str] = Field(None, description=\"Any additional notes or assumptions\")"
   ]
  },
  {
   "cell_type": "code",
   "execution_count": 38,
   "metadata": {},
   "outputs": [],
   "source": [
    "structured_llm = llm_model.with_structured_output(json_schema, include_raw=True)\n"
   ]
  },
  {
   "cell_type": "markdown",
   "metadata": {},
   "source": [
    "# Generate a structured travel plan "
   ]
  },
  {
   "cell_type": "code",
   "execution_count": 30,
   "metadata": {},
   "outputs": [],
   "source": [
    "\n",
    "def generate_travel_plan(user_query, favorite_places, visitor_type, num_days, budget):\n",
    "    # 1. Retrieve relevant docs\n",
    "    docs = retriever.get_relevant_documents(user_query)\n",
    "    context_text = \"\\n\".join([doc.page_content for doc in docs])\n",
    "    # 2. Build the final prompt with the additional variables\n",
    "    prompt = prompt_template.format(\n",
    "        context=context_text,\n",
    "        user_query=user_query,\n",
    "        favorite_places=favorite_places,\n",
    "        visitor_type=visitor_type,\n",
    "        num_days=num_days,\n",
    "        budget=budget\n",
    "    )\n",
    "    # 3. Call the LLM\n",
    "    response = structured_llm.invoke(prompt)\n",
    "    return response\n"
   ]
  },
  {
   "cell_type": "code",
   "execution_count": 31,
   "metadata": {},
   "outputs": [],
   "source": [
    "user_query = \"Plan a 3-day trip in Luxor with visits to cultural sites, art galleries, and dining(restaurents) options.\"\n",
    "favorite_places = \"Cultural sites, historical landmarks, art galleries\"\n",
    "visitor_type = \"Foreign\"  # or \"Egyptian\", \"Egyptian student\", \"foreign student\"\n",
    "num_days = \"3\"\n",
    "budget = \"5000\"  # Overall budget in EGP\n"
   ]
  },
  {
   "cell_type": "code",
   "execution_count": 39,
   "metadata": {},
   "outputs": [
    {
     "name": "stdout",
     "output_type": "stream",
     "text": [
      "{'raw': AIMessage(content='', additional_kwargs={'tool_calls': [{'id': 'call_y4hr', 'function': {'arguments': '{\"days\": [{\"day\": \"Day 1\", \"activities\": [{\"activity\": \"Visit Luxor Museum\", \"location\": \"Kornish Al Nile, Luxor City, Luxor, Luxor Governorate 1362503, Egypt\", \"price_range\": \"400 EGP\", \"time\": \"9:00am - 1:00pm\"}, {\"activity\": \"Lunch at White Coffee & Restaraunt\", \"location\": \"Luxor, Karnak, Luxor, Luxor Governorate 1363024, Egypt\", \"price_range\": \"200 EGP\", \"time\": \"1:00pm - 2:30pm\"}, {\"activity\": \"Visit Luxor Art Gallery\", \"location\": \"Memnon Street, Al Bairat, Al Qarna, Luxor Governorate 1341472, Egypt\", \"price_range\": \"Free\", \"time\": \"3:00pm - 5:00pm\"}, {\"activity\": \"Dinner at Nubian House\", \"location\": \"Al Bairat, Luxor, Luxor Governorate 1345173, Egypt\", \"price_range\": \"300 EGP\", \"time\": \"7:00pm - 9:00pm\"}], \"approximate_cost\": \"1900 EGP\"}, {\"day\": \"Day 2\", \"activities\": [{\"activity\": \"Visit Karnak Temples\", \"location\": \"Karnak, Luxor, Luxor Governorate, Egypt\", \"price_range\": \"600 EGP\", \"time\": \"8:00am - 12:00pm\"}, {\"activity\": \"Lunch at El Hussein Restaurant\", \"location\": \"hilton st, New, Karnak, Luxor, Luxor Governorate 1363432, Egypt\", \"price_range\": \"250 EGP\", \"time\": \"12:00pm - 1:30pm\"}, {\"activity\": \"Visit Temple of Hatshepsut\", \"location\": \"Luxor, Egypt\", \"price_range\": \"440 EGP\", \"time\": \"2:00pm - 5:00pm\"}, {\"activity\": \"Dinner at Cafe & Restaurant Maratonga\", \"location\": \"Unnamed Road, Al Bairat, Luxor, Luxor Governorate 85958, Egypt\", \"price_range\": \"300 EGP\", \"time\": \"7:00pm - 9:00pm\"}], \"approximate_cost\": \"1990 EGP\"}, {\"day\": \"Day 3\", \"activities\": [{\"activity\": \"Visit Valley of the Kings\", \"location\": \"Luxor, Egypt\", \"price_range\": \"750 EGP\", \"time\": \"8:00am - 12:00pm\"}, {\"activity\": \"Lunch at Arabia cafe\", \"location\": \"Luxor Bridge, Gazirat Al Awameyah, Luxor, Luxor Governorate 1362201, Egypt\", \"price_range\": \"200 EGP\", \"time\": \"12:00pm - 1:30pm\"}, {\"activity\": \"Visit Nobles Art Gallery at Luxor temple\", \"location\": \"Mabad Al Karnak, Luxor City, Luxor, Luxor Governorate 85111, Egypt\", \"price_range\": \"Free\", \"time\": \"2:00pm - 4:00pm\"}, {\"activity\": \"Dinner at El Zaeem Restaurant\", \"location\": \"شارع يوسف حسن، المساكن الشعبية، Luxor City, Luxor, Luxor Governorate 1362451, Egypt\", \"price_range\": \"300 EGP\", \"time\": \"7:00pm - 9:00pm\"}], \"approximate_cost\": \"1250 EGP\"}], \"total_approximate_cost\": \"5040 EGP\", \"notes\": \"The itinerary includes a mix of cultural sites, historical landmarks, and art galleries. The approximate cost is based on the assumption that the foreign visitor will purchase tickets for the mentioned sites and eat at the suggested restaurants. The cost of transportation is not included in the estimate.\"}', 'name': 'TravelItinerary'}, 'type': 'function'}]}, response_metadata={'token_usage': {'completion_tokens': 848, 'prompt_tokens': 5291, 'total_tokens': 6139, 'completion_time': 3.083636364, 'prompt_time': 0.19360032, 'queue_time': 0.21966503800000003, 'total_time': 3.277236684}, 'model_name': 'llama-3.3-70b-versatile', 'system_fingerprint': 'fp_5d5eebccf4', 'finish_reason': 'tool_calls', 'logprobs': None}, id='run-122610dc-abe5-4b42-9807-f669dfa92fee-0', tool_calls=[{'name': 'TravelItinerary', 'args': {'days': [{'day': 'Day 1', 'activities': [{'activity': 'Visit Luxor Museum', 'location': 'Kornish Al Nile, Luxor City, Luxor, Luxor Governorate 1362503, Egypt', 'price_range': '400 EGP', 'time': '9:00am - 1:00pm'}, {'activity': 'Lunch at White Coffee & Restaraunt', 'location': 'Luxor, Karnak, Luxor, Luxor Governorate 1363024, Egypt', 'price_range': '200 EGP', 'time': '1:00pm - 2:30pm'}, {'activity': 'Visit Luxor Art Gallery', 'location': 'Memnon Street, Al Bairat, Al Qarna, Luxor Governorate 1341472, Egypt', 'price_range': 'Free', 'time': '3:00pm - 5:00pm'}, {'activity': 'Dinner at Nubian House', 'location': 'Al Bairat, Luxor, Luxor Governorate 1345173, Egypt', 'price_range': '300 EGP', 'time': '7:00pm - 9:00pm'}], 'approximate_cost': '1900 EGP'}, {'day': 'Day 2', 'activities': [{'activity': 'Visit Karnak Temples', 'location': 'Karnak, Luxor, Luxor Governorate, Egypt', 'price_range': '600 EGP', 'time': '8:00am - 12:00pm'}, {'activity': 'Lunch at El Hussein Restaurant', 'location': 'hilton st, New, Karnak, Luxor, Luxor Governorate 1363432, Egypt', 'price_range': '250 EGP', 'time': '12:00pm - 1:30pm'}, {'activity': 'Visit Temple of Hatshepsut', 'location': 'Luxor, Egypt', 'price_range': '440 EGP', 'time': '2:00pm - 5:00pm'}, {'activity': 'Dinner at Cafe & Restaurant Maratonga', 'location': 'Unnamed Road, Al Bairat, Luxor, Luxor Governorate 85958, Egypt', 'price_range': '300 EGP', 'time': '7:00pm - 9:00pm'}], 'approximate_cost': '1990 EGP'}, {'day': 'Day 3', 'activities': [{'activity': 'Visit Valley of the Kings', 'location': 'Luxor, Egypt', 'price_range': '750 EGP', 'time': '8:00am - 12:00pm'}, {'activity': 'Lunch at Arabia cafe', 'location': 'Luxor Bridge, Gazirat Al Awameyah, Luxor, Luxor Governorate 1362201, Egypt', 'price_range': '200 EGP', 'time': '12:00pm - 1:30pm'}, {'activity': 'Visit Nobles Art Gallery at Luxor temple', 'location': 'Mabad Al Karnak, Luxor City, Luxor, Luxor Governorate 85111, Egypt', 'price_range': 'Free', 'time': '2:00pm - 4:00pm'}, {'activity': 'Dinner at El Zaeem Restaurant', 'location': 'شارع يوسف حسن، المساكن الشعبية، Luxor City, Luxor, Luxor Governorate 1362451, Egypt', 'price_range': '300 EGP', 'time': '7:00pm - 9:00pm'}], 'approximate_cost': '1250 EGP'}], 'total_approximate_cost': '5040 EGP', 'notes': 'The itinerary includes a mix of cultural sites, historical landmarks, and art galleries. The approximate cost is based on the assumption that the foreign visitor will purchase tickets for the mentioned sites and eat at the suggested restaurants. The cost of transportation is not included in the estimate.'}, 'id': 'call_y4hr', 'type': 'tool_call'}], usage_metadata={'input_tokens': 5291, 'output_tokens': 848, 'total_tokens': 6139}), 'parsed': {'days': [{'day': 'Day 1', 'activities': [{'activity': 'Visit Luxor Museum', 'location': 'Kornish Al Nile, Luxor City, Luxor, Luxor Governorate 1362503, Egypt', 'price_range': '400 EGP', 'time': '9:00am - 1:00pm'}, {'activity': 'Lunch at White Coffee & Restaraunt', 'location': 'Luxor, Karnak, Luxor, Luxor Governorate 1363024, Egypt', 'price_range': '200 EGP', 'time': '1:00pm - 2:30pm'}, {'activity': 'Visit Luxor Art Gallery', 'location': 'Memnon Street, Al Bairat, Al Qarna, Luxor Governorate 1341472, Egypt', 'price_range': 'Free', 'time': '3:00pm - 5:00pm'}, {'activity': 'Dinner at Nubian House', 'location': 'Al Bairat, Luxor, Luxor Governorate 1345173, Egypt', 'price_range': '300 EGP', 'time': '7:00pm - 9:00pm'}], 'approximate_cost': '1900 EGP'}, {'day': 'Day 2', 'activities': [{'activity': 'Visit Karnak Temples', 'location': 'Karnak, Luxor, Luxor Governorate, Egypt', 'price_range': '600 EGP', 'time': '8:00am - 12:00pm'}, {'activity': 'Lunch at El Hussein Restaurant', 'location': 'hilton st, New, Karnak, Luxor, Luxor Governorate 1363432, Egypt', 'price_range': '250 EGP', 'time': '12:00pm - 1:30pm'}, {'activity': 'Visit Temple of Hatshepsut', 'location': 'Luxor, Egypt', 'price_range': '440 EGP', 'time': '2:00pm - 5:00pm'}, {'activity': 'Dinner at Cafe & Restaurant Maratonga', 'location': 'Unnamed Road, Al Bairat, Luxor, Luxor Governorate 85958, Egypt', 'price_range': '300 EGP', 'time': '7:00pm - 9:00pm'}], 'approximate_cost': '1990 EGP'}, {'day': 'Day 3', 'activities': [{'activity': 'Visit Valley of the Kings', 'location': 'Luxor, Egypt', 'price_range': '750 EGP', 'time': '8:00am - 12:00pm'}, {'activity': 'Lunch at Arabia cafe', 'location': 'Luxor Bridge, Gazirat Al Awameyah, Luxor, Luxor Governorate 1362201, Egypt', 'price_range': '200 EGP', 'time': '12:00pm - 1:30pm'}, {'activity': 'Visit Nobles Art Gallery at Luxor temple', 'location': 'Mabad Al Karnak, Luxor City, Luxor, Luxor Governorate 85111, Egypt', 'price_range': 'Free', 'time': '2:00pm - 4:00pm'}, {'activity': 'Dinner at El Zaeem Restaurant', 'location': 'شارع يوسف حسن، المساكن الشعبية، Luxor City, Luxor, Luxor Governorate 1362451, Egypt', 'price_range': '300 EGP', 'time': '7:00pm - 9:00pm'}], 'approximate_cost': '1250 EGP'}], 'total_approximate_cost': '5040 EGP', 'notes': 'The itinerary includes a mix of cultural sites, historical landmarks, and art galleries. The approximate cost is based on the assumption that the foreign visitor will purchase tickets for the mentioned sites and eat at the suggested restaurants. The cost of transportation is not included in the estimate.'}, 'parsing_error': None}\n"
     ]
    }
   ],
   "source": [
    "travel_plan = generate_travel_plan(user_query, favorite_places, visitor_type, num_days, budget)\n",
    "print(travel_plan)\n"
   ]
  }
 ],
 "metadata": {
  "kernelspec": {
   "display_name": "ML",
   "language": "python",
   "name": "python3"
  },
  "language_info": {
   "codemirror_mode": {
    "name": "ipython",
    "version": 3
   },
   "file_extension": ".py",
   "mimetype": "text/x-python",
   "name": "python",
   "nbconvert_exporter": "python",
   "pygments_lexer": "ipython3",
   "version": "3.12.3"
  }
 },
 "nbformat": 4,
 "nbformat_minor": 2
}
