{
 "cells": [
  {
   "cell_type": "code",
   "execution_count": null,
   "metadata": {},
   "outputs": [],
   "source": [
    "import requests\n",
    "import pandas as pd\n",
    "import time\n",
    "import numpy as np\n",
    "import os\n",
    "from dotenv import load_dotenv\n"
   ]
  },
  {
   "cell_type": "code",
   "execution_count": null,
   "metadata": {},
   "outputs": [],
   "source": [
    "load_dotenv()\n",
    "API_KEY = os.getenv(\"GOOGLE_MAPS_API_KEY\")"
   ]
  },
  {
   "cell_type": "code",
   "execution_count": null,
   "metadata": {},
   "outputs": [],
   "source": [
    "# Define API endpoints\n",
    "NEARBY_SEARCH_URL = \"https://places.googleapis.com/v1/places:searchNearby\"\n",
    "PLACE_DETAILS_URL = \"https://places.googleapis.com/v1/places/\""
   ]
  },
  {
   "cell_type": "code",
   "execution_count": null,
   "metadata": {},
   "outputs": [],
   "source": [
    "# Define the approximate bounding box for Egypt\n",
    "lat_min, lat_max = 22.0, 32.0\n",
    "lng_min, lng_max = 25.0, 34.5\n",
    "\n",
    "# Define grid step sizes (in degrees)\n",
    "lat_step = 0.5  # ~55 km per 0.5° of latitude\n",
    "lng_step = 0.5  # ~55 km per 0.5° of longitude\n",
    "\n",
    "# Define search radius in meters\n",
    "radius = 50000  # 50 km"
   ]
  },
  {
   "cell_type": "code",
   "execution_count": null,
   "metadata": {},
   "outputs": [],
   "source": [
    "# Generate grid centers for the searches\n",
    "latitudes = np.arange(lat_min, lat_max, lat_step)\n",
    "longitudes = np.arange(lng_min, lng_max, lng_step)\n",
    "search_centers = [(lat, lng) for lat in latitudes for lng in longitudes]"
   ]
  },
  {
   "cell_type": "code",
   "execution_count": null,
   "metadata": {},
   "outputs": [],
   "source": [
    "place_queries = [\n",
    "    \"restaurant\",\n",
    "    \"cafe\",\n",
    "    \"museum\",\n",
    "    \"art_gallery\",\n",
    "    \"tourist_attraction\",\n",
    "    \"monument\"\n",
    "]"
   ]
  },
  {
   "cell_type": "code",
   "execution_count": null,
   "metadata": {},
   "outputs": [],
   "source": [
    "# Define the fields to retrieve from the Nearby Search request\n",
    "nearby_field_mask = \"places.id\"\n",
    "\n",
    "# Define the fields to retrieve from the Place Details request\n",
    "details_field_mask = \"id,displayName,attributions,photos,addressComponents,adrFormatAddress,formattedAddress,location,plusCode,shortFormattedAddress,types,viewport,accessibilityOptions,businessStatus,containingPlaces,displayName,googleMapsLinks,googleMapsUri,iconBackgroundColor,iconMaskBaseUri,primaryType,primaryTypeDisplayName,pureServiceAreaBusiness,subDestinations,utcOffsetMinutes,currentOpeningHours,currentSecondaryOpeningHours,internationalPhoneNumber,nationalPhoneNumber,priceLevel,priceRange,rating,regularOpeningHours,regularSecondaryOpeningHours,userRatingCount,websiteUri\""
   ]
  },
  {
   "cell_type": "code",
   "execution_count": null,
   "metadata": {},
   "outputs": [],
   "source": [
    "# List to store detailed place responses\n",
    "all_places = []\n",
    "details_requests_count = 0\n",
    "MAX_DETAILS_REQUESTS = 10000\n"
   ]
  },
  {
   "cell_type": "code",
   "execution_count": null,
   "metadata": {},
   "outputs": [],
   "source": [
    "def search_nearby_places(lat, lng, place_type):\n",
    "    \"\"\"Performs a Nearby Search request and returns places found.\"\"\"\n",
    "    global details_requests_count\n",
    "\n",
    "    payload = {\n",
    "        \"includedTypes\": [place_type],\n",
    "        \"maxResultCount\": 20,  # Maximum allowed by API\n",
    "        \"locationRestriction\": {\n",
    "            \"circle\": {\n",
    "                \"center\": {\"latitude\": lat, \"longitude\": lng},\n",
    "                \"radius\": radius\n",
    "            }\n",
    "        }\n",
    "    }\n",
    "    headers = {\n",
    "        \"Content-Type\": \"application/json\",\n",
    "        \"X-Goog-Api-Key\": API_KEY,\n",
    "        \"X-Goog-FieldMask\": nearby_field_mask\n",
    "    }\n",
    "\n",
    "    try:\n",
    "        response = requests.post(NEARBY_SEARCH_URL, json=payload, headers=headers)\n",
    "        response_data = response.json()\n",
    "        return response_data.get(\"places\", [])\n",
    "    except Exception as e:\n",
    "        print(f\"Error fetching nearby places for ({lat}, {lng}): {e}\")\n",
    "        return []\n"
   ]
  },
  {
   "cell_type": "code",
   "execution_count": null,
   "metadata": {},
   "outputs": [],
   "source": [
    "# Function to fetch place details\n",
    "def get_place_details(place_id):\n",
    "    \"\"\"Fetches detailed information for a given place ID.\"\"\"\n",
    "    global details_requests_count\n",
    "\n",
    "    if details_requests_count >= MAX_DETAILS_REQUESTS:\n",
    "        return None\n",
    "\n",
    "    url = f\"{PLACE_DETAILS_URL}{place_id}\"\n",
    "    headers = {\n",
    "        \"Content-Type\": \"application/json\",\n",
    "        \"X-Goog-Api-Key\": API_KEY,\n",
    "        \"X-Goog-FieldMask\": details_field_mask\n",
    "    }\n",
    "\n",
    "    try:\n",
    "        response = requests.get(url, headers=headers)\n",
    "        details_requests_count += 1\n",
    "        return response.json()\n",
    "    except Exception as e:\n",
    "        print(f\"Error fetching details for {place_id}: {e}\")\n",
    "        return None"
   ]
  },
  {
   "cell_type": "code",
   "execution_count": null,
   "metadata": {},
   "outputs": [],
   "source": [
    "\n",
    "# Loop over grid centers and place types\n",
    "for lat, lng in search_centers:\n",
    "    for place_type in place_queries:\n",
    "        print(f\"Searching for '{place_type}' near ({lat}, {lng})...\")\n",
    "\n",
    "        # Perform Nearby Search\n",
    "        places_found = search_nearby_places(lat, lng, place_type)\n",
    "\n",
    "        for place in places_found:\n",
    "            place_id = place.get(\"id\")\n",
    "            if place_id and details_requests_count < MAX_DETAILS_REQUESTS:\n",
    "                details = get_place_details(place_id)\n",
    "                if details:\n",
    "                    all_places.append(details)\n",
    "\n",
    "        time.sleep(2)  # Avoid hitting API rate limits\n",
    "\n",
    "    if details_requests_count >= MAX_DETAILS_REQUESTS:\n",
    "        break\n",
    "\n",
    "print(f\"Total details requests made: {details_requests_count}\")"
   ]
  },
  {
   "cell_type": "code",
   "execution_count": null,
   "metadata": {},
   "outputs": [],
   "source": [
    "unique_places = {}\n",
    "for place in all_places:\n",
    "    place_id = place.get(\"id\")\n",
    "    if place_id:\n",
    "        unique_places[place_id] = place  # Ensures only the latest entry is kept\n",
    "\n",
    "# Convert to list\n",
    "unique_places_list = list(unique_places.values())"
   ]
  },
  {
   "cell_type": "code",
   "execution_count": null,
   "metadata": {},
   "outputs": [],
   "source": [
    "# Convert responses to DataFrame\n",
    "data = []\n",
    "for place in unique_places_list:\n",
    "    data.append({\n",
    "        \"place_id\": place.get(\"id\"),\n",
    "        \"display_name\": place.get(\"displayName\", {}).get(\"text\"),\n",
    "        \"name\": place.get(\"name\"),\n",
    "        \"attributions\": place.get(\"attributions\"),\n",
    "        \"photos\": place.get(\"photos\"),\n",
    "        \"address_components\": place.get(\"addressComponents\"),\n",
    "        \"adr_format_address\": place.get(\"adrFormatAddress\"),\n",
    "        \"formatted_address\": place.get(\"formattedAddress\"),\n",
    "        \"latitude\": place.get(\"location\", {}).get(\"latitude\"),\n",
    "        \"longitude\": place.get(\"location\", {}).get(\"longitude\"),\n",
    "        \"plus_code\": place.get(\"plusCode\"),\n",
    "        \"short_formatted_address\": place.get(\"shortFormattedAddress\"),\n",
    "        \"types\": \", \".join(place.get(\"types\", [])),\n",
    "        \"viewport\": place.get(\"viewport\"),\n",
    "        \"accessibility_options\": place.get(\"accessibilityOptions\"),\n",
    "        \"business_status\": place.get(\"businessStatus\"),\n",
    "        \"containing_places\": place.get(\"containingPlaces\"),\n",
    "        \"google_maps_links\": place.get(\"googleMapsLinks\"),\n",
    "        \"google_maps_uri\": place.get(\"googleMapsUri\"),\n",
    "        \"icon_background_color\": place.get(\"iconBackgroundColor\"),\n",
    "        \"icon_mask_base_uri\": place.get(\"iconMaskBaseUri\"),\n",
    "        \"primary_type\": place.get(\"primaryType\"),\n",
    "        \"primary_type_display_name\": place.get(\"primaryTypeDisplayName\"),\n",
    "        \"pure_service_area_business\": place.get(\"pureServiceAreaBusiness\"),\n",
    "        \"sub_destinations\": place.get(\"subDestinations\"),\n",
    "        \"utc_offset_minutes\": place.get(\"utcOffsetMinutes\"),\n",
    "        \"current_opening_hours\": place.get(\"currentOpeningHours\"),\n",
    "        \"current_secondary_opening_hours\": place.get(\"currentSecondaryOpeningHours\"),\n",
    "        \"international_phone_number\": place.get(\"internationalPhoneNumber\"),\n",
    "        \"national_phone_number\": place.get(\"nationalPhoneNumber\"),\n",
    "        \"price_level\": place.get(\"priceLevel\"),\n",
    "        \"price_range\": place.get(\"priceRange\"),\n",
    "        \"rating\": place.get(\"rating\"),\n",
    "        \"regular_opening_hours\": place.get(\"regularOpeningHours\"),\n",
    "        \"regular_secondary_opening_hours\": place.get(\"regularSecondaryOpeningHours\"),\n",
    "        \"user_rating_count\": place.get(\"userRatingCount\"),\n",
    "        \"website_uri\": place.get(\"websiteUri\")\n",
    "    })\n",
    "\n",
    "# Convert to Pandas DataFrame\n",
    "df_places = pd.DataFrame(data)\n",
    "\n",
    "# Save to CSV\n",
    "df_places.to_csv(\"egypt_places_unique.csv\", index=False)\n",
    "print(\"Unique places data saved to egypt_places_unique.csv\")\n",
    "\n",
    "# Display DataFrame\n",
    "import ace_tools as tools\n",
    "tools.display_dataframe_to_user(name=\"Unique Egypt Places Data\", dataframe=df_places)"
   ]
  }
 ],
 "metadata": {
  "kernelspec": {
   "display_name": "ML",
   "language": "python",
   "name": "python3"
  },
  "language_info": {
   "codemirror_mode": {
    "name": "ipython",
    "version": 3
   },
   "file_extension": ".py",
   "mimetype": "text/x-python",
   "name": "python",
   "nbconvert_exporter": "python",
   "pygments_lexer": "ipython3",
   "version": "3.12.3"
  }
 },
 "nbformat": 4,
 "nbformat_minor": 2
}
