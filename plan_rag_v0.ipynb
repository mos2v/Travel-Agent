{
 "cells": [
  {
   "cell_type": "code",
   "execution_count": 1,
   "metadata": {},
   "outputs": [],
   "source": [
    "import os\n",
    "import sys\n",
    "import pandas as pd\n",
    "import numpy as np\n",
    "from langchain_core.documents import Document\n",
    "from langchain_huggingface import HuggingFaceEmbeddings\n",
    "from langchain_community.vectorstores import FAISS\n",
    "from langchain.prompts import PromptTemplate\n",
    "from langchain.chat_models import init_chat_model\n",
    "from langchain.chains import RetrievalQA\n"
   ]
  },
  {
   "cell_type": "code",
   "execution_count": 2,
   "metadata": {},
   "outputs": [],
   "source": [
    "os.environ[\"LANGCHAIN_TRACING_V2\"] = \"true\"\n",
    "os.environ[\"LANGCHAIN_API_KEY\"] = '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'\n",
    "os.environ[\"LANGCHAIN_ENDPOINT\"] = \"https://api.smith.langchain.com\"\n",
    "os.environ[\"LANGCHAIN_PROJECT\"] = \"travel_planner_v0\""
   ]
  },
  {
   "cell_type": "code",
   "execution_count": 3,
   "metadata": {},
   "outputs": [],
   "source": [
    "landmark_prices = pd.read_csv('egypt.csv')\n",
    "luxor_landmark = pd.read_csv('places.csv')\n",
    "luxor_restaurants = pd.read_csv('restaurants.csv')\n",
    "luxor_art = pd.read_csv('artgallery.csv')\n",
    "\n"
   ]
  },
  {
   "cell_type": "code",
   "execution_count": 4,
   "metadata": {},
   "outputs": [],
   "source": [
    "all_documents = []\n",
    "for _, row in landmark_prices.iterrows():\n",
    "    text = f\"\"\"\n",
    "    Governorate: {row['Governorate/City']}\n",
    "    Site: {row['Place']}\n",
    "    Egyptian Ticket: {row['Egyptian']}\n",
    "    Egyptian Student Ticket: {row['EgyptianStudent']}\n",
    "    Foreign Ticket: {row['Foreign']}\n",
    "    Foreign Student Ticket: {row['ForeignStudent']}\n",
    "    Visiting Times: {row['VisitingTimes']}\n",
    "    \"\"\"\n",
    "    all_documents.append(Document(page_content=text, metadata={\"source\": 'landmark_prices'}))\n"
   ]
  },
  {
   "cell_type": "code",
   "execution_count": 5,
   "metadata": {},
   "outputs": [],
   "source": [
    "\n",
    "for _, row in luxor_landmark.iterrows():\n",
    "    text = f\"\"\"\n",
    "    Site: {row['title']}\n",
    "    Description: {row['description']}\n",
    "    Site Category Name: {row['categoryName']}\n",
    "    Site Categories: {row['Categories']}\n",
    "    Location: {row['address']}\n",
    "    Star Rating: {row['totalScore']}\n",
    "    \"\"\"\n",
    "    all_documents.append(Document(page_content=text, metadata={\"source\": 'Luxor Landmarks'}))\n",
    "\n",
    "    \n",
    "\n",
    "\n",
    "\n"
   ]
  },
  {
   "cell_type": "code",
   "execution_count": 6,
   "metadata": {},
   "outputs": [],
   "source": [
    "for _, row in luxor_restaurants.iterrows():\n",
    "    text = f\"\"\"\n",
    "    Name: {row['title']}\n",
    "    Restaurant Category Name: {row['categoryName']}\n",
    "    Restaurant Categories: {row['Categories']}\n",
    "    Address: {row['address']}\n",
    "    Price Range: {row['price']}\n",
    "    Star Rating: {row['totalScore']}\n",
    "    Website: {row['website']}\n",
    "    \"\"\"\n",
    "    all_documents.append(Document(page_content=text, metadata={\"source\": 'Luxor Restaurants'}))"
   ]
  },
  {
   "cell_type": "code",
   "execution_count": 7,
   "metadata": {},
   "outputs": [],
   "source": [
    "for _, row in luxor_art.iterrows():\n",
    "    text = f\"\"\"\n",
    "    Art Gallery Name: {row['title']}\n",
    "    Art Gallery Categories: {row['Categories']}\n",
    "    Art Gallery Address: {row['address']}\n",
    "    Art Gallery Website: {row['website']}\n",
    "    Star Rating: {row['totalScore']}\n",
    "    \"\"\"\n",
    "    all_documents.append(Document(page_content=text, metadata={\"source\": 'Luxor Art Galleries'}))"
   ]
  },
  {
   "cell_type": "code",
   "execution_count": 8,
   "metadata": {},
   "outputs": [
    {
     "name": "stderr",
     "output_type": "stream",
     "text": [
      "c:\\Users\\mosai\\anaconda3\\envs\\ML\\Lib\\site-packages\\tqdm\\auto.py:21: TqdmWarning: IProgress not found. Please update jupyter and ipywidgets. See https://ipywidgets.readthedocs.io/en/stable/user_install.html\n",
      "  from .autonotebook import tqdm as notebook_tqdm\n"
     ]
    },
    {
     "name": "stdout",
     "output_type": "stream",
     "text": [
      "WARNING:tensorflow:From c:\\Users\\mosai\\anaconda3\\envs\\ML\\Lib\\site-packages\\tf_keras\\src\\losses.py:2976: The name tf.losses.sparse_softmax_cross_entropy is deprecated. Please use tf.compat.v1.losses.sparse_softmax_cross_entropy instead.\n",
      "\n"
     ]
    }
   ],
   "source": [
    "embeddings = HuggingFaceEmbeddings(model_name=\"sentence-transformers/all-mpnet-base-v2\")\n",
    "\n",
    "\n"
   ]
  },
  {
   "cell_type": "code",
   "execution_count": 9,
   "metadata": {},
   "outputs": [],
   "source": [
    "vectorstore = FAISS.from_documents(all_documents, embeddings)\n",
    "retriever = vectorstore.as_retriever(search_kwargs={\"k\": 30})\n"
   ]
  },
  {
   "cell_type": "code",
   "execution_count": 10,
   "metadata": {},
   "outputs": [],
   "source": [
    "qa_chain = RetrievalQA.from_chain_type(\n",
    "    llm=init_chat_model(\"llama-3.3-70b-versatile\", model_provider=\"groq\", temperature=0),\n",
    "    chain_type=\"stuff\",        # \"stuff\" means it will stuff all retrieved docs into the prompt\n",
    "    retriever=retriever\n",
    ")"
   ]
  },
  {
   "cell_type": "code",
   "execution_count": 11,
   "metadata": {},
   "outputs": [],
   "source": [
    "prompt_template = PromptTemplate(\n",
    "    input_variables=[\"context\", \"user_query\"],\n",
    "    template=\"\"\"You are a helpful travel planner AI. \n",
    "Use the context below, which contains information about \n",
    "ticket prices, Places Description and other information.\n",
    "\n",
    "Context:\n",
    "{context}\n",
    "\n",
    "User Query:\n",
    "{user_query}\n",
    "\n",
    "Return a 3-day travel itinerary. Include approximate costs and suggestions \n",
    "based on the data in the context. \n",
    "If you are missing some information, you can make a reasonable assumption, \n",
    "but indicate it clearly.\n",
    "\"\"\"\n",
    ")"
   ]
  },
  {
   "cell_type": "code",
   "execution_count": 12,
   "metadata": {},
   "outputs": [],
   "source": [
    "def generate_travel_plan(user_query):\n",
    "    # 1. Retrieve relevant docs\n",
    "    docs = retriever.get_relevant_documents(user_query)\n",
    "    # 2. Concatenate doc text\n",
    "    context_text = \"\\n\".join([doc.page_content for doc in docs])\n",
    "    # 3. Build the final prompt\n",
    "    prompt = prompt_template.format(context=context_text, user_query=user_query)\n",
    "    # 4. Call the LLM\n",
    "    llm = init_chat_model(\"llama-3.3-70b-versatile\", model_provider=\"groq\", temperature = 0)\n",
    "    response = llm.invoke(prompt)\n",
    "    return response"
   ]
  },
  {
   "cell_type": "code",
   "execution_count": 14,
   "metadata": {},
   "outputs": [
    {
     "name": "stdout",
     "output_type": "stream",
     "text": [
      "content=\"Based on the provided context, I've planned a 3-day trip to Luxor, incorporating cultural site visits, art, and dining options. Please note that some assumptions have been made due to missing information.\\n\\n**Day 1:**\\n\\n* Morning: Visit the Luxor Museum (9:00 am - 1:00 pm)\\n\\t+ Egyptian Ticket: 30 EGP, Foreign Ticket: 400 EGP\\n\\t+ Audio guide (optional): 30 EGP (Egyptian), 50 EGP (Foreign)\\n* Lunch: AHLLAN Restaurant (approximate cost: 200-300 EGP per person, assuming a mid-range price)\\n* Afternoon: Explore the Luxor Temple (2:00 pm - 5:00 pm)\\n\\t+ Egyptian Ticket: 40 EGP, Foreign Ticket: 500 EGP\\n* Evening: Enjoy a stroll along the Sphinx Avenue (free, but requires tickets to Karnak and Luxor Temples)\\n* Dinner: AHLLAN Restaurant (approximate cost: 200-300 EGP per person)\\n\\nApproximate cost for Day 1:\\nEgyptian: 100 EGP (museum + Luxor Temple), Foreign: 900 EGP (museum + Luxor Temple)\\nFood and other expenses: approximately 400-600 EGP per person\\n\\n**Day 2:**\\n\\n* Morning: Visit the Valley of the Kings (6:00 am - 12:00 pm)\\n\\t+ Egyptian Ticket: 60 EGP, Foreign Ticket: 750 EGP\\n* Lunch: Try a local restaurant (approximate cost: 100-200 EGP per person)\\n* Afternoon: Explore the Temple of Hatshepsut (1:00 pm - 4:00 pm)\\n\\t+ Egyptian Ticket: 40 EGP, Foreign Ticket: 440 EGP\\n* Evening: Visit the El-Souk Market (free, but be prepared for shopping and potential purchases)\\n* Dinner: Local restaurant (approximate cost: 100-200 EGP per person)\\n\\nApproximate cost for Day 2:\\nEgyptian: 100 EGP (Valley of the Kings + Temple of Hatshepsut), Foreign: 1190 EGP (Valley of the Kings + Temple of Hatshepsut)\\nFood and other expenses: approximately 200-400 EGP per person\\n\\n**Day 3:**\\n\\n* Morning: Visit the Karnak Temples (6:00 am - 12:00 pm)\\n\\t+ Egyptian Ticket: 40 EGP, Foreign Ticket: 600 EGP\\n* Lunch: AHLLAN Restaurant (approximate cost: 200-300 EGP per person)\\n* Afternoon: Explore the Tombs of the Nobles (e.g., Tombs of Menna and Nakht, 1:00 pm - 4:00 pm)\\n\\t+ Egyptian Ticket: 20 EGP, Foreign Ticket: 200 EGP\\n* Evening: Enjoy a relaxing dinner at a local restaurant (approximate cost: 100-200 EGP per person)\\n\\nApproximate cost for Day 3:\\nEgyptian: 60 EGP (Karnak Temples + Tombs of the Nobles), Foreign: 800 EGP (Karnak Temples + Tombs of the Nobles)\\nFood and other expenses: approximately 300-500 EGP per person\\n\\nTotal approximate cost for the 3-day trip:\\nEgyptian: 260 EGP (tickets) + 900-1400 EGP (food and other expenses) = 1160-1660 EGP\\nForeign: 2890 EGP (tickets) + 900-1400 EGP (food and other expenses) = 3790-4290 EGP\\n\\nAssumptions:\\n\\n* Food costs are approximate and based on mid-range restaurant prices.\\n* Transportation costs are not included, as they depend on the individual's preferred mode of transportation.\\n* Some sites, like the Sphinx Avenue, are free to visit, but require tickets to adjacent sites (Karnak and Luxor Temples).\\n* The AHLLAN Restaurant's price range is not specified, so a mid-range estimate is used.\\n\\nThis itinerary provides a mix of cultural site visits, art, and dining options, and can be adjusted based on individual preferences and budget.\" additional_kwargs={} response_metadata={'token_usage': {'completion_tokens': 889, 'prompt_tokens': 2222, 'total_tokens': 3111, 'completion_time': 3.232727273, 'prompt_time': 0.12433588, 'queue_time': 0.0033921350000000045, 'total_time': 3.357063153}, 'model_name': 'llama-3.3-70b-versatile', 'system_fingerprint': 'fp_5f849c5a0b', 'finish_reason': 'stop', 'logprobs': None} id='run-241ac80d-45d0-44d9-8724-6d2ebc0039d5-0' usage_metadata={'input_tokens': 2222, 'output_tokens': 889, 'total_tokens': 3111}\n"
     ]
    }
   ],
   "source": [
    "user_query = \"Plan a 3-day trip in Luxor with visits to cultural sites and Art and dining(restaurants) options.\"\n",
    "travel_plan = generate_travel_plan(user_query)\n",
    "print(travel_plan)\n"
   ]
  },
  {
   "cell_type": "code",
   "execution_count": null,
   "metadata": {},
   "outputs": [
    {
     "name": "stderr",
     "output_type": "stream",
     "text": [
      "C:\\Users\\mosai\\AppData\\Local\\Temp\\ipykernel_2992\\3174427764.py:1: LangChainDeprecationWarning: The method `Chain.run` was deprecated in langchain 0.1.0 and will be removed in 1.0. Use :meth:`~invoke` instead.\n",
      "  travel_plan_qa = qa_chain.run(user_query)\n"
     ]
    },
    {
     "name": "stdout",
     "output_type": "stream",
     "text": [
      "Here's a suggested 3-day itinerary for a trip to Luxor, incorporating visits to cultural sites, art, and dining options:\n",
      "\n",
      "Day 1:\n",
      "\n",
      "* Morning: Visit the Luxor Museum (open from 9:00 am to 1:00 pm and 5:00 pm to 8:00 pm) to get an introduction to the history and culture of Luxor. The Egyptian ticket price is 30 EGP, and the foreign ticket price is 400 EGP.\n",
      "* Afternoon: Explore the Luxor Temple (open from 6:00 am to 8:00 pm), a magnificent ancient temple complex. The Egyptian ticket price is 40 EGP, and the foreign ticket price is 500 EGP.\n",
      "* Evening: Dine at AHLLAN Restaurant (rated 4.9 stars), which offers a range of delicious options. You can find the restaurant's location and more information on their website.\n",
      "\n",
      "Day 2:\n",
      "\n",
      "* Morning: Visit the Valley of the Kings (open from 6:00 am to 5:00 pm), a vast burial ground for pharaohs and nobles. The Egyptian ticket price is 60 EGP, and the foreign ticket price is 750 EGP.\n",
      "* Afternoon: Explore the Karnak Temples (open from 6:00 am to 5:00 pm), a vast complex of ancient temples and sanctuaries. The Egyptian ticket price is 40 EGP, and the foreign ticket price is 600 EGP.\n",
      "* Evening: Take a stroll along the Sphinx Avenue, which connects the Karnak and Luxor Temples. To visit the Sphinx Avenue, you need to purchase tickets for both the Karnak and Luxor Temples.\n",
      "\n",
      "Day 3:\n",
      "\n",
      "* Morning: Visit the Temple of Hatshepsut (open from 6:00 am to 5:00 pm), one of the few female pharaohs of Egypt. The Egyptian ticket price is 40 EGP, and the foreign ticket price is 440 EGP.\n",
      "* Afternoon: Explore the Medinet Habu (open from 6:00 am to 5:00 pm), a temple complex built by Ramses III. The Egyptian ticket price is 20 EGP, and the foreign ticket price is 220 EGP.\n",
      "* Evening: Enjoy a meal at a local restaurant and reflect on the amazing cultural experiences you've had in Luxor.\n",
      "\n",
      "Additional tips:\n",
      "\n",
      "* Consider hiring a guide or joining a tour to get the most out of your visits to these cultural sites.\n",
      "* Be sure to stay hydrated and wear comfortable shoes, as you'll be doing a lot of walking and exploring.\n",
      "* Don't forget to try some of the local cuisine and drinks, such as koshari, falafel, and ahwa (Egyptian coffee).\n",
      "\n",
      "This itinerary provides a mix of cultural sites, art, and dining options, and is just a suggestion. You can adjust it to fit your interests and preferences. Enjoy your trip to Luxor!\n"
     ]
    }
   ],
   "source": [
    "travel_plan_qa = qa_chain.invoke(user_query)\n",
    "print(travel_plan_qa)"
   ]
  }
 ],
 "metadata": {
  "kernelspec": {
   "display_name": "ML",
   "language": "python",
   "name": "python3"
  },
  "language_info": {
   "codemirror_mode": {
    "name": "ipython",
    "version": 3
   },
   "file_extension": ".py",
   "mimetype": "text/x-python",
   "name": "python",
   "nbconvert_exporter": "python",
   "pygments_lexer": "ipython3",
   "version": "3.12.3"
  }
 },
 "nbformat": 4,
 "nbformat_minor": 2
}
