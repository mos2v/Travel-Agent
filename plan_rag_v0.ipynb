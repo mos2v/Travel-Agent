{
 "cells": [
  {
   "cell_type": "code",
   "execution_count": 66,
   "metadata": {},
   "outputs": [],
   "source": [
    "import os\n",
    "import sys\n",
    "import pandas as pd\n",
    "import numpy as np\n",
    "from langchain_core.documents import Document\n",
    "from langchain_huggingface import HuggingFaceEmbeddings\n",
    "from langchain_community.vectorstores import FAISS\n",
    "from langchain.prompts import PromptTemplate\n",
    "from langchain.chat_models import init_chat_model\n",
    "from langchain.chains import RetrievalQA\n"
   ]
  },
  {
   "cell_type": "code",
   "execution_count": 67,
   "metadata": {},
   "outputs": [],
   "source": [
    "os.environ[\"LANGCHAIN_TRACING_V2\"] = \"true\"\n",
    "os.environ[\"LANGCHAIN_API_KEY\"] = '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'\n",
    "os.environ[\"LANGCHAIN_ENDPOINT\"] = \"https://api.smith.langchain.com\"\n",
    "os.environ[\"LANGCHAIN_PROJECT\"] = \"travel_planner_v0.1\""
   ]
  },
  {
   "cell_type": "code",
   "execution_count": 68,
   "metadata": {},
   "outputs": [],
   "source": [
    "landmark_prices = pd.read_csv('data/egypt.csv')\n",
    "luxor_landmark = pd.read_csv('data/places.csv')\n",
    "luxor_restaurants = pd.read_csv('data/restaurants.csv')\n",
    "luxor_art = pd.read_csv('data/artgallery.csv')\n",
    "\n"
   ]
  },
  {
   "cell_type": "code",
   "execution_count": 69,
   "metadata": {},
   "outputs": [],
   "source": [
    "all_documents = []\n",
    "for _, row in landmark_prices.iterrows():\n",
    "    text = f\"\"\"\n",
    "    Governorate: {row['Governorate/City']}\n",
    "    Site: {row['Place']}\n",
    "    Egyptian Ticket: {row['Egyptian']}\n",
    "    Egyptian Student Ticket: {row['EgyptianStudent']}\n",
    "    Foreign Ticket: {row['Foreign']}\n",
    "    Foreign Student Ticket: {row['ForeignStudent']}\n",
    "    Visiting Times: {row['VisitingTimes']}\n",
    "    \"\"\"\n",
    "    all_documents.append(Document(page_content=text, metadata={\"source\": 'landmark_prices'}))\n"
   ]
  },
  {
   "cell_type": "code",
   "execution_count": 70,
   "metadata": {},
   "outputs": [],
   "source": [
    "\n",
    "for _, row in luxor_landmark.iterrows():\n",
    "    text = f\"\"\"\n",
    "    Site: {row['title']}\n",
    "    Description: {row['description']}\n",
    "    Site Category Name: {row['categoryName']}\n",
    "    Site Categories: {row['Categories']}\n",
    "    Location: {row['address']}\n",
    "    Star Rating: {row['totalScore']}\n",
    "    \"\"\"\n",
    "    all_documents.append(Document(page_content=text, metadata={\"source\": 'Luxor Landmarks'}))\n",
    "\n",
    "    \n",
    "\n",
    "\n",
    "\n"
   ]
  },
  {
   "cell_type": "code",
   "execution_count": 71,
   "metadata": {},
   "outputs": [],
   "source": [
    "for _, row in luxor_restaurants.iterrows():\n",
    "    text = f\"\"\"\n",
    "    Name: {row['title']}\n",
    "    Restaurant Category Name: {row['categoryName']}\n",
    "    Restaurant Categories: {row['Categories']}\n",
    "    Address: {row['address']}\n",
    "    Price Range: {row['price']}\n",
    "    Star Rating: {row['totalScore']}\n",
    "    Website: {row['website']}\n",
    "    \"\"\"\n",
    "    all_documents.append(Document(page_content=text, metadata={\"source\": 'Luxor Restaurants'}))"
   ]
  },
  {
   "cell_type": "code",
   "execution_count": 72,
   "metadata": {},
   "outputs": [],
   "source": [
    "for _, row in luxor_art.iterrows():\n",
    "    text = f\"\"\"\n",
    "    Art Gallery Name: {row['title']}\n",
    "    Art Gallery Categories: {row['Categories']}\n",
    "    Art Gallery Address: {row['address']}\n",
    "    Art Gallery Website: {row['website']}\n",
    "    Star Rating: {row['totalScore']}\n",
    "    \"\"\"\n",
    "    all_documents.append(Document(page_content=text, metadata={\"source\": 'Luxor Art Galleries'}))"
   ]
  },
  {
   "cell_type": "code",
   "execution_count": 73,
   "metadata": {},
   "outputs": [],
   "source": [
    "embeddings = HuggingFaceEmbeddings(model_name=\"sentence-transformers/all-mpnet-base-v2\")\n",
    "\n",
    "\n"
   ]
  },
  {
   "cell_type": "code",
   "execution_count": 74,
   "metadata": {},
   "outputs": [],
   "source": [
    "vectorstore = FAISS.from_documents(all_documents, embeddings)\n",
    "retriever = vectorstore.as_retriever(search_kwargs={\"k\": 50})\n"
   ]
  },
  {
   "cell_type": "code",
   "execution_count": 75,
   "metadata": {},
   "outputs": [],
   "source": [
    "llm_model = init_chat_model(\"llama-3.3-70b-versatile\", model_provider=\"groq\", temperature=0)\n"
   ]
  },
  {
   "cell_type": "code",
   "execution_count": 76,
   "metadata": {},
   "outputs": [],
   "source": [
    "# qa_chain = RetrievalQA.from_chain_type(\n",
    "#     llm=llm_model,\n",
    "#     chain_type=\"stuff\",        # \"stuff\" means it will stuff all retrieved docs into the prompt\n",
    "#     retriever=retriever\n",
    "# )"
   ]
  },
  {
   "cell_type": "markdown",
   "metadata": {},
   "source": [
    "# Structured Output"
   ]
  },
  {
   "cell_type": "code",
   "execution_count": 77,
   "metadata": {},
   "outputs": [],
   "source": [
    "# class TravelItinerary(BaseModel):\n",
    "\n",
    "#     travel_plan_days: list = {\n",
    "#     Day_Number: str = Field(description='The number of the day in the travel plan and the theme of the places that will be visited that day'),\n",
    "#     activities: list = {Field(description='The places that the user will go in that day'),\n",
    "#                         Field(description='The prices of every activity')},\n",
    "#     cost:Optional[int] = Field(description='The total money spent this day'),\n",
    "#     }\n",
    "    \n",
    "     "
   ]
  },
  {
   "cell_type": "code",
   "execution_count": 78,
   "metadata": {},
   "outputs": [],
   "source": [
    "# prompt_template = PromptTemplate(\n",
    "#     input_variables=[\"context\", \"user_query\", \"favorite_places\", \"visitor_type\", \"num_days\", \"budget\"],\n",
    "#     template=\"\"\"You are a helpful travel planner AI.\n",
    "# Use the context below, which contains information about ticket prices, place descriptions, restaurant details, and art gallery information.\n",
    "\n",
    "# Context:\n",
    "# {context}\n",
    "\n",
    "# User Query:\n",
    "# {user_query}\n",
    "\n",
    "# Additional Preferences:\n",
    "# - Favorite types of places: {favorite_places}\n",
    "# - Visitor type: {visitor_type} (e.g., Egyptian, Egyptian student, Foreign, or foreign student)\n",
    "# - Number of travel days: {num_days}\n",
    "# - Overall budget for all days: {budget} EGP\n",
    "# - Exclude hotels from the plan.\n",
    "# - Ensure that the itinerary includes at least 3 meals per day.\n",
    "\n",
    "# Based on the above, return a detailed itinerary in a JSON format. \n",
    "# The JSON should have the following structure:\n",
    "\n",
    "# {\n",
    "#   \"days\": [\n",
    "#     {\n",
    "#       \"day\": \"Day 1\",\n",
    "#       \"activities\": [\n",
    "#          {\n",
    "#            \"time\": \"8:00 am\",\n",
    "#            \"activity\": \"Breakfast\",\n",
    "#            \"location\": \"Bab Sharq Luxor\",\n",
    "#            \"price_range\": \"E£100-200\"\n",
    "#          },\n",
    "#          {\n",
    "#            \"time\": \"9:00 am\",\n",
    "#            \"activity\": \"Visit\",\n",
    "#            \"location\": \"Luxor Museum\",\n",
    "#            \"ticket_cost\": \"400 EGP\"\n",
    "#          },\n",
    "#          ... // other activities for the day\n",
    "#       ],\n",
    "#       \"approximate_cost\": \"1200 EGP\"\n",
    "#     },\n",
    "#     ... // more days\n",
    "#   ],\n",
    "#   \"total_approximate_cost\": \"4210 EGP\",\n",
    "#   \"notes\": \"Any assumptions or additional notes.\"\n",
    "# }\n",
    "\n",
    "# Please ensure the output is valid JSON with no extra text.\n",
    "# \"\"\"\n",
    "# )"
   ]
  },
  {
   "cell_type": "code",
   "execution_count": 79,
   "metadata": {},
   "outputs": [],
   "source": [
    "json_schema = {\n",
    "    \"title\": \"TravelItinerary\",\n",
    "    \"description\": \"A structured travel itinerary for the user.\",\n",
    "    \"type\": \"object\",\n",
    "    \"properties\": {\n",
    "        \"days\": {\n",
    "            \"type\": \"array\",\n",
    "            \"description\": \"List of days with planned activities.\",\n",
    "            \"items\": {\n",
    "                \"type\": \"object\",\n",
    "                \"properties\": {\n",
    "                    \"day\": {\"type\": \"string\", \"description\": \"Theme of the Day or Day label, e.g., 'Day 1'\"},\n",
    "                    \"activities\": {\n",
    "                        \"type\": \"array\",\n",
    "                        \"description\": \"Activities planned for the day.\",\n",
    "                        \"items\": {\n",
    "                            \"type\": \"object\",\n",
    "                            \"properties\": {\n",
    "                                \"time\": {\"type\": \"string\", \"description\": \"Time of the activity\"},\n",
    "                                \"activity\": {\"type\": \"string\", \"description\": \"Name of the activity\"},\n",
    "                                \"location\": {\"type\": \"string\", \"description\": \"Location name\"},\n",
    "                                \"price_range\": {\"type\": \"string\", \"description\": \"Price range or cost\"},\n",
    "                            },\n",
    "                            \"required\": [\"time\", \"activity\", \"location\"]\n",
    "                        }\n",
    "                    },\n",
    "                    \"approximate_cost\": {\"type\": \"string\", \"description\": \"Total cost for the day\"}\n",
    "                },\n",
    "                \"required\": [\"day\", \"activities\", \"approximate_cost\"]\n",
    "            }\n",
    "        },\n",
    "        \"total_approximate_cost\": {\n",
    "            \"type\": \"string\",\n",
    "            \"description\": \"Total cost for the trip\"\n",
    "        },\n",
    "        \"notes\": {\n",
    "            \"type\": \"string\",\n",
    "            \"description\": \"Any additional notes or assumptions\"\n",
    "        }\n",
    "    },\n",
    "    \"required\": [\"days\", \"total_approximate_cost\"]\n",
    "}\n",
    "\n",
    "structured_llm = llm_model.with_structured_output(json_schema, include_raw=True)\n",
    "\n"
   ]
  },
  {
   "cell_type": "code",
   "execution_count": 80,
   "metadata": {},
   "outputs": [],
   "source": [
    "prompt_template = PromptTemplate(\n",
    "    input_variables=[\"context\", \"user_query\", \"favorite_places\", \"visitor_type\", \"num_days\", \"budget\"],\n",
    "    template=\"\"\"You are a helpful travel planner AI.\n",
    "Use the context below, which contains information about ticket prices, place descriptions, restaurant details, and art gallery information.\n",
    "\n",
    "Context:\n",
    "{context}\n",
    "\n",
    "User Query:\n",
    "{user_query}\n",
    "\n",
    "Additional Preferences:\n",
    "- Favorite types of places: {favorite_places}\n",
    "- Visitor type: {visitor_type} (e.g., Egyptian, Egyptian student, Foreign, or foreign student)\n",
    "- Number of travel days: {num_days}\n",
    "- Overall budget for all days: {budget} EGP\n",
    "- Exclude hotels from the plan.\n",
    "- Ensure that the itinerary includes at least 3 meals per day.\n",
    "\n",
    "Based on the above, return a detailed {num_days}-day travel itinerary with approximate costs and suggestions. If some details are missing, make reasonable assumptions and indicate them.\n",
    "\"\"\"\n",
    ")\n"
   ]
  },
  {
   "cell_type": "code",
   "execution_count": 81,
   "metadata": {},
   "outputs": [],
   "source": [
    "\n",
    "def generate_travel_plan(user_query, favorite_places, visitor_type, num_days, budget):\n",
    "    # 1. Retrieve relevant docs\n",
    "    docs = retriever.get_relevant_documents(user_query)\n",
    "    context_text = \"\\n\".join([doc.page_content for doc in docs])\n",
    "    # 2. Build the final prompt with the additional variables\n",
    "    prompt = prompt_template.format(\n",
    "        context=context_text,\n",
    "        user_query=user_query,\n",
    "        favorite_places=favorite_places,\n",
    "        visitor_type=visitor_type,\n",
    "        num_days=num_days,\n",
    "        budget=budget\n",
    "    )\n",
    "    # 3. Call the LLM\n",
    "    response = structured_llm.invoke(prompt)\n",
    "    return response\n"
   ]
  },
  {
   "cell_type": "code",
   "execution_count": 82,
   "metadata": {},
   "outputs": [],
   "source": [
    "user_query = \"Plan a 3-day trip in Luxor with visits to cultural sites, art galleries, and dining(restaurents) options.\"\n",
    "favorite_places = \"Cultural sites, historical landmarks, art galleries\"\n",
    "visitor_type = \"Foreign\"  # or \"Egyptian\", \"Egyptian student\", \"foreign student\"\n",
    "num_days = \"3\"\n",
    "budget = \"5000\"  # Overall budget in EGP\n",
    "\n"
   ]
  },
  {
   "cell_type": "code",
   "execution_count": 83,
   "metadata": {},
   "outputs": [
    {
     "name": "stdout",
     "output_type": "stream",
     "text": [
      "{'raw': AIMessage(content='', additional_kwargs={'tool_calls': [{'id': 'call_4rtc', 'function': {'arguments': '{\\n  \"days\": [\\n    {\\n      \"day\": \"Day 1\",\\n      \"activities\": [\\n        {\\n          \"activity\": \"Visit Luxor Museum\",\\n          \"location\": \"Kornish Al Nile, Luxor City, Luxor, Luxor Governorate 1362503, Egypt\",\\n          \"price_range\": \"400 EGP\",\\n          \"time\": \"9:00am - 1:00pm\"\\n        },\\n        {\\n          \"activity\": \"Lunch at AHLLAN Restaurant\",\\n          \"location\": \"https://www.google.com/maps/@25.6885906,32.6217779,48m/data=!3m1!1e3?hl=en, Luxor, Luxor Governorate 85958, Egypt\",\\n          \"price_range\": \"200 - 300 EGP\",\\n          \"time\": \"1:00pm - 2:30pm\"\\n        },\\n        {\\n          \"activity\": \"Visit Luxor Temple\",\\n          \"location\": \"Luxor Temple st, Luxor City, Luxor, Luxor Governorate 1362410, Egypt\",\\n          \"price_range\": \"500 EGP\",\\n          \"time\": \"3:00pm - 5:00pm\"\\n        },\\n        {\\n          \"activity\": \"Dinner at Bab Sharq Luxor\",\\n          \"location\": \"The Conference Center, El Kornish, Karnak, Luxor, Luxor Governorate 1362602, Egypt\",\\n          \"price_range\": \"100 - 200 EGP\",\\n          \"time\": \"7:00pm - 9:00pm\"\\n        }\\n      ],\\n      \"approximate_cost\": \"1200 EGP\"\\n    },\\n    {\\n      \"day\": \"Day 2\",\\n      \"activities\": [\\n        {\\n          \"activity\": \"Visit Valley of the Kings\",\\n          \"location\": \"Luxor, Luxor Governorate, Egypt\",\\n          \"price_range\": \"750 EGP\",\\n          \"time\": \"6:00am - 8:00am\"\\n        },\\n        {\\n          \"activity\": \"Breakfast at Café & Restaurant Maratonga\",\\n          \"location\": \"Unnamed Road, Al Bairat, Luxor, Luxor Governorate 85958, Egypt\",\\n          \"price_range\": \"100 - 200 EGP\",\\n          \"time\": \"8:00am - 9:30am\"\\n        },\\n        {\\n          \"activity\": \"Visit Temple of Hatshepsut\",\\n          \"location\": \"Luxor, Luxor Governorate, Egypt\",\\n          \"price_range\": \"440 EGP\",\\n          \"time\": \"10:00am - 12:00pm\"\\n        },\\n        {\\n          \"activity\": \"Lunch at Nubian House\",\\n          \"location\": \"Al Bairat, Luxor, Luxor Governorate 1345173, Egypt\",\\n          \"price_range\": \"100 - 200 EGP\",\\n          \"time\": \"12:00pm - 1:30pm\"\\n        },\\n        {\\n          \"activity\": \"Visit Luxor Art Gallery\",\\n          \"location\": \"Memnon Street, Al Bairat, Al Qarna, Luxor Governorate 1341472, Egypt\",\\n          \"price_range\": \"Free\",\\n          \"time\": \"2:00pm - 4:00pm\"\\n        },\\n        {\\n          \"activity\": \"Dinner at Restaurant Mohamed\",\\n          \"location\": \"البر الغربي القرنة, Luxor City, Luxor, Luxor Governorate, Egypt\",\\n          \"price_range\": \"100 - 200 EGP\",\\n          \"time\": \"7:00pm - 9:00pm\"\\n        }\\n      ],\\n      \"approximate_cost\": \"1790 EGP\"\\n    },\\n    {\\n      \"day\": \"Day 3\",\\n      \"activities\": [\\n        {\\n          \"activity\": \"Visit Karnak Temples\",\\n          \"location\": \"Luxor, Luxor Governorate, Egypt\",\\n          \"price_range\": \"600 EGP\",\\n          \"time\": \"6:00am - 8:00am\"\\n        },\\n        {\\n          \"activity\": \"Breakfast at White Coffee & Restaurant\",\\n          \"location\": \"Karnak, Luxor, Luxor Governorate 1363024, Egypt\",\\n          \"price_range\": \"100 - 200 EGP\",\\n          \"time\": \"8:00am - 9:30am\"\\n        },\\n        {\\n          \"activity\": \"Visit Temple of Mut\",\\n          \"location\": \"Luxor, Luxor Governorate, Egypt\",\\n          \"price_range\": \"200 EGP\",\\n          \"time\": \"10:00am - 12:00pm\"\\n        },\\n        {\\n          \"activity\": \"Lunch at Oasis Palace\",\\n          \"location\": \"Luxor City, Luxor, Luxor Governorate 1362502, Egypt\",\\n          \"price_range\": \"100 - 200 EGP\",\\n          \"time\": \"12:00pm - 1:30pm\"\\n        },\\n        {\\n          \"activity\": \"Visit Tombs of the Nobles\",\\n          \"location\": \"Luxor, Luxor Governorate, Egypt\",\\n          \"price_range\": \"200 EGP\",\\n          \"time\": \"2:00pm - 4:00pm\"\\n        },\\n        {\\n          \"activity\": \"Farewell dinner at مطعم وولف Wolf Restaurant\",\\n          \"location\": \"Al Bairat, Luxor, Luxor Governorate 1345150, Egypt\",\\n          \"price_range\": \"200 - 300 EGP\",\\n          \"time\": \"7:00pm - 9:00pm\"\\n        }\\n      ],\\n      \"approximate_cost\": \"1300 EGP\"\\n    }\\n  ],\\n  \"total_approximate_cost\": \"4290 EGP\",\\n  \"notes\": \"The itinerary includes a mix of cultural sites, historical landmarks, and art galleries. The approximate cost is within the overall budget of 5000 EGP. The plan assumes that the visitor will use public transportation or walk between sites, and that the cost of transportation is not included in the approximate cost. The plan also assumes that the visitor will tip at restaurants and other service providers.\"\\n}', 'name': 'TravelItinerary'}, 'type': 'function'}]}, response_metadata={'token_usage': {'completion_tokens': 1288, 'prompt_tokens': 4174, 'total_tokens': 5462, 'completion_time': 4.683636364, 'prompt_time': 0.195854732, 'queue_time': 2.009193442, 'total_time': 4.879491096}, 'model_name': 'llama-3.3-70b-versatile', 'system_fingerprint': 'fp_7b42aeb9fa', 'finish_reason': 'tool_calls', 'logprobs': None}, id='run-d7ccb59e-4010-4a63-abcf-22cbaf7b8dc1-0', tool_calls=[{'name': 'TravelItinerary', 'args': {'days': [{'day': 'Day 1', 'activities': [{'activity': 'Visit Luxor Museum', 'location': 'Kornish Al Nile, Luxor City, Luxor, Luxor Governorate 1362503, Egypt', 'price_range': '400 EGP', 'time': '9:00am - 1:00pm'}, {'activity': 'Lunch at AHLLAN Restaurant', 'location': 'https://www.google.com/maps/@25.6885906,32.6217779,48m/data=!3m1!1e3?hl=en, Luxor, Luxor Governorate 85958, Egypt', 'price_range': '200 - 300 EGP', 'time': '1:00pm - 2:30pm'}, {'activity': 'Visit Luxor Temple', 'location': 'Luxor Temple st, Luxor City, Luxor, Luxor Governorate 1362410, Egypt', 'price_range': '500 EGP', 'time': '3:00pm - 5:00pm'}, {'activity': 'Dinner at Bab Sharq Luxor', 'location': 'The Conference Center, El Kornish, Karnak, Luxor, Luxor Governorate 1362602, Egypt', 'price_range': '100 - 200 EGP', 'time': '7:00pm - 9:00pm'}], 'approximate_cost': '1200 EGP'}, {'day': 'Day 2', 'activities': [{'activity': 'Visit Valley of the Kings', 'location': 'Luxor, Luxor Governorate, Egypt', 'price_range': '750 EGP', 'time': '6:00am - 8:00am'}, {'activity': 'Breakfast at Café & Restaurant Maratonga', 'location': 'Unnamed Road, Al Bairat, Luxor, Luxor Governorate 85958, Egypt', 'price_range': '100 - 200 EGP', 'time': '8:00am - 9:30am'}, {'activity': 'Visit Temple of Hatshepsut', 'location': 'Luxor, Luxor Governorate, Egypt', 'price_range': '440 EGP', 'time': '10:00am - 12:00pm'}, {'activity': 'Lunch at Nubian House', 'location': 'Al Bairat, Luxor, Luxor Governorate 1345173, Egypt', 'price_range': '100 - 200 EGP', 'time': '12:00pm - 1:30pm'}, {'activity': 'Visit Luxor Art Gallery', 'location': 'Memnon Street, Al Bairat, Al Qarna, Luxor Governorate 1341472, Egypt', 'price_range': 'Free', 'time': '2:00pm - 4:00pm'}, {'activity': 'Dinner at Restaurant Mohamed', 'location': 'البر الغربي القرنة, Luxor City, Luxor, Luxor Governorate, Egypt', 'price_range': '100 - 200 EGP', 'time': '7:00pm - 9:00pm'}], 'approximate_cost': '1790 EGP'}, {'day': 'Day 3', 'activities': [{'activity': 'Visit Karnak Temples', 'location': 'Luxor, Luxor Governorate, Egypt', 'price_range': '600 EGP', 'time': '6:00am - 8:00am'}, {'activity': 'Breakfast at White Coffee & Restaurant', 'location': 'Karnak, Luxor, Luxor Governorate 1363024, Egypt', 'price_range': '100 - 200 EGP', 'time': '8:00am - 9:30am'}, {'activity': 'Visit Temple of Mut', 'location': 'Luxor, Luxor Governorate, Egypt', 'price_range': '200 EGP', 'time': '10:00am - 12:00pm'}, {'activity': 'Lunch at Oasis Palace', 'location': 'Luxor City, Luxor, Luxor Governorate 1362502, Egypt', 'price_range': '100 - 200 EGP', 'time': '12:00pm - 1:30pm'}, {'activity': 'Visit Tombs of the Nobles', 'location': 'Luxor, Luxor Governorate, Egypt', 'price_range': '200 EGP', 'time': '2:00pm - 4:00pm'}, {'activity': 'Farewell dinner at مطعم وولف Wolf Restaurant', 'location': 'Al Bairat, Luxor, Luxor Governorate 1345150, Egypt', 'price_range': '200 - 300 EGP', 'time': '7:00pm - 9:00pm'}], 'approximate_cost': '1300 EGP'}], 'total_approximate_cost': '4290 EGP', 'notes': 'The itinerary includes a mix of cultural sites, historical landmarks, and art galleries. The approximate cost is within the overall budget of 5000 EGP. The plan assumes that the visitor will use public transportation or walk between sites, and that the cost of transportation is not included in the approximate cost. The plan also assumes that the visitor will tip at restaurants and other service providers.'}, 'id': 'call_4rtc', 'type': 'tool_call'}], usage_metadata={'input_tokens': 4174, 'output_tokens': 1288, 'total_tokens': 5462}), 'parsed': {'days': [{'day': 'Day 1', 'activities': [{'activity': 'Visit Luxor Museum', 'location': 'Kornish Al Nile, Luxor City, Luxor, Luxor Governorate 1362503, Egypt', 'price_range': '400 EGP', 'time': '9:00am - 1:00pm'}, {'activity': 'Lunch at AHLLAN Restaurant', 'location': 'https://www.google.com/maps/@25.6885906,32.6217779,48m/data=!3m1!1e3?hl=en, Luxor, Luxor Governorate 85958, Egypt', 'price_range': '200 - 300 EGP', 'time': '1:00pm - 2:30pm'}, {'activity': 'Visit Luxor Temple', 'location': 'Luxor Temple st, Luxor City, Luxor, Luxor Governorate 1362410, Egypt', 'price_range': '500 EGP', 'time': '3:00pm - 5:00pm'}, {'activity': 'Dinner at Bab Sharq Luxor', 'location': 'The Conference Center, El Kornish, Karnak, Luxor, Luxor Governorate 1362602, Egypt', 'price_range': '100 - 200 EGP', 'time': '7:00pm - 9:00pm'}], 'approximate_cost': '1200 EGP'}, {'day': 'Day 2', 'activities': [{'activity': 'Visit Valley of the Kings', 'location': 'Luxor, Luxor Governorate, Egypt', 'price_range': '750 EGP', 'time': '6:00am - 8:00am'}, {'activity': 'Breakfast at Café & Restaurant Maratonga', 'location': 'Unnamed Road, Al Bairat, Luxor, Luxor Governorate 85958, Egypt', 'price_range': '100 - 200 EGP', 'time': '8:00am - 9:30am'}, {'activity': 'Visit Temple of Hatshepsut', 'location': 'Luxor, Luxor Governorate, Egypt', 'price_range': '440 EGP', 'time': '10:00am - 12:00pm'}, {'activity': 'Lunch at Nubian House', 'location': 'Al Bairat, Luxor, Luxor Governorate 1345173, Egypt', 'price_range': '100 - 200 EGP', 'time': '12:00pm - 1:30pm'}, {'activity': 'Visit Luxor Art Gallery', 'location': 'Memnon Street, Al Bairat, Al Qarna, Luxor Governorate 1341472, Egypt', 'price_range': 'Free', 'time': '2:00pm - 4:00pm'}, {'activity': 'Dinner at Restaurant Mohamed', 'location': 'البر الغربي القرنة, Luxor City, Luxor, Luxor Governorate, Egypt', 'price_range': '100 - 200 EGP', 'time': '7:00pm - 9:00pm'}], 'approximate_cost': '1790 EGP'}, {'day': 'Day 3', 'activities': [{'activity': 'Visit Karnak Temples', 'location': 'Luxor, Luxor Governorate, Egypt', 'price_range': '600 EGP', 'time': '6:00am - 8:00am'}, {'activity': 'Breakfast at White Coffee & Restaurant', 'location': 'Karnak, Luxor, Luxor Governorate 1363024, Egypt', 'price_range': '100 - 200 EGP', 'time': '8:00am - 9:30am'}, {'activity': 'Visit Temple of Mut', 'location': 'Luxor, Luxor Governorate, Egypt', 'price_range': '200 EGP', 'time': '10:00am - 12:00pm'}, {'activity': 'Lunch at Oasis Palace', 'location': 'Luxor City, Luxor, Luxor Governorate 1362502, Egypt', 'price_range': '100 - 200 EGP', 'time': '12:00pm - 1:30pm'}, {'activity': 'Visit Tombs of the Nobles', 'location': 'Luxor, Luxor Governorate, Egypt', 'price_range': '200 EGP', 'time': '2:00pm - 4:00pm'}, {'activity': 'Farewell dinner at مطعم وولف Wolf Restaurant', 'location': 'Al Bairat, Luxor, Luxor Governorate 1345150, Egypt', 'price_range': '200 - 300 EGP', 'time': '7:00pm - 9:00pm'}], 'approximate_cost': '1300 EGP'}], 'total_approximate_cost': '4290 EGP', 'notes': 'The itinerary includes a mix of cultural sites, historical landmarks, and art galleries. The approximate cost is within the overall budget of 5000 EGP. The plan assumes that the visitor will use public transportation or walk between sites, and that the cost of transportation is not included in the approximate cost. The plan also assumes that the visitor will tip at restaurants and other service providers.'}, 'parsing_error': None}\n"
     ]
    }
   ],
   "source": [
    "travel_plan = generate_travel_plan(user_query, favorite_places, visitor_type, num_days, budget)\n",
    "print(travel_plan)\n"
   ]
  },
  {
   "cell_type": "code",
   "execution_count": 86,
   "metadata": {},
   "outputs": [
    {
     "data": {
      "text/plain": [
       "AIMessage(content='', additional_kwargs={'tool_calls': [{'id': 'call_4rtc', 'function': {'arguments': '{\\n  \"days\": [\\n    {\\n      \"day\": \"Day 1\",\\n      \"activities\": [\\n        {\\n          \"activity\": \"Visit Luxor Museum\",\\n          \"location\": \"Kornish Al Nile, Luxor City, Luxor, Luxor Governorate 1362503, Egypt\",\\n          \"price_range\": \"400 EGP\",\\n          \"time\": \"9:00am - 1:00pm\"\\n        },\\n        {\\n          \"activity\": \"Lunch at AHLLAN Restaurant\",\\n          \"location\": \"https://www.google.com/maps/@25.6885906,32.6217779,48m/data=!3m1!1e3?hl=en, Luxor, Luxor Governorate 85958, Egypt\",\\n          \"price_range\": \"200 - 300 EGP\",\\n          \"time\": \"1:00pm - 2:30pm\"\\n        },\\n        {\\n          \"activity\": \"Visit Luxor Temple\",\\n          \"location\": \"Luxor Temple st, Luxor City, Luxor, Luxor Governorate 1362410, Egypt\",\\n          \"price_range\": \"500 EGP\",\\n          \"time\": \"3:00pm - 5:00pm\"\\n        },\\n        {\\n          \"activity\": \"Dinner at Bab Sharq Luxor\",\\n          \"location\": \"The Conference Center, El Kornish, Karnak, Luxor, Luxor Governorate 1362602, Egypt\",\\n          \"price_range\": \"100 - 200 EGP\",\\n          \"time\": \"7:00pm - 9:00pm\"\\n        }\\n      ],\\n      \"approximate_cost\": \"1200 EGP\"\\n    },\\n    {\\n      \"day\": \"Day 2\",\\n      \"activities\": [\\n        {\\n          \"activity\": \"Visit Valley of the Kings\",\\n          \"location\": \"Luxor, Luxor Governorate, Egypt\",\\n          \"price_range\": \"750 EGP\",\\n          \"time\": \"6:00am - 8:00am\"\\n        },\\n        {\\n          \"activity\": \"Breakfast at Café & Restaurant Maratonga\",\\n          \"location\": \"Unnamed Road, Al Bairat, Luxor, Luxor Governorate 85958, Egypt\",\\n          \"price_range\": \"100 - 200 EGP\",\\n          \"time\": \"8:00am - 9:30am\"\\n        },\\n        {\\n          \"activity\": \"Visit Temple of Hatshepsut\",\\n          \"location\": \"Luxor, Luxor Governorate, Egypt\",\\n          \"price_range\": \"440 EGP\",\\n          \"time\": \"10:00am - 12:00pm\"\\n        },\\n        {\\n          \"activity\": \"Lunch at Nubian House\",\\n          \"location\": \"Al Bairat, Luxor, Luxor Governorate 1345173, Egypt\",\\n          \"price_range\": \"100 - 200 EGP\",\\n          \"time\": \"12:00pm - 1:30pm\"\\n        },\\n        {\\n          \"activity\": \"Visit Luxor Art Gallery\",\\n          \"location\": \"Memnon Street, Al Bairat, Al Qarna, Luxor Governorate 1341472, Egypt\",\\n          \"price_range\": \"Free\",\\n          \"time\": \"2:00pm - 4:00pm\"\\n        },\\n        {\\n          \"activity\": \"Dinner at Restaurant Mohamed\",\\n          \"location\": \"البر الغربي القرنة, Luxor City, Luxor, Luxor Governorate, Egypt\",\\n          \"price_range\": \"100 - 200 EGP\",\\n          \"time\": \"7:00pm - 9:00pm\"\\n        }\\n      ],\\n      \"approximate_cost\": \"1790 EGP\"\\n    },\\n    {\\n      \"day\": \"Day 3\",\\n      \"activities\": [\\n        {\\n          \"activity\": \"Visit Karnak Temples\",\\n          \"location\": \"Luxor, Luxor Governorate, Egypt\",\\n          \"price_range\": \"600 EGP\",\\n          \"time\": \"6:00am - 8:00am\"\\n        },\\n        {\\n          \"activity\": \"Breakfast at White Coffee & Restaurant\",\\n          \"location\": \"Karnak, Luxor, Luxor Governorate 1363024, Egypt\",\\n          \"price_range\": \"100 - 200 EGP\",\\n          \"time\": \"8:00am - 9:30am\"\\n        },\\n        {\\n          \"activity\": \"Visit Temple of Mut\",\\n          \"location\": \"Luxor, Luxor Governorate, Egypt\",\\n          \"price_range\": \"200 EGP\",\\n          \"time\": \"10:00am - 12:00pm\"\\n        },\\n        {\\n          \"activity\": \"Lunch at Oasis Palace\",\\n          \"location\": \"Luxor City, Luxor, Luxor Governorate 1362502, Egypt\",\\n          \"price_range\": \"100 - 200 EGP\",\\n          \"time\": \"12:00pm - 1:30pm\"\\n        },\\n        {\\n          \"activity\": \"Visit Tombs of the Nobles\",\\n          \"location\": \"Luxor, Luxor Governorate, Egypt\",\\n          \"price_range\": \"200 EGP\",\\n          \"time\": \"2:00pm - 4:00pm\"\\n        },\\n        {\\n          \"activity\": \"Farewell dinner at مطعم وولف Wolf Restaurant\",\\n          \"location\": \"Al Bairat, Luxor, Luxor Governorate 1345150, Egypt\",\\n          \"price_range\": \"200 - 300 EGP\",\\n          \"time\": \"7:00pm - 9:00pm\"\\n        }\\n      ],\\n      \"approximate_cost\": \"1300 EGP\"\\n    }\\n  ],\\n  \"total_approximate_cost\": \"4290 EGP\",\\n  \"notes\": \"The itinerary includes a mix of cultural sites, historical landmarks, and art galleries. The approximate cost is within the overall budget of 5000 EGP. The plan assumes that the visitor will use public transportation or walk between sites, and that the cost of transportation is not included in the approximate cost. The plan also assumes that the visitor will tip at restaurants and other service providers.\"\\n}', 'name': 'TravelItinerary'}, 'type': 'function'}]}, response_metadata={'token_usage': {'completion_tokens': 1288, 'prompt_tokens': 4174, 'total_tokens': 5462, 'completion_time': 4.683636364, 'prompt_time': 0.195854732, 'queue_time': 2.009193442, 'total_time': 4.879491096}, 'model_name': 'llama-3.3-70b-versatile', 'system_fingerprint': 'fp_7b42aeb9fa', 'finish_reason': 'tool_calls', 'logprobs': None}, id='run-d7ccb59e-4010-4a63-abcf-22cbaf7b8dc1-0', tool_calls=[{'name': 'TravelItinerary', 'args': {'days': [{'day': 'Day 1', 'activities': [{'activity': 'Visit Luxor Museum', 'location': 'Kornish Al Nile, Luxor City, Luxor, Luxor Governorate 1362503, Egypt', 'price_range': '400 EGP', 'time': '9:00am - 1:00pm'}, {'activity': 'Lunch at AHLLAN Restaurant', 'location': 'https://www.google.com/maps/@25.6885906,32.6217779,48m/data=!3m1!1e3?hl=en, Luxor, Luxor Governorate 85958, Egypt', 'price_range': '200 - 300 EGP', 'time': '1:00pm - 2:30pm'}, {'activity': 'Visit Luxor Temple', 'location': 'Luxor Temple st, Luxor City, Luxor, Luxor Governorate 1362410, Egypt', 'price_range': '500 EGP', 'time': '3:00pm - 5:00pm'}, {'activity': 'Dinner at Bab Sharq Luxor', 'location': 'The Conference Center, El Kornish, Karnak, Luxor, Luxor Governorate 1362602, Egypt', 'price_range': '100 - 200 EGP', 'time': '7:00pm - 9:00pm'}], 'approximate_cost': '1200 EGP'}, {'day': 'Day 2', 'activities': [{'activity': 'Visit Valley of the Kings', 'location': 'Luxor, Luxor Governorate, Egypt', 'price_range': '750 EGP', 'time': '6:00am - 8:00am'}, {'activity': 'Breakfast at Café & Restaurant Maratonga', 'location': 'Unnamed Road, Al Bairat, Luxor, Luxor Governorate 85958, Egypt', 'price_range': '100 - 200 EGP', 'time': '8:00am - 9:30am'}, {'activity': 'Visit Temple of Hatshepsut', 'location': 'Luxor, Luxor Governorate, Egypt', 'price_range': '440 EGP', 'time': '10:00am - 12:00pm'}, {'activity': 'Lunch at Nubian House', 'location': 'Al Bairat, Luxor, Luxor Governorate 1345173, Egypt', 'price_range': '100 - 200 EGP', 'time': '12:00pm - 1:30pm'}, {'activity': 'Visit Luxor Art Gallery', 'location': 'Memnon Street, Al Bairat, Al Qarna, Luxor Governorate 1341472, Egypt', 'price_range': 'Free', 'time': '2:00pm - 4:00pm'}, {'activity': 'Dinner at Restaurant Mohamed', 'location': 'البر الغربي القرنة, Luxor City, Luxor, Luxor Governorate, Egypt', 'price_range': '100 - 200 EGP', 'time': '7:00pm - 9:00pm'}], 'approximate_cost': '1790 EGP'}, {'day': 'Day 3', 'activities': [{'activity': 'Visit Karnak Temples', 'location': 'Luxor, Luxor Governorate, Egypt', 'price_range': '600 EGP', 'time': '6:00am - 8:00am'}, {'activity': 'Breakfast at White Coffee & Restaurant', 'location': 'Karnak, Luxor, Luxor Governorate 1363024, Egypt', 'price_range': '100 - 200 EGP', 'time': '8:00am - 9:30am'}, {'activity': 'Visit Temple of Mut', 'location': 'Luxor, Luxor Governorate, Egypt', 'price_range': '200 EGP', 'time': '10:00am - 12:00pm'}, {'activity': 'Lunch at Oasis Palace', 'location': 'Luxor City, Luxor, Luxor Governorate 1362502, Egypt', 'price_range': '100 - 200 EGP', 'time': '12:00pm - 1:30pm'}, {'activity': 'Visit Tombs of the Nobles', 'location': 'Luxor, Luxor Governorate, Egypt', 'price_range': '200 EGP', 'time': '2:00pm - 4:00pm'}, {'activity': 'Farewell dinner at مطعم وولف Wolf Restaurant', 'location': 'Al Bairat, Luxor, Luxor Governorate 1345150, Egypt', 'price_range': '200 - 300 EGP', 'time': '7:00pm - 9:00pm'}], 'approximate_cost': '1300 EGP'}], 'total_approximate_cost': '4290 EGP', 'notes': 'The itinerary includes a mix of cultural sites, historical landmarks, and art galleries. The approximate cost is within the overall budget of 5000 EGP. The plan assumes that the visitor will use public transportation or walk between sites, and that the cost of transportation is not included in the approximate cost. The plan also assumes that the visitor will tip at restaurants and other service providers.'}, 'id': 'call_4rtc', 'type': 'tool_call'}], usage_metadata={'input_tokens': 4174, 'output_tokens': 1288, 'total_tokens': 5462})"
      ]
     },
     "execution_count": 86,
     "metadata": {},
     "output_type": "execute_result"
    }
   ],
   "source": [
    "travel_plan['raw']"
   ]
  },
  {
   "cell_type": "code",
   "execution_count": null,
   "metadata": {},
   "outputs": [],
   "source": [
    "# travel_plan_qa = qa_chain.invoke(user_query)\n",
    "# print(travel_plan_qa)"
   ]
  }
 ],
 "metadata": {
  "kernelspec": {
   "display_name": "ML",
   "language": "python",
   "name": "python3"
  },
  "language_info": {
   "codemirror_mode": {
    "name": "ipython",
    "version": 3
   },
   "file_extension": ".py",
   "mimetype": "text/x-python",
   "name": "python",
   "nbconvert_exporter": "python",
   "pygments_lexer": "ipython3",
   "version": "3.12.3"
  }
 },
 "nbformat": 4,
 "nbformat_minor": 2
}
