{
 "cells": [
  {
   "cell_type": "code",
   "execution_count": 1,
   "metadata": {},
   "outputs": [],
   "source": [
    "import os\n",
    "import sys\n",
    "import pandas as pd\n",
    "import numpy as np\n",
    "from pathlib import Path\n",
    "\n",
    "from langchain_core.documents import Document\n",
    "from langchain_huggingface import HuggingFaceEmbeddings\n",
    "\n",
    "from langchain_community.vectorstores import FAISS\n",
    "from langchain.prompts import PromptTemplate\n",
    "from langchain.chat_models import init_chat_model\n",
    "from typing import List, Optional\n",
    "from pydantic import BaseModel, Field\n"
   ]
  },
  {
   "cell_type": "code",
   "execution_count": 2,
   "metadata": {},
   "outputs": [],
   "source": [
    "from dotenv import load_dotenv"
   ]
  },
  {
   "cell_type": "code",
   "execution_count": 3,
   "metadata": {},
   "outputs": [],
   "source": [
    "os.environ[\"LANGCHAIN_TRACING_V2\"] = \"true\"\n",
    "os.environ[\"LANGCHAIN_ENDPOINT\"] = \"https://api.smith.langchain.com\"\n",
    "os.environ[\"LANGCHAIN_PROJECT\"] = \"travel_planner_v1.0\""
   ]
  },
  {
   "cell_type": "code",
   "execution_count": 4,
   "metadata": {},
   "outputs": [],
   "source": [
    "landmark_prices = pd.read_csv('data/egypt.csv')\n",
    "luxor_landmark = pd.read_csv('data/temp/places.csv')\n",
    "luxor_restaurants = pd.read_csv('data/temp/restaurants.csv')\n",
    "luxor_art = pd.read_csv('data/temp/artgallery.csv')"
   ]
  },
  {
   "cell_type": "code",
   "execution_count": 5,
   "metadata": {},
   "outputs": [],
   "source": [
    "all_documents = []\n",
    "for _, row in landmark_prices.iterrows():\n",
    "    text = f\"\"\"\n",
    "    Governorate: {row['Governorate/City']}\n",
    "    Site: {row['Place']}\n",
    "    Egyptian Ticket: {row['Egyptian']}\n",
    "    Egyptian Student Ticket: {row['EgyptianStudent']}\n",
    "    Foreign Ticket: {row['Foreign']}\n",
    "    Foreign Student Ticket: {row['ForeignStudent']}\n",
    "    Visiting Times: {row['VisitingTimes']}\n",
    "    \"\"\"\n",
    "    all_documents.append(Document(page_content=text, metadata={\"source\": 'landmark_prices'}))\n"
   ]
  },
  {
   "cell_type": "code",
   "execution_count": 6,
   "metadata": {},
   "outputs": [],
   "source": [
    "\n",
    "for _, row in luxor_landmark.iterrows():\n",
    "    text = f\"\"\"\n",
    "    Site: {row['title']}\n",
    "    Description: {row['description']}\n",
    "    Site Category Name: {row['categoryName']}\n",
    "    Site Categories: {row['Categories']}\n",
    "    Location: {row['address']}\n",
    "    Star Rating: {row['totalScore']}\n",
    "    \"\"\"\n",
    "    all_documents.append(Document(page_content=text, metadata={\"source\": 'Luxor Landmarks'}))\n",
    "\n",
    "    \n",
    "\n",
    "\n",
    "\n"
   ]
  },
  {
   "cell_type": "code",
   "execution_count": 7,
   "metadata": {},
   "outputs": [],
   "source": [
    "for _, row in luxor_restaurants.iterrows():\n",
    "    text = f\"\"\"\n",
    "    Name: {row['title']}\n",
    "    Restaurant Category Name: {row['categoryName']}\n",
    "    Restaurant Categories: {row['Categories']}\n",
    "    Address: {row['address']}\n",
    "    Price Range: {row['price']}\n",
    "    Star Rating: {row['totalScore']}\n",
    "    Website: {row['website']}\n",
    "    \"\"\"\n",
    "    all_documents.append(Document(page_content=text, metadata={\"source\": 'Luxor Restaurants'}))"
   ]
  },
  {
   "cell_type": "code",
   "execution_count": 8,
   "metadata": {},
   "outputs": [],
   "source": [
    "for _, row in luxor_art.iterrows():\n",
    "    text = f\"\"\"\n",
    "    Art Gallery Name: {row['title']}\n",
    "    Art Gallery Categories: {row['Categories']}\n",
    "    Art Gallery Address: {row['address']}\n",
    "    Art Gallery Website: {row['website']}\n",
    "    Star Rating: {row['totalScore']}\n",
    "    \"\"\"\n",
    "    all_documents.append(Document(page_content=text, metadata={\"source\": 'Luxor Art Galleries'}))"
   ]
  },
  {
   "cell_type": "code",
   "execution_count": 9,
   "metadata": {},
   "outputs": [
    {
     "name": "stderr",
     "output_type": "stream",
     "text": [
      "c:\\Users\\mosai\\anaconda3\\envs\\ML\\Lib\\site-packages\\tqdm\\auto.py:21: TqdmWarning: IProgress not found. Please update jupyter and ipywidgets. See https://ipywidgets.readthedocs.io/en/stable/user_install.html\n",
      "  from .autonotebook import tqdm as notebook_tqdm\n"
     ]
    },
    {
     "name": "stdout",
     "output_type": "stream",
     "text": [
      "WARNING:tensorflow:From c:\\Users\\mosai\\anaconda3\\envs\\ML\\Lib\\site-packages\\tf_keras\\src\\losses.py:2976: The name tf.losses.sparse_softmax_cross_entropy is deprecated. Please use tf.compat.v1.losses.sparse_softmax_cross_entropy instead.\n",
      "\n"
     ]
    }
   ],
   "source": [
    "embeddings = HuggingFaceEmbeddings(model_name=\"sentence-transformers/all-mpnet-base-v2\")\n",
    "\n",
    "\n"
   ]
  },
  {
   "cell_type": "code",
   "execution_count": 10,
   "metadata": {},
   "outputs": [],
   "source": [
    "path = Path('faiss_mpnetv2_v0')\n",
    "if not path.exists():\n",
    "    vectorstore = FAISS.from_documents(all_documents, embeddings)\n",
    "    vectorstore.save_local('faiss_mpnetv2_v0')\n",
    "\n",
    "\n"
   ]
  },
  {
   "cell_type": "code",
   "execution_count": 11,
   "metadata": {},
   "outputs": [],
   "source": [
    "vectorstore = FAISS.load_local(\"faiss_mpnetv2_v0\", embeddings, allow_dangerous_deserialization=True)\n",
    "\n",
    "retriever = vectorstore.as_retriever(search_kwargs={\"k\": 50})"
   ]
  },
  {
   "cell_type": "code",
   "execution_count": 31,
   "metadata": {},
   "outputs": [],
   "source": [
    "llm_model = init_chat_model(\"llama-3.3-70b-versatile\", model_provider=\"groq\", temperature=0)\n",
    "# llm_model = init_chat_model('deepseek-r1-distill-llama-70b', model_provider='groq', temperature=0)"
   ]
  },
  {
   "cell_type": "code",
   "execution_count": 13,
   "metadata": {},
   "outputs": [],
   "source": [
    "# qa_chain = RetrievalQA.from_chain_type(\n",
    "#     llm=llm_model,\n",
    "#     chain_type=\"stuff\",        # \"stuff\" means it will stuff all retrieved docs into the prompt\n",
    "#     retriever=retriever\n",
    "# )"
   ]
  },
  {
   "cell_type": "markdown",
   "metadata": {},
   "source": [
    "# Structured Output"
   ]
  },
  {
   "cell_type": "code",
   "execution_count": null,
   "metadata": {},
   "outputs": [],
   "source": [
    "class Activity(BaseModel):\n",
    "    time: str = Field(..., description=\"Time of the activity\")\n",
    "    activity: str = Field(..., description=\"Name of the activity\")\n",
    "    location: str = Field(..., description=\"Location name\")\n",
    "    price_range: Optional[str] = Field(None, description=\"Price range or cost\")\n",
    "\n",
    "class DayPlan(BaseModel):\n",
    "    day: str = Field(..., description=\"Theme of the Day or Day label, e.g., 'Day 1'\")\n",
    "    activities: List[Activity] = Field(..., description=\"Activities planned for the day\")\n",
    "    approximate_cost: str = Field(..., description=\"Total cost for the day\")\n",
    "\n",
    "class TravelItinerary(BaseModel):\n",
    "    days: List[DayPlan] = Field(..., description=\"List of days with planned activities\")\n",
    "    total_approximate_cost: str = Field(..., description=\"Total cost for the trip\")\n",
    "    notes: Optional[str] = Field(None, description=\"Any additional notes or assumptions\")"
   ]
  },
  {
   "cell_type": "code",
   "execution_count": 15,
   "metadata": {},
   "outputs": [],
   "source": [
    "# prompt_template = PromptTemplate(\n",
    "#     input_variables=[\"context\", \"user_query\", \"favorite_places\", \"visitor_type\", \"num_days\", \"budget\"],\n",
    "#     template=\"\"\"You are a helpful travel planner AI.\n",
    "# Use the context below, which contains information about ticket prices, place descriptions, restaurant details, and art gallery information.\n",
    "\n",
    "# Context:\n",
    "# {context}\n",
    "\n",
    "# User Query:\n",
    "# {user_query}\n",
    "\n",
    "# Additional Preferences:\n",
    "# - Favorite types of places: {favorite_places}\n",
    "# - Visitor type: {visitor_type} (e.g., Egyptian, Egyptian student, Foreign, or foreign student)\n",
    "# - Number of travel days: {num_days}\n",
    "# - Overall budget for all days: {budget} EGP\n",
    "# - Exclude hotels from the plan.\n",
    "# - Ensure that the itinerary includes at least 3 meals per day.\n",
    "\n",
    "# Based on the above, return a detailed itinerary in a JSON format. \n",
    "# The JSON should have the following structure:\n",
    "\n",
    "# {\n",
    "#   \"days\": [\n",
    "#     {\n",
    "#       \"day\": \"Day 1\",\n",
    "#       \"activities\": [\n",
    "#          {\n",
    "#            \"time\": \"8:00 am\",\n",
    "#            \"activity\": \"Breakfast\",\n",
    "#            \"location\": \"Bab Sharq Luxor\",\n",
    "#            \"price_range\": \"E£100-200\"\n",
    "#          },\n",
    "#          {\n",
    "#            \"time\": \"9:00 am\",\n",
    "#            \"activity\": \"Visit\",\n",
    "#            \"location\": \"Luxor Museum\",\n",
    "#            \"ticket_cost\": \"400 EGP\"\n",
    "#          },\n",
    "#          ... // other activities for the day\n",
    "#       ],\n",
    "#       \"approximate_cost\": \"1200 EGP\"\n",
    "#     },\n",
    "#     ... // more days\n",
    "#   ],\n",
    "#   \"total_approximate_cost\": \"4210 EGP\",\n",
    "#   \"notes\": \"Any assumptions or additional notes.\"\n",
    "# }\n",
    "\n",
    "# Please ensure the output is valid JSON with no extra text.\n",
    "# \"\"\"\n",
    "# )"
   ]
  },
  {
   "cell_type": "code",
   "execution_count": 28,
   "metadata": {},
   "outputs": [],
   "source": [
    "json_schema = {\n",
    "    \"title\": \"TravelItinerary\",\n",
    "    \"description\": \"A structured travel itinerary for the user.\",\n",
    "    \"type\": \"object\",\n",
    "    \"properties\": {\n",
    "        \"days\": {\n",
    "            \"type\": \"array\",\n",
    "            \"description\": \"List of days with planned activities.\",\n",
    "            \"items\": {\n",
    "                \"type\": \"object\",\n",
    "                \"properties\": {\n",
    "                    \"day\": {\"type\": \"string\", \"description\": \"Theme of the Day or Day label, e.g., 'Day 1'\"},\n",
    "                    \"activities\": {\n",
    "                        \"type\": \"array\",\n",
    "                        \"description\": \"Activities planned for the day.\",\n",
    "                        \"items\": {\n",
    "                            \"type\": \"object\",\n",
    "                            \"properties\": {\n",
    "                                \"time\": {\"type\": \"string\", \"description\": \"Time of the activity\"},\n",
    "                                \"activity\": {\"type\": \"string\", \"description\": \"Name of the activity\"},\n",
    "                                \"location\": {\"type\": \"string\", \"description\": \"Location name\"},\n",
    "                                \"price_range\": {\"type\": \"string\", \"description\": \"Price range or cost\"},\n",
    "                            },\n",
    "                            \"required\": [\"time\", \"activity\", \"location\"]\n",
    "                        }\n",
    "                    },\n",
    "                    \"approximate_cost\": {\"type\": \"string\", \"description\": \"Total cost for the day\"}\n",
    "                },\n",
    "                \"required\": [\"day\", \"activities\", \"approximate_cost\"]\n",
    "            }\n",
    "        },\n",
    "        \"total_approximate_cost\": {\n",
    "            \"type\": \"string\",\n",
    "            \"description\": \"Total cost for the trip\"\n",
    "        },\n",
    "        \"notes\": {\n",
    "            \"type\": \"string\",\n",
    "            \"description\": \"Any additional notes or assumptions\"\n",
    "        }\n",
    "    },\n",
    "    \"required\": [\"days\", \"total_approximate_cost\"]\n",
    "}\n",
    "\n",
    "structured_llm = llm_model.with_structured_output(json_schema, include_raw=True)\n",
    "\n"
   ]
  },
  {
   "cell_type": "code",
   "execution_count": 17,
   "metadata": {},
   "outputs": [],
   "source": [
    "prompt_template = PromptTemplate(\n",
    "    input_variables=[\"context\", \"user_query\", \"favorite_places\", \"visitor_type\", \"num_days\", \"budget\"],\n",
    "    template=\"\"\"You are a helpful travel planner AI.\n",
    "Use the context below, which contains information about ticket prices, place descriptions, restaurant details, and art gallery information.\n",
    "\n",
    "Context:\n",
    "{context}\n",
    "\n",
    "User Query:\n",
    "{user_query}\n",
    "\n",
    "Additional Preferences:\n",
    "- Favorite types of places: {favorite_places}\n",
    "- Visitor type: {visitor_type} (e.g., Egyptian, Egyptian student, Foreign, or foreign student)\n",
    "- Number of travel days: {num_days}\n",
    "- Overall budget for all days: {budget} EGP\n",
    "- Exclude hotels from the plan.\n",
    "- Ensure that the itinerary includes at least 3 meals per day.\n",
    "\n",
    "Based on the above, return a detailed {num_days}-day travel itinerary with approximate costs and suggestions. If some details are missing, make reasonable assumptions and indicate them.\n",
    "\"\"\"\n",
    ")\n"
   ]
  },
  {
   "cell_type": "code",
   "execution_count": 18,
   "metadata": {},
   "outputs": [],
   "source": [
    "\n",
    "def generate_travel_plan(user_query, favorite_places, visitor_type, num_days, budget):\n",
    "    # 1. Retrieve relevant docs\n",
    "    docs = retriever.get_relevant_documents(user_query)\n",
    "    context_text = \"\\n\".join([doc.page_content for doc in docs])\n",
    "    # 2. Build the final prompt with the additional variables\n",
    "    prompt = prompt_template.format(\n",
    "        context=context_text,\n",
    "        user_query=user_query,\n",
    "        favorite_places=favorite_places,\n",
    "        visitor_type=visitor_type,\n",
    "        num_days=num_days,\n",
    "        budget=budget\n",
    "    )\n",
    "    # 3. Call the LLM\n",
    "    response = structured_llm.invoke(prompt)\n",
    "    return response\n"
   ]
  },
  {
   "cell_type": "code",
   "execution_count": 19,
   "metadata": {},
   "outputs": [],
   "source": [
    "user_query = \"Plan a 3-day trip in Luxor with visits to cultural sites, art galleries, and dining(restaurents) options.\"\n",
    "favorite_places = \"Cultural sites, historical landmarks, art galleries\"\n",
    "visitor_type = \"Foreign\"  # or \"Egyptian\", \"Egyptian student\", \"foreign student\"\n",
    "num_days = \"3\"\n",
    "budget = \"5000\"  # Overall budget in EGP\n",
    "\n"
   ]
  },
  {
   "cell_type": "code",
   "execution_count": 32,
   "metadata": {},
   "outputs": [
    {
     "name": "stdout",
     "output_type": "stream",
     "text": [
      "{'raw': AIMessage(content='', additional_kwargs={'tool_calls': [{'id': 'call_5fw3', 'function': {'arguments': '{\\n    \"days\": [\\n        {\\n            \"day\": \"Day 1: East Bank Exploration\",\\n            \"activities\": [\\n                {\\n                    \"activity\": \"Breakfast at AHLLAN Restaurant\",\\n                    \"location\": \"AHLLAN Restaurant\",\\n                    \"price_range\": \"E£100–200\",\\n                    \"time\": \"8:00 AM\"\\n                },\\n                {\\n                    \"activity\": \"Visit Luxor Temple\",\\n                    \"location\": \"Luxor Temple\",\\n                    \"price_range\": \"Foreign Ticket: 500 EGP\",\\n                    \"time\": \"9:00 AM\"\\n                },\\n                {\\n                    \"activity\": \"Lunch at Bab Sharq Luxor\",\\n                    \"location\": \"Bab Sharq Luxor\",\\n                    \"price_range\": \"E£100–200\",\\n                    \"time\": \"12:30 PM\"\\n                },\\n                {\\n                    \"activity\": \"Explore Karnak Temples\",\\n                    \"location\": \"Karnak Temples\",\\n                    \"price_range\": \"Foreign Ticket: 600 EGP\",\\n                    \"time\": \"2:00 PM\"\\n                },\\n                {\\n                    \"activity\": \"Dinner at Nubian House\",\\n                    \"location\": \"Nubian House\",\\n                    \"price_range\": \"E£100–200\",\\n                    \"time\": \"7:00 PM\"\\n                }\\n            ],\\n            \"approximate_cost\": \"Total: 1400 EGP\"\\n        },\\n        {\\n            \"day\": \"Day 2: West Bank Historical Journey\",\\n            \"activities\": [\\n                {\\n                    \"activity\": \"Breakfast at Café & Restaurant Maratonga\",\\n                    \"location\": \"Café & Restaurant Maratonga\",\\n                    \"price_range\": \"E£100–200\",\\n                    \"time\": \"8:00 AM\"\\n                },\\n                {\\n                    \"activity\": \"Visit Valley of the Kings\",\\n                    \"location\": \"Valley of the Kings\",\\n                    \"price_range\": \"Foreign Ticket: 750 EGP\",\\n                    \"time\": \"9:30 AM\"\\n                },\\n                {\\n                    \"activity\": \"Lunch at White Coffee & Restaurant\",\\n                    \"location\": \"White Coffee & Restaurant\",\\n                    \"price_range\": \"E£100–200\",\\n                    \"time\": \"12:30 PM\"\\n                },\\n                {\\n                    \"activity\": \"Explore Temple of Hatshepsut\",\\n                    \"location\": \"Temple of Hatshepsut\",\\n                    \"price_range\": \"Foreign Ticket: 440 EGP\",\\n                    \"time\": \"2:00 PM\"\\n                },\\n                {\\n                    \"activity\": \"Dinner at Wolf Restaurant\",\\n                    \"location\": \"Wolf Restaurant\",\\n                    \"price_range\": \"E£200–300\",\\n                    \"time\": \"7:00 PM\"\\n                }\\n            ],\\n            \"approximate_cost\": \"Total: 1750 EGP\"\\n        },\\n        {\\n            \"day\": \"Day 3: Cultural Immersion\",\\n            \"activities\": [\\n                {\\n                    \"activity\": \"Breakfast at Jamboree Restaurant\",\\n                    \"location\": \"Jamboree Restaurant\",\\n                    \"price_range\": \"E£100–200\",\\n                    \"time\": \"8:00 AM\"\\n                },\\n                {\\n                    \"activity\": \"Visit Medinet Habu\",\\n                    \"location\": \"Medinet Habu\",\\n                    \"price_range\": \"Foreign Ticket: 220 EGP\",\\n                    \"time\": \"9:30 AM\"\\n                },\\n                {\\n                    \"activity\": \"Lunch at Oasis Palace\",\\n                    \"location\": \"Oasis Palace\",\\n                    \"price_range\": \"E£100–200\",\\n                    \"time\": \"12:30 PM\"\\n                },\\n                {\\n                    \"activity\": \"Explore Deir al-Medina\",\\n                    \"location\": \"Deir al-Medina\",\\n                    \"price_range\": \"Foreign Ticket: 220 EGP\",\\n                    \"time\": \"2:00 PM\"\\n                },\\n                {\\n                    \"activity\": \"Dinner at Restaurant Mohamed\",\\n                    \"location\": \"Restaurant Mohamed\",\\n                    \"price_range\": \"E£100–200\",\\n                    \"time\": \"7:00 PM\"\\n                }\\n            ],\\n            \"approximate_cost\": \"Total: 1250 EGP\"\\n        }\\n    ],\\n    \"notes\": \"Assumptions: Transportation costs are not included in the itinerary. Meal prices are approximate and may vary based on specific menu choices.\",\\n    \"total_approximate_cost\": \"Total: 4400 EGP\"\\n}', 'name': 'TravelItinerary'}, 'type': 'function'}]}, response_metadata={'token_usage': {'completion_tokens': 1415, 'prompt_tokens': 4070, 'total_tokens': 5485, 'completion_time': 5.145454545, 'prompt_time': 0.214981186, 'queue_time': 0.32225223100000006, 'total_time': 5.360435731}, 'model_name': 'deepseek-r1-distill-llama-70b', 'system_fingerprint': 'fp_51fe4ed3fd', 'finish_reason': 'tool_calls', 'logprobs': None}, id='run-56e76cec-0f40-44b1-9835-df82a51f78bb-0', tool_calls=[{'name': 'TravelItinerary', 'args': {'days': [{'day': 'Day 1: East Bank Exploration', 'activities': [{'activity': 'Breakfast at AHLLAN Restaurant', 'location': 'AHLLAN Restaurant', 'price_range': 'E£100–200', 'time': '8:00 AM'}, {'activity': 'Visit Luxor Temple', 'location': 'Luxor Temple', 'price_range': 'Foreign Ticket: 500 EGP', 'time': '9:00 AM'}, {'activity': 'Lunch at Bab Sharq Luxor', 'location': 'Bab Sharq Luxor', 'price_range': 'E£100–200', 'time': '12:30 PM'}, {'activity': 'Explore Karnak Temples', 'location': 'Karnak Temples', 'price_range': 'Foreign Ticket: 600 EGP', 'time': '2:00 PM'}, {'activity': 'Dinner at Nubian House', 'location': 'Nubian House', 'price_range': 'E£100–200', 'time': '7:00 PM'}], 'approximate_cost': 'Total: 1400 EGP'}, {'day': 'Day 2: West Bank Historical Journey', 'activities': [{'activity': 'Breakfast at Café & Restaurant Maratonga', 'location': 'Café & Restaurant Maratonga', 'price_range': 'E£100–200', 'time': '8:00 AM'}, {'activity': 'Visit Valley of the Kings', 'location': 'Valley of the Kings', 'price_range': 'Foreign Ticket: 750 EGP', 'time': '9:30 AM'}, {'activity': 'Lunch at White Coffee & Restaurant', 'location': 'White Coffee & Restaurant', 'price_range': 'E£100–200', 'time': '12:30 PM'}, {'activity': 'Explore Temple of Hatshepsut', 'location': 'Temple of Hatshepsut', 'price_range': 'Foreign Ticket: 440 EGP', 'time': '2:00 PM'}, {'activity': 'Dinner at Wolf Restaurant', 'location': 'Wolf Restaurant', 'price_range': 'E£200–300', 'time': '7:00 PM'}], 'approximate_cost': 'Total: 1750 EGP'}, {'day': 'Day 3: Cultural Immersion', 'activities': [{'activity': 'Breakfast at Jamboree Restaurant', 'location': 'Jamboree Restaurant', 'price_range': 'E£100–200', 'time': '8:00 AM'}, {'activity': 'Visit Medinet Habu', 'location': 'Medinet Habu', 'price_range': 'Foreign Ticket: 220 EGP', 'time': '9:30 AM'}, {'activity': 'Lunch at Oasis Palace', 'location': 'Oasis Palace', 'price_range': 'E£100–200', 'time': '12:30 PM'}, {'activity': 'Explore Deir al-Medina', 'location': 'Deir al-Medina', 'price_range': 'Foreign Ticket: 220 EGP', 'time': '2:00 PM'}, {'activity': 'Dinner at Restaurant Mohamed', 'location': 'Restaurant Mohamed', 'price_range': 'E£100–200', 'time': '7:00 PM'}], 'approximate_cost': 'Total: 1250 EGP'}], 'notes': 'Assumptions: Transportation costs are not included in the itinerary. Meal prices are approximate and may vary based on specific menu choices.', 'total_approximate_cost': 'Total: 4400 EGP'}, 'id': 'call_5fw3', 'type': 'tool_call'}], usage_metadata={'input_tokens': 4070, 'output_tokens': 1415, 'total_tokens': 5485}), 'parsed': {'days': [{'day': 'Day 1: East Bank Exploration', 'activities': [{'activity': 'Breakfast at AHLLAN Restaurant', 'location': 'AHLLAN Restaurant', 'price_range': 'E£100–200', 'time': '8:00 AM'}, {'activity': 'Visit Luxor Temple', 'location': 'Luxor Temple', 'price_range': 'Foreign Ticket: 500 EGP', 'time': '9:00 AM'}, {'activity': 'Lunch at Bab Sharq Luxor', 'location': 'Bab Sharq Luxor', 'price_range': 'E£100–200', 'time': '12:30 PM'}, {'activity': 'Explore Karnak Temples', 'location': 'Karnak Temples', 'price_range': 'Foreign Ticket: 600 EGP', 'time': '2:00 PM'}, {'activity': 'Dinner at Nubian House', 'location': 'Nubian House', 'price_range': 'E£100–200', 'time': '7:00 PM'}], 'approximate_cost': 'Total: 1400 EGP'}, {'day': 'Day 2: West Bank Historical Journey', 'activities': [{'activity': 'Breakfast at Café & Restaurant Maratonga', 'location': 'Café & Restaurant Maratonga', 'price_range': 'E£100–200', 'time': '8:00 AM'}, {'activity': 'Visit Valley of the Kings', 'location': 'Valley of the Kings', 'price_range': 'Foreign Ticket: 750 EGP', 'time': '9:30 AM'}, {'activity': 'Lunch at White Coffee & Restaurant', 'location': 'White Coffee & Restaurant', 'price_range': 'E£100–200', 'time': '12:30 PM'}, {'activity': 'Explore Temple of Hatshepsut', 'location': 'Temple of Hatshepsut', 'price_range': 'Foreign Ticket: 440 EGP', 'time': '2:00 PM'}, {'activity': 'Dinner at Wolf Restaurant', 'location': 'Wolf Restaurant', 'price_range': 'E£200–300', 'time': '7:00 PM'}], 'approximate_cost': 'Total: 1750 EGP'}, {'day': 'Day 3: Cultural Immersion', 'activities': [{'activity': 'Breakfast at Jamboree Restaurant', 'location': 'Jamboree Restaurant', 'price_range': 'E£100–200', 'time': '8:00 AM'}, {'activity': 'Visit Medinet Habu', 'location': 'Medinet Habu', 'price_range': 'Foreign Ticket: 220 EGP', 'time': '9:30 AM'}, {'activity': 'Lunch at Oasis Palace', 'location': 'Oasis Palace', 'price_range': 'E£100–200', 'time': '12:30 PM'}, {'activity': 'Explore Deir al-Medina', 'location': 'Deir al-Medina', 'price_range': 'Foreign Ticket: 220 EGP', 'time': '2:00 PM'}, {'activity': 'Dinner at Restaurant Mohamed', 'location': 'Restaurant Mohamed', 'price_range': 'E£100–200', 'time': '7:00 PM'}], 'approximate_cost': 'Total: 1250 EGP'}], 'notes': 'Assumptions: Transportation costs are not included in the itinerary. Meal prices are approximate and may vary based on specific menu choices.', 'total_approximate_cost': 'Total: 4400 EGP'}, 'parsing_error': None}\n"
     ]
    }
   ],
   "source": [
    "travel_plan = generate_travel_plan(user_query, favorite_places, visitor_type, num_days, budget)\n",
    "print(travel_plan)\n"
   ]
  },
  {
   "cell_type": "code",
   "execution_count": 21,
   "metadata": {},
   "outputs": [
    {
     "data": {
      "text/plain": [
       "AIMessage(content='', additional_kwargs={'tool_calls': [{'id': 'call_07dx', 'function': {'arguments': '{\"days\":[{\"day\":\"Day 1\",\"activities\":[{\"activity\":\"Visit Luxor Museum\",\"location\":\"Kornish Al Nile, Luxor City, Luxor, Luxor Governorate 1362503, Egypt\",\"time\":\"9:00 AM\",\"price_range\":\"Foreign Ticket: 400\"}],\"approximate_cost\":\"E£ 400\"},{\"day\":\"Day 2\",\"activities\":[{\"activity\":\"Explore Karnak Temples\",\"location\":\"Luxor, Luxor Governorate\",\"time\":\"6:00 AM\",\"price_range\":\"Foreign Ticket: 600\"}],\"approximate_cost\":\"E£ 600\"},{\"day\":\"Day 3\",\"activities\":[{\"activity\":\"Visit Luxor Art Gallery\",\"location\":\"Memnon Street, Al Bairat, Al Qarna, Luxor Governorate 1341472, Egypt\",\"time\":\"10:00 AM\",\"price_range\":\"Foreign Ticket: 50\"}],\"approximate_cost\":\"E£ 50\"}],\"total_approximate_cost\":\"E£ 1050\"}', 'name': 'TravelItinerary'}, 'type': 'function'}]}, response_metadata={'token_usage': {'completion_tokens': 218, 'prompt_tokens': 4086, 'total_tokens': 4304, 'completion_time': 0.792727273, 'prompt_time': 0.205291182, 'queue_time': 0.30602349000000006, 'total_time': 0.998018455}, 'model_name': 'deepseek-r1-distill-llama-70b', 'system_fingerprint': 'fp_ac4590a03e', 'finish_reason': 'tool_calls', 'logprobs': None}, id='run-3d8cddd6-1cad-46d4-b4bf-9a4daabae17e-0', tool_calls=[{'name': 'TravelItinerary', 'args': {'days': [{'day': 'Day 1', 'activities': [{'activity': 'Visit Luxor Museum', 'location': 'Kornish Al Nile, Luxor City, Luxor, Luxor Governorate 1362503, Egypt', 'time': '9:00 AM', 'price_range': 'Foreign Ticket: 400'}], 'approximate_cost': 'E£ 400'}, {'day': 'Day 2', 'activities': [{'activity': 'Explore Karnak Temples', 'location': 'Luxor, Luxor Governorate', 'time': '6:00 AM', 'price_range': 'Foreign Ticket: 600'}], 'approximate_cost': 'E£ 600'}, {'day': 'Day 3', 'activities': [{'activity': 'Visit Luxor Art Gallery', 'location': 'Memnon Street, Al Bairat, Al Qarna, Luxor Governorate 1341472, Egypt', 'time': '10:00 AM', 'price_range': 'Foreign Ticket: 50'}], 'approximate_cost': 'E£ 50'}], 'total_approximate_cost': 'E£ 1050'}, 'id': 'call_07dx', 'type': 'tool_call'}], usage_metadata={'input_tokens': 4086, 'output_tokens': 218, 'total_tokens': 4304})"
      ]
     },
     "execution_count": 21,
     "metadata": {},
     "output_type": "execute_result"
    }
   ],
   "source": [
    "travel_plan['raw']"
   ]
  },
  {
   "cell_type": "code",
   "execution_count": 22,
   "metadata": {},
   "outputs": [],
   "source": [
    "# travel_plan_qa = qa_chain.invoke(user_query)\n",
    "# print(travel_plan_qa)"
   ]
  }
 ],
 "metadata": {
  "kernelspec": {
   "display_name": "ML",
   "language": "python",
   "name": "python3"
  },
  "language_info": {
   "codemirror_mode": {
    "name": "ipython",
    "version": 3
   },
   "file_extension": ".py",
   "mimetype": "text/x-python",
   "name": "python",
   "nbconvert_exporter": "python",
   "pygments_lexer": "ipython3",
   "version": "3.12.3"
  }
 },
 "nbformat": 4,
 "nbformat_minor": 2
}
